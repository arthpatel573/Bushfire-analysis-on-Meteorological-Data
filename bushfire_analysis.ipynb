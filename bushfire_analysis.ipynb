{
 "cells": [
  {
   "cell_type": "markdown",
   "metadata": {},
   "source": [
    "# Bushfire Analysis using Meteorological Data\n",
    "\n",
    "Programming Language: R 3.5.1 in Jupyter Notebook\n",
    "\n",
    "R Libraries used:\n",
    "- psych\n",
    "- ggplot2\n",
    "- ggpubr\n",
    "- dplyr\n",
    "- reshape2\n",
    "- lightgbm\n",
    "- rpart\n",
    "- caret\n",
    "- methods\n",
    "- leaps\n",
    "- glmnet\n",
    "- ipred\n",
    "- plyr\n",
    "- data.table\n",
    "- Matrix"
   ]
  },
  {
   "cell_type": "markdown",
   "metadata": {},
   "source": [
    "## Table of Contents\n",
    "\n",
    "* [Introduction](#sec_1)\n",
    "* [Data Exploration](#sec_2)\n",
    "* [Model Development](#sec_3)\n",
    "* [Model Comparison](#sec_4)\n",
    "* [Variable Identification and Explanation](#sec_5)\n",
    "* [Conclusion](#sec_6)\n",
    "* [References](#sec_7)"
   ]
  },
  {
   "cell_type": "markdown",
   "metadata": {},
   "source": [
    "## 1. Introduction <a class=\"anchor\" id=\"sec_1\"></a>"
   ]
  },
  {
   "cell_type": "markdown",
   "metadata": {},
   "source": [
    "### Dataset description  \n",
    "\n",
    "   1. **X** - x-axis spatial coordinate within the Montesinho park map: 1 to 9\n",
    "   2. **Y** - y-axis spatial coordinate within the Montesinho park map: 2 to 9\n",
    "   3. **month** - month of the year: \"jan\" to \"dec\" \n",
    "   4. **day** - day of the week: \"mon\" to \"sun\"\n",
    "   5. **FFMC** - FFMC index from the FWI system. It is a rating of fine fuels. It shows relative ease of ignition of fuels. 18.7 to 96.20\n",
    "   6. **DMC** - DMC index from the FWI system. It is a numerical rating of the average moisture content of organic layers at moderate depth :  1.1 to 291.3 [Read more](https://www.malagaweather.com/fwi-txt.htm)\n",
    "   7. **DC** - DC index from the FWI system. It is a numerical rating of the moisture content of deep, compact organic layers. 7.9 to 860.6 \n",
    "   8. **ISI** - ISI index from the FWI system. Rate at which fire will spread in early stages: 0.0 to 56.10\n",
    "   9. **temp** - temperature in Celsius degrees: 2.2 to 33.30\n",
    "   10. **RH** - relative humidity in %: 15.0 to 100\n",
    "   11. **wind** - wind speed in km/h: 0.40 to 9.40 \n",
    "   12. **rain** - outside rain in mm/m2 : 0.0 to 6.4 \n",
    "   13. **area** - the burned area of the forest (in ha): 0.00 to 1090.84 \n",
    "   \n",
    "   No missing values present"
   ]
  },
  {
   "cell_type": "markdown",
   "metadata": {},
   "source": [
    "### Read and clean data "
   ]
  },
  {
   "cell_type": "code",
   "execution_count": 1,
   "metadata": {},
   "outputs": [],
   "source": [
    "fire_df <- read.csv('forestfires.csv', header = TRUE)"
   ]
  },
  {
   "cell_type": "code",
   "execution_count": 2,
   "metadata": {},
   "outputs": [
    {
     "data": {
      "text/html": [
       "<ol class=list-inline>\n",
       "\t<li>517</li>\n",
       "\t<li>13</li>\n",
       "</ol>\n"
      ],
      "text/latex": [
       "\\begin{enumerate*}\n",
       "\\item 517\n",
       "\\item 13\n",
       "\\end{enumerate*}\n"
      ],
      "text/markdown": [
       "1. 517\n",
       "2. 13\n",
       "\n",
       "\n"
      ],
      "text/plain": [
       "[1] 517  13"
      ]
     },
     "metadata": {},
     "output_type": "display_data"
    }
   ],
   "source": [
    "dim(fire_df)"
   ]
  },
  {
   "cell_type": "code",
   "execution_count": 3,
   "metadata": {},
   "outputs": [
    {
     "data": {
      "text/html": [
       "<table>\n",
       "<thead><tr><th scope=col>X</th><th scope=col>Y</th><th scope=col>month</th><th scope=col>day</th><th scope=col>FFMC</th><th scope=col>DMC</th><th scope=col>DC</th><th scope=col>ISI</th><th scope=col>temp</th><th scope=col>RH</th><th scope=col>wind</th><th scope=col>rain</th><th scope=col>area</th></tr></thead>\n",
       "<tbody>\n",
       "\t<tr><td>7    </td><td>5    </td><td>mar  </td><td>fri  </td><td>86.2 </td><td>26.2 </td><td> 94.3</td><td> 5.1 </td><td> 8.2 </td><td>51   </td><td>6.7  </td><td>0.0  </td><td>0    </td></tr>\n",
       "\t<tr><td>7    </td><td>4    </td><td>oct  </td><td>tue  </td><td>90.6 </td><td>35.4 </td><td>669.1</td><td> 6.7 </td><td>18.0 </td><td>33   </td><td>0.9  </td><td>0.0  </td><td>0    </td></tr>\n",
       "\t<tr><td>7    </td><td>4    </td><td>oct  </td><td>sat  </td><td>90.6 </td><td>43.7 </td><td>686.9</td><td> 6.7 </td><td>14.6 </td><td>33   </td><td>1.3  </td><td>0.0  </td><td>0    </td></tr>\n",
       "\t<tr><td>8    </td><td>6    </td><td>mar  </td><td>fri  </td><td>91.7 </td><td>33.3 </td><td> 77.5</td><td> 9.0 </td><td> 8.3 </td><td>97   </td><td>4.0  </td><td>0.2  </td><td>0    </td></tr>\n",
       "\t<tr><td>8    </td><td>6    </td><td>mar  </td><td>sun  </td><td>89.3 </td><td>51.3 </td><td>102.2</td><td> 9.6 </td><td>11.4 </td><td>99   </td><td>1.8  </td><td>0.0  </td><td>0    </td></tr>\n",
       "\t<tr><td>8    </td><td>6    </td><td>aug  </td><td>sun  </td><td>92.3 </td><td>85.3 </td><td>488.0</td><td>14.7 </td><td>22.2 </td><td>29   </td><td>5.4  </td><td>0.0  </td><td>0    </td></tr>\n",
       "</tbody>\n",
       "</table>\n"
      ],
      "text/latex": [
       "\\begin{tabular}{r|lllllllllllll}\n",
       " X & Y & month & day & FFMC & DMC & DC & ISI & temp & RH & wind & rain & area\\\\\n",
       "\\hline\n",
       "\t 7     & 5     & mar   & fri   & 86.2  & 26.2  &  94.3 &  5.1  &  8.2  & 51    & 6.7   & 0.0   & 0    \\\\\n",
       "\t 7     & 4     & oct   & tue   & 90.6  & 35.4  & 669.1 &  6.7  & 18.0  & 33    & 0.9   & 0.0   & 0    \\\\\n",
       "\t 7     & 4     & oct   & sat   & 90.6  & 43.7  & 686.9 &  6.7  & 14.6  & 33    & 1.3   & 0.0   & 0    \\\\\n",
       "\t 8     & 6     & mar   & fri   & 91.7  & 33.3  &  77.5 &  9.0  &  8.3  & 97    & 4.0   & 0.2   & 0    \\\\\n",
       "\t 8     & 6     & mar   & sun   & 89.3  & 51.3  & 102.2 &  9.6  & 11.4  & 99    & 1.8   & 0.0   & 0    \\\\\n",
       "\t 8     & 6     & aug   & sun   & 92.3  & 85.3  & 488.0 & 14.7  & 22.2  & 29    & 5.4   & 0.0   & 0    \\\\\n",
       "\\end{tabular}\n"
      ],
      "text/markdown": [
       "\n",
       "X | Y | month | day | FFMC | DMC | DC | ISI | temp | RH | wind | rain | area | \n",
       "|---|---|---|---|---|---|\n",
       "| 7     | 5     | mar   | fri   | 86.2  | 26.2  |  94.3 |  5.1  |  8.2  | 51    | 6.7   | 0.0   | 0     | \n",
       "| 7     | 4     | oct   | tue   | 90.6  | 35.4  | 669.1 |  6.7  | 18.0  | 33    | 0.9   | 0.0   | 0     | \n",
       "| 7     | 4     | oct   | sat   | 90.6  | 43.7  | 686.9 |  6.7  | 14.6  | 33    | 1.3   | 0.0   | 0     | \n",
       "| 8     | 6     | mar   | fri   | 91.7  | 33.3  |  77.5 |  9.0  |  8.3  | 97    | 4.0   | 0.2   | 0     | \n",
       "| 8     | 6     | mar   | sun   | 89.3  | 51.3  | 102.2 |  9.6  | 11.4  | 99    | 1.8   | 0.0   | 0     | \n",
       "| 8     | 6     | aug   | sun   | 92.3  | 85.3  | 488.0 | 14.7  | 22.2  | 29    | 5.4   | 0.0   | 0     | \n",
       "\n",
       "\n"
      ],
      "text/plain": [
       "  X Y month day FFMC DMC  DC    ISI  temp RH wind rain area\n",
       "1 7 5 mar   fri 86.2 26.2  94.3  5.1  8.2 51 6.7  0.0  0   \n",
       "2 7 4 oct   tue 90.6 35.4 669.1  6.7 18.0 33 0.9  0.0  0   \n",
       "3 7 4 oct   sat 90.6 43.7 686.9  6.7 14.6 33 1.3  0.0  0   \n",
       "4 8 6 mar   fri 91.7 33.3  77.5  9.0  8.3 97 4.0  0.2  0   \n",
       "5 8 6 mar   sun 89.3 51.3 102.2  9.6 11.4 99 1.8  0.0  0   \n",
       "6 8 6 aug   sun 92.3 85.3 488.0 14.7 22.2 29 5.4  0.0  0   "
      ]
     },
     "metadata": {},
     "output_type": "display_data"
    }
   ],
   "source": [
    "head(fire_df)"
   ]
  },
  {
   "cell_type": "markdown",
   "metadata": {},
   "source": [
    "## 2. Data Exploration<a class=\"anchor\" id=\"sec_2\"></a>"
   ]
  },
  {
   "cell_type": "markdown",
   "metadata": {},
   "source": [
    "### Descriptive Statistics"
   ]
  },
  {
   "cell_type": "code",
   "execution_count": 4,
   "metadata": {},
   "outputs": [
    {
     "data": {
      "text/plain": [
       "       X               Y           month      day          FFMC      \n",
       " Min.   :1.000   Min.   :2.0   aug    :184   fri:85   Min.   :18.70  \n",
       " 1st Qu.:3.000   1st Qu.:4.0   sep    :172   mon:74   1st Qu.:90.20  \n",
       " Median :4.000   Median :4.0   mar    : 54   sat:84   Median :91.60  \n",
       " Mean   :4.669   Mean   :4.3   jul    : 32   sun:95   Mean   :90.64  \n",
       " 3rd Qu.:7.000   3rd Qu.:5.0   feb    : 20   thu:61   3rd Qu.:92.90  \n",
       " Max.   :9.000   Max.   :9.0   jun    : 17   tue:64   Max.   :96.20  \n",
       "                               (Other): 38   wed:54                  \n",
       "      DMC              DC             ISI              temp      \n",
       " Min.   :  1.1   Min.   :  7.9   Min.   : 0.000   Min.   : 2.20  \n",
       " 1st Qu.: 68.6   1st Qu.:437.7   1st Qu.: 6.500   1st Qu.:15.50  \n",
       " Median :108.3   Median :664.2   Median : 8.400   Median :19.30  \n",
       " Mean   :110.9   Mean   :547.9   Mean   : 9.022   Mean   :18.89  \n",
       " 3rd Qu.:142.4   3rd Qu.:713.9   3rd Qu.:10.800   3rd Qu.:22.80  \n",
       " Max.   :291.3   Max.   :860.6   Max.   :56.100   Max.   :33.30  \n",
       "                                                                 \n",
       "       RH              wind            rain              area        \n",
       " Min.   : 15.00   Min.   :0.400   Min.   :0.00000   Min.   :   0.00  \n",
       " 1st Qu.: 33.00   1st Qu.:2.700   1st Qu.:0.00000   1st Qu.:   0.00  \n",
       " Median : 42.00   Median :4.000   Median :0.00000   Median :   0.52  \n",
       " Mean   : 44.29   Mean   :4.018   Mean   :0.02166   Mean   :  12.85  \n",
       " 3rd Qu.: 53.00   3rd Qu.:4.900   3rd Qu.:0.00000   3rd Qu.:   6.57  \n",
       " Max.   :100.00   Max.   :9.400   Max.   :6.40000   Max.   :1090.84  \n",
       "                                                                     "
      ]
     },
     "metadata": {},
     "output_type": "display_data"
    }
   ],
   "source": [
    "summary(fire_df)"
   ]
  },
  {
   "cell_type": "markdown",
   "metadata": {},
   "source": [
    "Maximum area of fire at a particular X, Y point is **1090.84.**"
   ]
  },
  {
   "cell_type": "code",
   "execution_count": 5,
   "metadata": {},
   "outputs": [
    {
     "name": "stdout",
     "output_type": "stream",
     "text": [
      "'data.frame':\t517 obs. of  13 variables:\n",
      " $ X    : int  7 7 7 8 8 8 8 8 8 7 ...\n",
      " $ Y    : int  5 4 4 6 6 6 6 6 6 5 ...\n",
      " $ month: Factor w/ 12 levels \"apr\",\"aug\",\"dec\",..: 8 11 11 8 8 2 2 2 12 12 ...\n",
      " $ day  : Factor w/ 7 levels \"fri\",\"mon\",\"sat\",..: 1 6 3 1 4 4 2 2 6 3 ...\n",
      " $ FFMC : num  86.2 90.6 90.6 91.7 89.3 92.3 92.3 91.5 91 92.5 ...\n",
      " $ DMC  : num  26.2 35.4 43.7 33.3 51.3 ...\n",
      " $ DC   : num  94.3 669.1 686.9 77.5 102.2 ...\n",
      " $ ISI  : num  5.1 6.7 6.7 9 9.6 14.7 8.5 10.7 7 7.1 ...\n",
      " $ temp : num  8.2 18 14.6 8.3 11.4 22.2 24.1 8 13.1 22.8 ...\n",
      " $ RH   : int  51 33 33 97 99 29 27 86 63 40 ...\n",
      " $ wind : num  6.7 0.9 1.3 4 1.8 5.4 3.1 2.2 5.4 4 ...\n",
      " $ rain : num  0 0 0 0.2 0 0 0 0 0 0 ...\n",
      " $ area : num  0 0 0 0 0 0 0 0 0 0 ...\n"
     ]
    }
   ],
   "source": [
    "str(fire_df)"
   ]
  },
  {
   "cell_type": "code",
   "execution_count": 6,
   "metadata": {},
   "outputs": [
    {
     "data": {
      "text/html": [
       "<table>\n",
       "<thead><tr><th></th><th scope=col>vars</th><th scope=col>n</th><th scope=col>mean</th><th scope=col>sd</th><th scope=col>median</th><th scope=col>trimmed</th><th scope=col>mad</th><th scope=col>min</th><th scope=col>max</th><th scope=col>range</th><th scope=col>skew</th><th scope=col>kurtosis</th><th scope=col>se</th></tr></thead>\n",
       "<tbody>\n",
       "\t<tr><th scope=row>X</th><td> 1          </td><td>517         </td><td>  4.66924565</td><td>  2.3137778 </td><td>  4.00      </td><td>  4.672289  </td><td>  2.965200  </td><td> 1.0        </td><td>   9.00     </td><td>   8.00     </td><td> 0.03603577 </td><td> -1.1796691 </td><td> 0.10175983 </td></tr>\n",
       "\t<tr><th scope=row>Y</th><td> 2          </td><td>517         </td><td>  4.29980658</td><td>  1.2299004 </td><td>  4.00      </td><td>  4.308434  </td><td>  1.482600  </td><td> 2.0        </td><td>   9.00     </td><td>   7.00     </td><td> 0.41487792 </td><td>  1.3782826 </td><td> 0.05409096 </td></tr>\n",
       "\t<tr><th scope=row>month*</th><td> 3          </td><td>517         </td><td>  6.75822050</td><td>  4.3732754 </td><td>  7.00      </td><td>  6.720482  </td><td>  7.413000  </td><td> 1.0        </td><td>  12.00     </td><td>  11.00     </td><td> 0.08358697 </td><td> -1.7193189 </td><td> 0.19233643 </td></tr>\n",
       "\t<tr><th scope=row>day*</th><td> 4          </td><td>517         </td><td>  3.73694391</td><td>  1.9250613 </td><td>  4.00      </td><td>  3.672289  </td><td>  2.965200  </td><td> 1.0        </td><td>   7.00     </td><td>   6.00     </td><td> 0.15684203 </td><td> -1.1093028 </td><td> 0.08466410 </td></tr>\n",
       "\t<tr><th scope=row>FFMC</th><td> 5          </td><td>517         </td><td> 90.64468085</td><td>  5.5201108 </td><td> 91.60      </td><td> 91.454940  </td><td>  1.927380  </td><td>18.7        </td><td>  96.20     </td><td>  77.50     </td><td>-6.53749886 </td><td> 66.1393621 </td><td> 0.24277420 </td></tr>\n",
       "\t<tr><th scope=row>DMC</th><td> 6          </td><td>517         </td><td>110.87234043</td><td> 64.0464822 </td><td>108.30      </td><td>106.522410  </td><td> 51.742740  </td><td> 1.1        </td><td> 291.30     </td><td> 290.20     </td><td> 0.54432492 </td><td>  0.1789299 </td><td> 2.81676107 </td></tr>\n",
       "\t<tr><th scope=row>DC</th><td> 7          </td><td>517         </td><td>547.94003868</td><td>248.0661917 </td><td>664.20      </td><td>578.692289  </td><td>118.904520  </td><td> 7.9        </td><td> 860.60     </td><td> 852.70     </td><td>-1.09406780 </td><td> -0.2650719 </td><td>10.90993864 </td></tr>\n",
       "\t<tr><th scope=row>ISI</th><td> 8          </td><td>517         </td><td>  9.02166344</td><td>  4.5594772 </td><td>  8.40      </td><td>  8.727470  </td><td>  3.113460  </td><td> 0.0        </td><td>  56.10     </td><td>  56.10     </td><td> 2.52162669 </td><td> 21.1458110 </td><td> 0.20052558 </td></tr>\n",
       "\t<tr><th scope=row>temp</th><td> 9          </td><td>517         </td><td> 18.88916828</td><td>  5.8066253 </td><td> 19.30      </td><td> 19.091084  </td><td>  5.337360  </td><td> 2.2        </td><td>  33.30     </td><td>  31.10     </td><td>-0.32925302 </td><td>  0.1111986 </td><td> 0.25537509 </td></tr>\n",
       "\t<tr><th scope=row>RH</th><td>10          </td><td>517         </td><td> 44.28820116</td><td> 16.3174692 </td><td> 42.00      </td><td> 42.706024  </td><td> 14.826000  </td><td>15.0        </td><td> 100.00     </td><td>  85.00     </td><td> 0.85790328 </td><td>  0.4091470 </td><td> 0.71764148 </td></tr>\n",
       "\t<tr><th scope=row>wind</th><td>11          </td><td>517         </td><td>  4.01760155</td><td>  1.7916526 </td><td>  4.00      </td><td>  3.898795  </td><td>  1.927380  </td><td> 0.4        </td><td>   9.40     </td><td>   9.00     </td><td> 0.56769205 </td><td>  0.0304595 </td><td> 0.07879679 </td></tr>\n",
       "\t<tr><th scope=row>rain</th><td>12          </td><td>517         </td><td>  0.02166344</td><td>  0.2959591 </td><td>  0.00      </td><td>  0.000000  </td><td>  0.000000  </td><td> 0.0        </td><td>   6.40     </td><td>   6.40     </td><td>19.70150380 </td><td>415.5969287 </td><td> 0.01301627 </td></tr>\n",
       "\t<tr><th scope=row>area</th><td>13          </td><td>517         </td><td> 12.84729207</td><td> 63.6558185 </td><td>  0.52      </td><td>  3.181952  </td><td>  0.770952  </td><td> 0.0        </td><td>1090.84     </td><td>1090.84     </td><td>12.77248266 </td><td>191.5020312 </td><td> 2.79957970 </td></tr>\n",
       "</tbody>\n",
       "</table>\n"
      ],
      "text/latex": [
       "\\begin{tabular}{r|lllllllllllll}\n",
       "  & vars & n & mean & sd & median & trimmed & mad & min & max & range & skew & kurtosis & se\\\\\n",
       "\\hline\n",
       "\tX &  1           & 517          &   4.66924565 &   2.3137778  &   4.00       &   4.672289   &   2.965200   &  1.0         &    9.00      &    8.00      &  0.03603577  &  -1.1796691  &  0.10175983 \\\\\n",
       "\tY &  2           & 517          &   4.29980658 &   1.2299004  &   4.00       &   4.308434   &   1.482600   &  2.0         &    9.00      &    7.00      &  0.41487792  &   1.3782826  &  0.05409096 \\\\\n",
       "\tmonth* &  3           & 517          &   6.75822050 &   4.3732754  &   7.00       &   6.720482   &   7.413000   &  1.0         &   12.00      &   11.00      &  0.08358697  &  -1.7193189  &  0.19233643 \\\\\n",
       "\tday* &  4           & 517          &   3.73694391 &   1.9250613  &   4.00       &   3.672289   &   2.965200   &  1.0         &    7.00      &    6.00      &  0.15684203  &  -1.1093028  &  0.08466410 \\\\\n",
       "\tFFMC &  5           & 517          &  90.64468085 &   5.5201108  &  91.60       &  91.454940   &   1.927380   & 18.7         &   96.20      &   77.50      & -6.53749886  &  66.1393621  &  0.24277420 \\\\\n",
       "\tDMC &  6           & 517          & 110.87234043 &  64.0464822  & 108.30       & 106.522410   &  51.742740   &  1.1         &  291.30      &  290.20      &  0.54432492  &   0.1789299  &  2.81676107 \\\\\n",
       "\tDC &  7           & 517          & 547.94003868 & 248.0661917  & 664.20       & 578.692289   & 118.904520   &  7.9         &  860.60      &  852.70      & -1.09406780  &  -0.2650719  & 10.90993864 \\\\\n",
       "\tISI &  8           & 517          &   9.02166344 &   4.5594772  &   8.40       &   8.727470   &   3.113460   &  0.0         &   56.10      &   56.10      &  2.52162669  &  21.1458110  &  0.20052558 \\\\\n",
       "\ttemp &  9           & 517          &  18.88916828 &   5.8066253  &  19.30       &  19.091084   &   5.337360   &  2.2         &   33.30      &   31.10      & -0.32925302  &   0.1111986  &  0.25537509 \\\\\n",
       "\tRH & 10           & 517          &  44.28820116 &  16.3174692  &  42.00       &  42.706024   &  14.826000   & 15.0         &  100.00      &   85.00      &  0.85790328  &   0.4091470  &  0.71764148 \\\\\n",
       "\twind & 11           & 517          &   4.01760155 &   1.7916526  &   4.00       &   3.898795   &   1.927380   &  0.4         &    9.40      &    9.00      &  0.56769205  &   0.0304595  &  0.07879679 \\\\\n",
       "\train & 12           & 517          &   0.02166344 &   0.2959591  &   0.00       &   0.000000   &   0.000000   &  0.0         &    6.40      &    6.40      & 19.70150380  & 415.5969287  &  0.01301627 \\\\\n",
       "\tarea & 13           & 517          &  12.84729207 &  63.6558185  &   0.52       &   3.181952   &   0.770952   &  0.0         & 1090.84      & 1090.84      & 12.77248266  & 191.5020312  &  2.79957970 \\\\\n",
       "\\end{tabular}\n"
      ],
      "text/markdown": [
       "\n",
       "| <!--/--> | vars | n | mean | sd | median | trimmed | mad | min | max | range | skew | kurtosis | se | \n",
       "|---|---|---|---|---|---|---|---|---|---|---|---|---|\n",
       "| X |  1           | 517          |   4.66924565 |   2.3137778  |   4.00       |   4.672289   |   2.965200   |  1.0         |    9.00      |    8.00      |  0.03603577  |  -1.1796691  |  0.10175983  | \n",
       "| Y |  2           | 517          |   4.29980658 |   1.2299004  |   4.00       |   4.308434   |   1.482600   |  2.0         |    9.00      |    7.00      |  0.41487792  |   1.3782826  |  0.05409096  | \n",
       "| month* |  3           | 517          |   6.75822050 |   4.3732754  |   7.00       |   6.720482   |   7.413000   |  1.0         |   12.00      |   11.00      |  0.08358697  |  -1.7193189  |  0.19233643  | \n",
       "| day* |  4           | 517          |   3.73694391 |   1.9250613  |   4.00       |   3.672289   |   2.965200   |  1.0         |    7.00      |    6.00      |  0.15684203  |  -1.1093028  |  0.08466410  | \n",
       "| FFMC |  5           | 517          |  90.64468085 |   5.5201108  |  91.60       |  91.454940   |   1.927380   | 18.7         |   96.20      |   77.50      | -6.53749886  |  66.1393621  |  0.24277420  | \n",
       "| DMC |  6           | 517          | 110.87234043 |  64.0464822  | 108.30       | 106.522410   |  51.742740   |  1.1         |  291.30      |  290.20      |  0.54432492  |   0.1789299  |  2.81676107  | \n",
       "| DC |  7           | 517          | 547.94003868 | 248.0661917  | 664.20       | 578.692289   | 118.904520   |  7.9         |  860.60      |  852.70      | -1.09406780  |  -0.2650719  | 10.90993864  | \n",
       "| ISI |  8           | 517          |   9.02166344 |   4.5594772  |   8.40       |   8.727470   |   3.113460   |  0.0         |   56.10      |   56.10      |  2.52162669  |  21.1458110  |  0.20052558  | \n",
       "| temp |  9           | 517          |  18.88916828 |   5.8066253  |  19.30       |  19.091084   |   5.337360   |  2.2         |   33.30      |   31.10      | -0.32925302  |   0.1111986  |  0.25537509  | \n",
       "| RH | 10           | 517          |  44.28820116 |  16.3174692  |  42.00       |  42.706024   |  14.826000   | 15.0         |  100.00      |   85.00      |  0.85790328  |   0.4091470  |  0.71764148  | \n",
       "| wind | 11           | 517          |   4.01760155 |   1.7916526  |   4.00       |   3.898795   |   1.927380   |  0.4         |    9.40      |    9.00      |  0.56769205  |   0.0304595  |  0.07879679  | \n",
       "| rain | 12           | 517          |   0.02166344 |   0.2959591  |   0.00       |   0.000000   |   0.000000   |  0.0         |    6.40      |    6.40      | 19.70150380  | 415.5969287  |  0.01301627  | \n",
       "| area | 13           | 517          |  12.84729207 |  63.6558185  |   0.52       |   3.181952   |   0.770952   |  0.0         | 1090.84      | 1090.84      | 12.77248266  | 191.5020312  |  2.79957970  | \n",
       "\n",
       "\n"
      ],
      "text/plain": [
       "       vars n   mean         sd          median trimmed    mad        min \n",
       "X       1   517   4.66924565   2.3137778   4.00   4.672289   2.965200  1.0\n",
       "Y       2   517   4.29980658   1.2299004   4.00   4.308434   1.482600  2.0\n",
       "month*  3   517   6.75822050   4.3732754   7.00   6.720482   7.413000  1.0\n",
       "day*    4   517   3.73694391   1.9250613   4.00   3.672289   2.965200  1.0\n",
       "FFMC    5   517  90.64468085   5.5201108  91.60  91.454940   1.927380 18.7\n",
       "DMC     6   517 110.87234043  64.0464822 108.30 106.522410  51.742740  1.1\n",
       "DC      7   517 547.94003868 248.0661917 664.20 578.692289 118.904520  7.9\n",
       "ISI     8   517   9.02166344   4.5594772   8.40   8.727470   3.113460  0.0\n",
       "temp    9   517  18.88916828   5.8066253  19.30  19.091084   5.337360  2.2\n",
       "RH     10   517  44.28820116  16.3174692  42.00  42.706024  14.826000 15.0\n",
       "wind   11   517   4.01760155   1.7916526   4.00   3.898795   1.927380  0.4\n",
       "rain   12   517   0.02166344   0.2959591   0.00   0.000000   0.000000  0.0\n",
       "area   13   517  12.84729207  63.6558185   0.52   3.181952   0.770952  0.0\n",
       "       max     range   skew        kurtosis    se         \n",
       "X         9.00    8.00  0.03603577  -1.1796691  0.10175983\n",
       "Y         9.00    7.00  0.41487792   1.3782826  0.05409096\n",
       "month*   12.00   11.00  0.08358697  -1.7193189  0.19233643\n",
       "day*      7.00    6.00  0.15684203  -1.1093028  0.08466410\n",
       "FFMC     96.20   77.50 -6.53749886  66.1393621  0.24277420\n",
       "DMC     291.30  290.20  0.54432492   0.1789299  2.81676107\n",
       "DC      860.60  852.70 -1.09406780  -0.2650719 10.90993864\n",
       "ISI      56.10   56.10  2.52162669  21.1458110  0.20052558\n",
       "temp     33.30   31.10 -0.32925302   0.1111986  0.25537509\n",
       "RH      100.00   85.00  0.85790328   0.4091470  0.71764148\n",
       "wind      9.40    9.00  0.56769205   0.0304595  0.07879679\n",
       "rain      6.40    6.40 19.70150380 415.5969287  0.01301627\n",
       "area   1090.84 1090.84 12.77248266 191.5020312  2.79957970"
      ]
     },
     "metadata": {},
     "output_type": "display_data"
    }
   ],
   "source": [
    "library(psych)\n",
    "describe(fire_df)"
   ]
  },
  {
   "cell_type": "markdown",
   "metadata": {},
   "source": [
    "Some overservations can be made from the above numbers:\n",
    "\n",
    "1. Skewness for FFMC, rain and area is relatively higher. \n",
    "2. Kurtosis is higher for these columns as well. \n",
    "\n",
    "These type of columns can have higher implication on performance of the model we build, so we need to deal with it. This is beacuse the tail region may act as a outliers which may adversely affect linear modelling.\n",
    "\n",
    "Rest of the value seems normal and will be explored at a later stage.\n",
    "\n",
    "So lets plot distribution graph for each of these variables to gain more insights\n"
   ]
  },
  {
   "cell_type": "code",
   "execution_count": 7,
   "metadata": {},
   "outputs": [
    {
     "name": "stderr",
     "output_type": "stream",
     "text": [
      "Warning message:\n",
      "\"package 'ggplot2' was built under R version 3.5.3\"\n",
      "Attaching package: 'ggplot2'\n",
      "\n",
      "The following objects are masked from 'package:psych':\n",
      "\n",
      "    %+%, alpha\n",
      "\n",
      "Loading required package: magrittr\n",
      "Warning message:\n",
      "\"package 'magrittr' was built under R version 3.5.3\""
     ]
    }
   ],
   "source": [
    "library(ggplot2)\n",
    "library(ggpubr) "
   ]
  },
  {
   "cell_type": "code",
   "execution_count": 8,
   "metadata": {},
   "outputs": [],
   "source": [
    "p <- ggplot(fire_df, aes(x=FFMC)) +\n",
    "    geom_histogram(aes(y=..density..), color=\"black\", fill=\"lightblue\", alpha = 0.4) +\n",
    "    geom_density(color=\"darkblue\", size=0.8) +\n",
    "    geom_vline(aes(xintercept=mean(FFMC)),\n",
    "            color=\"black\", linetype=\"dashed\", size=1)\n",
    "\n",
    "q <- ggplot(fire_df, aes(x=ISI)) +\n",
    "    geom_histogram(aes(y=..density..), color=\"black\", fill=\"indianred1\", alpha = 0.4) +\n",
    "    geom_density(color=\"red\", size=0.8) +\n",
    "    geom_vline(aes(xintercept=mean(ISI)),\n",
    "            color=\"black\", linetype=\"dashed\", size=1)\n",
    "\n",
    "r <- ggplot(fire_df, aes(x=rain)) +\n",
    "    geom_histogram(aes(y=..density..), color=\"black\", fill=\"yellow\", alpha = 0.4) +\n",
    "    geom_density(color=\"gold2\", size=0.8) \n",
    "\n",
    "s <- ggplot(fire_df, aes(x=area)) +\n",
    "    geom_histogram(aes(y=..density..), color=\"black\", fill=\"green\", alpha = 0.4) +\n",
    "    geom_density(color=\"forestgreen\", size=0.8)"
   ]
  },
  {
   "cell_type": "code",
   "execution_count": 9,
   "metadata": {},
   "outputs": [
    {
     "name": "stderr",
     "output_type": "stream",
     "text": [
      "`stat_bin()` using `bins = 30`. Pick better value with `binwidth`.\n",
      "`stat_bin()` using `bins = 30`. Pick better value with `binwidth`.\n"
     ]
    },
    {
     "data": {},
     "metadata": {},
     "output_type": "display_data"
    },
    {
     "data": {
      "image/png": "[encoded data removed]",
      "text/plain": [
       "plot without title"
      ]
     },
     "metadata": {},
     "output_type": "display_data"
    }
   ],
   "source": [
    "ggarrange(p, q,\n",
    "          ncol = 1, nrow = 2,\n",
    "          widths = c(1, 1), heights = c(1, 1))"
   ]
  },
  {
   "cell_type": "markdown",
   "metadata": {},
   "source": [
    "From above graphs, we can confirm that:\n",
    "\n",
    "FFMC is skewed towards left side, and\n",
    "ISI is slightly / marginally positively skewed. Some transformation might be needed to make this distribution towards normal\n",
    "\n",
    "So, None of these variables exhibits normal distribution."
   ]
  },
  {
   "cell_type": "markdown",
   "metadata": {},
   "source": [
    "Lets dive into transforming FFMC close to Gaussian Distribution.\n",
    "\n",
    "We can see that from the graph and confirm it from output of describe() method. As the it is skewed negatively, it makes sense to use power transformation to bring/push it towards left side."
   ]
  },
  {
   "cell_type": "code",
   "execution_count": 10,
   "metadata": {},
   "outputs": [
    {
     "name": "stderr",
     "output_type": "stream",
     "text": [
      "`stat_bin()` using `bins = 30`. Pick better value with `binwidth`.\n"
     ]
    },
    {
     "data": {},
     "metadata": {},
     "output_type": "display_data"
    },
    {
     "data": {
      "image/png": "[encoded data removed]",
      "text/plain": [
       "plot without title"
      ]
     },
     "metadata": {},
     "output_type": "display_data"
    }
   ],
   "source": [
    "fire_df$tran_FFMC <- ((fire_df$FFMC)^3-mean((fire_df$FFMC)^3))/sd((fire_df$FFMC)^3)\n",
    "\n",
    "ggplot(fire_df, aes(x=tran_FFMC)) +\n",
    "    geom_histogram(aes(y=..density..), color=\"black\", fill=\"lightblue\", alpha = 0.4) +\n",
    "    geom_density(color=\"darkblue\", size=0.8)"
   ]
  },
  {
   "cell_type": "markdown",
   "metadata": {},
   "source": [
    "So, after transformation and reshaping, it looks close to gaussian distribution, it still appears to have some outliers, but we will deal with it later.\n",
    "\n",
    "Lets look at other two variables with higher skewness and kurtosis."
   ]
  },
  {
   "cell_type": "code",
   "execution_count": 11,
   "metadata": {},
   "outputs": [
    {
     "name": "stderr",
     "output_type": "stream",
     "text": [
      "`stat_bin()` using `bins = 30`. Pick better value with `binwidth`.\n",
      "`stat_bin()` using `bins = 30`. Pick better value with `binwidth`.\n"
     ]
    },
    {
     "data": {},
     "metadata": {},
     "output_type": "display_data"
    },
    {
     "data": {
      "image/png": "[encoded data removed]",
      "text/plain": [
       "plot without title"
      ]
     },
     "metadata": {},
     "output_type": "display_data"
    }
   ],
   "source": [
    "ggarrange(r, s,\n",
    "          ncol = 1, nrow = 2,\n",
    "          widths = c(1, 1), heights = c(1, 1))"
   ]
  },
  {
   "cell_type": "markdown",
   "metadata": {},
   "source": [
    "From the above two graphs, we can see that area and rain are strongly skewed. This is due to high occurence of value 0 in both the columns.\n",
    "\n",
    "Lets calculate the occurence of zeros in both these variables"
   ]
  },
  {
   "cell_type": "code",
   "execution_count": 12,
   "metadata": {},
   "outputs": [
    {
     "data": {
      "text/html": [
       "<strong>0:</strong> 247"
      ],
      "text/latex": [
       "\\textbf{0:} 247"
      ],
      "text/markdown": [
       "**0:** 247"
      ],
      "text/plain": [
       "  0 \n",
       "247 "
      ]
     },
     "metadata": {},
     "output_type": "display_data"
    }
   ],
   "source": [
    "a <- table(fire_df$area)\n",
    "a[names(a)==0]"
   ]
  },
  {
   "cell_type": "code",
   "execution_count": 13,
   "metadata": {},
   "outputs": [
    {
     "data": {
      "text/html": [
       "<strong>0:</strong> 47.7756286266925"
      ],
      "text/latex": [
       "\\textbf{0:} 47.7756286266925"
      ],
      "text/markdown": [
       "**0:** 47.7756286266925"
      ],
      "text/plain": [
       "       0 \n",
       "47.77563 "
      ]
     },
     "metadata": {},
     "output_type": "display_data"
    }
   ],
   "source": [
    "(a[names(a)==0]/nrow(fire_df))*100"
   ]
  },
  {
   "cell_type": "code",
   "execution_count": 14,
   "metadata": {},
   "outputs": [
    {
     "data": {
      "text/html": [
       "<strong>0:</strong> 509"
      ],
      "text/latex": [
       "\\textbf{0:} 509"
      ],
      "text/markdown": [
       "**0:** 509"
      ],
      "text/plain": [
       "  0 \n",
       "509 "
      ]
     },
     "metadata": {},
     "output_type": "display_data"
    }
   ],
   "source": [
    "b <- table(fire_df$rain)\n",
    "b[names(b)==0]"
   ]
  },
  {
   "cell_type": "code",
   "execution_count": 15,
   "metadata": {},
   "outputs": [
    {
     "data": {
      "text/html": [
       "<strong>0:</strong> 98.4526112185687"
      ],
      "text/latex": [
       "\\textbf{0:} 98.4526112185687"
      ],
      "text/markdown": [
       "**0:** 98.4526112185687"
      ],
      "text/plain": [
       "       0 \n",
       "98.45261 "
      ]
     },
     "metadata": {},
     "output_type": "display_data"
    }
   ],
   "source": [
    "(b[names(b)==0]/nrow(fire_df))*100"
   ]
  },
  {
   "cell_type": "markdown",
   "metadata": {},
   "source": [
    "We can see from the above values that ~48% of values in area column are 0.\n",
    "\n",
    "Also, around 98.45% of values in rain column is equal to 0, which says that the value in this column might not be very helpful in modelling."
   ]
  },
  {
   "cell_type": "code",
   "execution_count": 16,
   "metadata": {},
   "outputs": [],
   "source": [
    "# change levels of month\n",
    "fire_df$month<- factor(fire_df$month, \n",
    "                       levels = c('jan', 'feb', 'mar', 'apr', 'may', 'jun', 'jul', 'aug', 'sep', 'oct', 'nov', 'dec'))\n"
   ]
  },
  {
   "cell_type": "code",
   "execution_count": 17,
   "metadata": {},
   "outputs": [
    {
     "data": {},
     "metadata": {},
     "output_type": "display_data"
    },
    {
     "data": {
      "image/png": "[encoded data removed]",
      "text/plain": [
       "plot without title"
      ]
     },
     "metadata": {},
     "output_type": "display_data"
    }
   ],
   "source": [
    "ggplot(fire_df, aes(x=month)) +\n",
    "    geom_bar(fill='steelblue', colour='black')"
   ]
  },
  {
   "cell_type": "markdown",
   "metadata": {},
   "source": [
    "From the above graph, we can see that fires were at peak in Aug-Sept months period in Portugal.\n",
    "\n",
    "Portugal experiences summer in July to September so because of the dry wind of summer and the temperature, the chances of having fires increase."
   ]
  },
  {
   "cell_type": "markdown",
   "metadata": {},
   "source": [
    "Lets have a look at mean distribution of fire area considering X,Y as a geological point."
   ]
  },
  {
   "cell_type": "code",
   "execution_count": 19,
   "metadata": {},
   "outputs": [],
   "source": [
    "library(dplyr)"
   ]
  },
  {
   "cell_type": "code",
   "execution_count": 20,
   "metadata": {},
   "outputs": [
    {
     "data": {},
     "metadata": {},
     "output_type": "display_data"
    },
    {
     "data": {
      "image/png": "[encoded data removed]",
      "text/plain": [
       "plot without title"
      ]
     },
     "metadata": {},
     "output_type": "display_data"
    }
   ],
   "source": [
    "lookup_df <- summarize(group_by(fire_df,X, Y), area=mean(area))\n",
    "\n",
    "lookup_df$Y <- factor(lookup_df$Y,levels = 9:1)\n",
    "\n",
    "ggplot(lookup_df, aes(x=area)) +\n",
    "    geom_histogram(aes(y=..density..), color=\"black\", fill=\"pink\", alpha = 0.4, bins=50) +\n",
    "    geom_density(color=\"black\", size=0.8)"
   ]
  },
  {
   "cell_type": "markdown",
   "metadata": {},
   "source": [
    "It looks like in most of the region defined by (X,Y) the average spread of fire area is less than 50.\n",
    "\n",
    "But there are quite a few region points where spread of fire area is very high. We can see this from the tail"
   ]
  },
  {
   "cell_type": "code",
   "execution_count": 21,
   "metadata": {},
   "outputs": [
    {
     "name": "stderr",
     "output_type": "stream",
     "text": [
      "`stat_bin()` using `bins = 30`. Pick better value with `binwidth`.\n",
      "`stat_bin()` using `bins = 30`. Pick better value with `binwidth`.\n"
     ]
    },
    {
     "data": {},
     "metadata": {},
     "output_type": "display_data"
    },
    {
     "data": {
      "image/png": "[encoded data removed]",
      "text/plain": [
       "plot without title"
      ]
     },
     "metadata": {},
     "output_type": "display_data"
    }
   ],
   "source": [
    "p1 <- ggplot(fire_df, aes(x=ISI)) +\n",
    "       geom_histogram(aes(y=..density..), color=\"black\", fill=\"lightblue\", alpha = 0.4) +\n",
    "       geom_density(color=\"darkblue\", size=0.8)\n",
    "\n",
    "p2 <- ggplot(fire_df, aes(x=(temp))) +\n",
    "        geom_histogram(aes(y=..density..), color=\"black\", fill=\"green\", alpha = 0.4) +\n",
    "        geom_density(color=\"forestgreen\", size=0.8)\n",
    "\n",
    "ggarrange(p1, p2,\n",
    "          ncol = 1, nrow = 2,\n",
    "          widths = c(1, 1), heights = c(1, 1))"
   ]
  },
  {
   "cell_type": "markdown",
   "metadata": {},
   "source": [
    "In ISI, it appears to have an outlier. Once we remove it it will exhibit normal distribution. "
   ]
  },
  {
   "cell_type": "markdown",
   "metadata": {},
   "source": [
    "### Geographical points exploration"
   ]
  },
  {
   "cell_type": "code",
   "execution_count": 22,
   "metadata": {},
   "outputs": [],
   "source": [
    "X <- as.factor(c(1:9,1:9))\n",
    "Y <- as.factor(rep(c(1,7), each=9))\n",
    "Freq <- rep(0, each=18)"
   ]
  },
  {
   "cell_type": "code",
   "execution_count": 23,
   "metadata": {},
   "outputs": [],
   "source": [
    "coordinates_df <- rbind(data.frame(table(fire_df[,c('X','Y')])),data.frame(X,Y,Freq))\n",
    "coordinates_df$Y <- factor(coordinates_df$Y, levels=9:1)"
   ]
  },
  {
   "cell_type": "code",
   "execution_count": 24,
   "metadata": {},
   "outputs": [
    {
     "data": {},
     "metadata": {},
     "output_type": "display_data"
    },
    {
     "data": {
      "image/png": "[encoded data removed]",
      "text/plain": [
       "plot without title"
      ]
     },
     "metadata": {},
     "output_type": "display_data"
    }
   ],
   "source": [
    "ggplot(coordinates_df, aes(X, Y)) +\n",
    "    geom_tile(aes(fill = Freq)) + \n",
    "    geom_text(aes(label = round(Freq, 1))) +\n",
    "    scale_fill_gradient(low = \"white\", high = \"red\") "
   ]
  },
  {
   "cell_type": "markdown",
   "metadata": {},
   "source": [
    "From the above values, we can see that fires were not present in higher coordinate value of Y for almost all values of X. So, as per below map of Montesinho National Park, we can see that those coordinates, does not belongs to National Park. It is possibe that as these points does not belong to Park, there would be open space or mountains ranges which has less likelihood of getting affected by fire.\n",
    "\n",
    "If we see top coordinates for 1 and 2 values of Y coordinates, we see many zero values. This is because of the fact that, those point are excluded from Portugal region and belong to different country and so the data points were recorded for coordinates with Y value 1 ( I have explicitly added those values as 0 to make the heat map look similar to coordinates of below map)."
   ]
  },
  {
   "cell_type": "markdown",
   "metadata": {},
   "source": [
    "![The map](https://www.researchgate.net/profile/Youssef_Safi2/publication/290160237/figure/fig4/AS:325226018689027@1454551333381/The-map-of-Montesinho-natural-park.png \"The map of Montesinho National Park\")"
   ]
  },
  {
   "cell_type": "code",
   "execution_count": 25,
   "metadata": {},
   "outputs": [
    {
     "data": {},
     "metadata": {},
     "output_type": "display_data"
    },
    {
     "data": {
      "image/png": "[encoded data removed]",
      "text/plain": [
       "plot without title"
      ]
     },
     "metadata": {},
     "output_type": "display_data"
    }
   ],
   "source": [
    "lookup_df <- summarise(group_by(fire_df,X, Y), area=mean(area))\n",
    "\n",
    "lookup_df$Y <- factor(lookup_df$Y,levels = 9:1)\n",
    "\n",
    "ggplot(lookup_df, aes(X, Y, fill= area)) + \n",
    "  geom_tile(aes(fill = area))+\n",
    "    geom_text(aes(label = round(area, 1))) +\n",
    "  scale_fill_gradient(low=\"white\", high=\"steelblue\")"
   ]
  },
  {
   "cell_type": "markdown",
   "metadata": {},
   "source": [
    "As we already know, lots of values are zero for area. So, even if we take those rows into consideration, mean values for each point at X,Y shows that at (8,8) there were large fires."
   ]
  },
  {
   "cell_type": "markdown",
   "metadata": {},
   "source": [
    "### Correlation"
   ]
  },
  {
   "cell_type": "markdown",
   "metadata": {},
   "source": [
    "Lets have a look at correlation among variables."
   ]
  },
  {
   "cell_type": "code",
   "execution_count": 26,
   "metadata": {},
   "outputs": [
    {
     "data": {
      "image/png": "[encoded data removed]",
      "text/plain": [
       "plot without title"
      ]
     },
     "metadata": {},
     "output_type": "display_data"
    }
   ],
   "source": [
    "pairs(fire_df[1:13],cex=0.2)"
   ]
  },
  {
   "cell_type": "markdown",
   "metadata": {},
   "source": [
    "It seems difficult to determine correlation among many variables.\n",
    "\n",
    "- However, from the above graph we can see that **Temperature** and **RH (Relative Humidity)** are negatively correlated. This is because of the fact that as temperature increases, air gets warmer which can hold more water molecules, so its relative humidity decreases. When temperatures drop, relative humidity increases. [Read more](https://sciencing.com/temperature-ampamp-humidity-related-7245642.html)\n",
    "\n",
    "- Also, **DMC** and **DC** shows strong positive correlation. As DMC and DC are moisture code for organic layers at moderate depth and very great depth, it makes sense to believe that moisture at moderate depth increase with increase in moisture content at deep layers. [Read more](https://www.malagaweather.com/fwi-txt.htm)\n",
    "\n",
    "- **ISI** and **Temp** shows descent positive relationship/correlation. We can see this relationship because it rate at which fire will spread (ISI) increases with temperature surging up. "
   ]
  },
  {
   "cell_type": "code",
   "execution_count": 27,
   "metadata": {},
   "outputs": [
    {
     "name": "stderr",
     "output_type": "stream",
     "text": [
      "Warning message:\n",
      "\"package 'reshape2' was built under R version 3.5.3\""
     ]
    }
   ],
   "source": [
    "library(reshape2)"
   ]
  },
  {
   "cell_type": "code",
   "execution_count": 28,
   "metadata": {},
   "outputs": [
    {
     "data": {
      "text/html": [
       "<ol class=list-inline>\n",
       "\t<li>'X'</li>\n",
       "\t<li>'Y'</li>\n",
       "\t<li>'month'</li>\n",
       "\t<li>'day'</li>\n",
       "\t<li>'FFMC'</li>\n",
       "\t<li>'DMC'</li>\n",
       "\t<li>'DC'</li>\n",
       "\t<li>'ISI'</li>\n",
       "\t<li>'temp'</li>\n",
       "\t<li>'RH'</li>\n",
       "\t<li>'wind'</li>\n",
       "\t<li>'rain'</li>\n",
       "\t<li>'area'</li>\n",
       "\t<li>'tran_FFMC'</li>\n",
       "</ol>\n"
      ],
      "text/latex": [
       "\\begin{enumerate*}\n",
       "\\item 'X'\n",
       "\\item 'Y'\n",
       "\\item 'month'\n",
       "\\item 'day'\n",
       "\\item 'FFMC'\n",
       "\\item 'DMC'\n",
       "\\item 'DC'\n",
       "\\item 'ISI'\n",
       "\\item 'temp'\n",
       "\\item 'RH'\n",
       "\\item 'wind'\n",
       "\\item 'rain'\n",
       "\\item 'area'\n",
       "\\item 'tran\\_FFMC'\n",
       "\\end{enumerate*}\n"
      ],
      "text/markdown": [
       "1. 'X'\n",
       "2. 'Y'\n",
       "3. 'month'\n",
       "4. 'day'\n",
       "5. 'FFMC'\n",
       "6. 'DMC'\n",
       "7. 'DC'\n",
       "8. 'ISI'\n",
       "9. 'temp'\n",
       "10. 'RH'\n",
       "11. 'wind'\n",
       "12. 'rain'\n",
       "13. 'area'\n",
       "14. 'tran_FFMC'\n",
       "\n",
       "\n"
      ],
      "text/plain": [
       " [1] \"X\"         \"Y\"         \"month\"     \"day\"       \"FFMC\"      \"DMC\"      \n",
       " [7] \"DC\"        \"ISI\"       \"temp\"      \"RH\"        \"wind\"      \"rain\"     \n",
       "[13] \"area\"      \"tran_FFMC\""
      ]
     },
     "metadata": {},
     "output_type": "display_data"
    }
   ],
   "source": [
    "names(fire_df)"
   ]
  },
  {
   "cell_type": "code",
   "execution_count": 29,
   "metadata": {},
   "outputs": [
    {
     "name": "stderr",
     "output_type": "stream",
     "text": [
      "Using month as id variables\n"
     ]
    },
    {
     "data": {},
     "metadata": {},
     "output_type": "display_data"
    },
    {
     "data": {
      "image/png": "[encoded data removed]",
      "text/plain": [
       "plot without title"
      ]
     },
     "metadata": {},
     "output_type": "display_data"
    }
   ],
   "source": [
    "f1 <- melt(as.data.frame(fire_df[,c(-4, -14, -15)]))\n",
    "\n",
    "ggplot(f1,aes(x = month,y = value, color=variable)) +\n",
    "facet_wrap(~variable, scales=\"free\") +\n",
    "geom_boxplot() +\n",
    "scale_y_continuous(labels=function (n) {format(n, scientific=FALSE)})"
   ]
  },
  {
   "cell_type": "markdown",
   "metadata": {},
   "source": [
    "From the above plots, following insights can be derived. After grouping the values based on months, we can see that:\n",
    "\n",
    "- **DMC** values are higher in July, August and September months. We see fire spreading more in these months, as a result this metric is higher, which expresses moisture conditions of loosely-compacted layers. Also, this metric is often used in predicting the chances of fire by lightning. [Read more](http://www.eumetrain.org/data/3/30/navmenu.php?tab=3&page=6.0.0) \n",
    "\n",
    "- Also, **DC** values are greater in July, August, and September. This value represents the long-term moisture conditions. So, we see higher correlation between DMC and DC variables. \n",
    "\n",
    "- Temperature is higher in these three months, as these are summer months in Portugal and also increase in spread of fire in these months increases the temperature to some extent.\n",
    "\n",
    "- Most people go out in this season for hiking in summer season, so it highly likely the large fires that have occured in August and September might have caused due to some human activities.\n",
    "\n",
    "- We see that considerable rain has fallen just in August and September. Because, due to higher temperature the moisture from the air condenses in the cloud and then falls as rain, often extinguishing the fire. [Read more](https://en.wikipedia.org/wiki/Flammagenitus_(cloud))\n",
    "\n",
    "- In this case, after large fires were reported in August and Septmber, they might have been extinguished by the rain itself so we don't see much spread of fires after September. There have been several examples of such incidents where wildfires were distinguished by rain itself. [Read more](https://en.wikipedia.org/wiki/Flammagenitus_(cloud))\n",
    "\n",
    "- Also, due to high rain in these months, we see more moisture in the soil layers indicated by **DMC and DC**.\n",
    "\n",
    "- Relative Humidity reflects the amount of moisture in the atmosphere. Higher temperature leads to dry atmosphere resulting in low relative humidity. So, due to low relative humidity, dire starts to burn more vigorously. So RH values are lower in summer and fall. [Read more](https://www.auburn.edu/academic/forestry_wildlife/fire/weather_elements.htm)\n",
    "\n",
    "- **ISI** indicates the rate at which fire will spread in its early stage. So, ISI is higher in few months ahead of September and decreases as the chances fire spread becomes lower after September as there are very few fires after September. [Read more](https://www.malagaweather.com/fwi-txt.htm)  \n"
   ]
  },
  {
   "cell_type": "code",
   "execution_count": 30,
   "metadata": {},
   "outputs": [
    {
     "data": {},
     "metadata": {},
     "output_type": "display_data"
    },
    {
     "data": {
      "image/png": "[encoded data removed]",
      "text/plain": [
       "plot without title"
      ]
     },
     "metadata": {},
     "output_type": "display_data"
    }
   ],
   "source": [
    "ggplot(fire_df[(fire_df$area<500),], aes(x=month, y=area, color=month)) +\n",
    "geom_point(aes(color=month),alpha=1/4, position = 'jitter') +\n",
    "  geom_boxplot()"
   ]
  },
  {
   "cell_type": "markdown",
   "metadata": {},
   "source": [
    "we can see that its not only the temp that might have caused more fires in aug and sept, as the temp ranges with median 22 and 18 in these two months. This shows that there were large number of fires in these two months with some spreading in small and some spreading in large areas. "
   ]
  },
  {
   "cell_type": "code",
   "execution_count": 31,
   "metadata": {},
   "outputs": [],
   "source": [
    "fire_df <- fire_df %>%\n",
    "    mutate(temp_cat = case_when(temp > 25 ~ 'High',\n",
    "                                  temp > 15 ~ 'Mid',\n",
    "                                  TRUE ~ 'Low'))\n",
    "fire_df$temp_cat <- factor(fire_df$temp_cat, levels=c('Low', 'Mid', 'High'))"
   ]
  },
  {
   "cell_type": "code",
   "execution_count": 32,
   "metadata": {},
   "outputs": [
    {
     "data": {},
     "metadata": {},
     "output_type": "display_data"
    },
    {
     "data": {
      "image/png": "[encoded data removed]",
      "text/plain": [
       "plot without title"
      ]
     },
     "metadata": {},
     "output_type": "display_data"
    }
   ],
   "source": [
    "ggplot(aes(x=month, fill=temp_cat),data = fire_df) + \n",
    "    facet_wrap(~temp_cat, scales=\"free\") +\n",
    "    geom_bar() +\n",
    "    ggtitle('Fires count') +\n",
    "    theme(legend.position = \"bottom\", legend.box = \"horizontal\") +\n",
    "    scale_y_continuous(limits=c(0,150)) +\n",
    "    scale_fill_discrete(name=\"Temp Category\", labels=c(\"Low\",\"Mid\",\"High\"))"
   ]
  },
  {
   "cell_type": "markdown",
   "metadata": {},
   "source": [
    "Here, we see that when temperature is in mid-high range, the number of entries for fires is highest in august and september. However, number of fires, for low temperatue is higher in February and March for that group."
   ]
  },
  {
   "cell_type": "code",
   "execution_count": 33,
   "metadata": {},
   "outputs": [
    {
     "data": {},
     "metadata": {},
     "output_type": "display_data"
    },
    {
     "data": {
      "image/png": "[encoded data removed]",
      "text/plain": [
       "plot without title"
      ]
     },
     "metadata": {},
     "output_type": "display_data"
    }
   ],
   "source": [
    "lookup_df <- summarise(group_by(fire_df[(fire_df$month=='aug')&(fire_df$area>0),],X, Y), area=sum(area))\n",
    "\n",
    "lookup_df$Y <- factor(lookup_df$Y,levels = 9:1)\n",
    "\n",
    "ggplot(lookup_df[lookup_df$area>20,], aes(X, Y, fill= area)) + \n",
    "  geom_tile(aes(fill = area))+\n",
    "  geom_text(aes(label = round(area, 1))) +\n",
    "  scale_fill_gradient(low=\"snow1\", high=\"steelblue\", guide = \"colourbar\",\n",
    "  aesthetics = \"fill\")"
   ]
  },
  {
   "cell_type": "code",
   "execution_count": 34,
   "metadata": {},
   "outputs": [
    {
     "data": {},
     "metadata": {},
     "output_type": "display_data"
    },
    {
     "data": {
      "image/png": "[encoded data removed]",
      "text/plain": [
       "plot without title"
      ]
     },
     "metadata": {},
     "output_type": "display_data"
    }
   ],
   "source": [
    "lookup_df <- summarise(group_by(fire_df[(fire_df$month=='sep')&(fire_df$area>0),],X, Y), area=sum(area))\n",
    "\n",
    "lookup_df$Y <- factor(lookup_df$Y,levels = 9:1)\n",
    "\n",
    "ggplot(lookup_df[lookup_df$area>20,], aes(X, Y, fill= area)) + \n",
    "  geom_tile(aes(fill = area))+\n",
    "  geom_text(aes(label = round(area, 1))) +\n",
    "  scale_fill_gradient(low=\"white\", high=\"chartreuse4\", guide = \"colourbar\",\n",
    "  aesthetics = \"fill\")"
   ]
  },
  {
   "cell_type": "markdown",
   "metadata": {},
   "source": [
    "In the above two heatmaps, we can spread of fire in August and September. We can see that there are **two to three** clusters in each month, which might be responsible for cause of fire. So there might be multiple instances in this park, where fire have been spread."
   ]
  },
  {
   "cell_type": "code",
   "execution_count": 35,
   "metadata": {},
   "outputs": [
    {
     "data": {
      "text/html": [
       "<ol class=list-inline>\n",
       "\t<li>'X'</li>\n",
       "\t<li>'Y'</li>\n",
       "\t<li>'month'</li>\n",
       "\t<li>'day'</li>\n",
       "\t<li>'FFMC'</li>\n",
       "\t<li>'DMC'</li>\n",
       "\t<li>'DC'</li>\n",
       "\t<li>'ISI'</li>\n",
       "\t<li>'temp'</li>\n",
       "\t<li>'RH'</li>\n",
       "\t<li>'wind'</li>\n",
       "\t<li>'rain'</li>\n",
       "\t<li>'area'</li>\n",
       "\t<li>'tran_FFMC'</li>\n",
       "\t<li>'temp_cat'</li>\n",
       "</ol>\n"
      ],
      "text/latex": [
       "\\begin{enumerate*}\n",
       "\\item 'X'\n",
       "\\item 'Y'\n",
       "\\item 'month'\n",
       "\\item 'day'\n",
       "\\item 'FFMC'\n",
       "\\item 'DMC'\n",
       "\\item 'DC'\n",
       "\\item 'ISI'\n",
       "\\item 'temp'\n",
       "\\item 'RH'\n",
       "\\item 'wind'\n",
       "\\item 'rain'\n",
       "\\item 'area'\n",
       "\\item 'tran\\_FFMC'\n",
       "\\item 'temp\\_cat'\n",
       "\\end{enumerate*}\n"
      ],
      "text/markdown": [
       "1. 'X'\n",
       "2. 'Y'\n",
       "3. 'month'\n",
       "4. 'day'\n",
       "5. 'FFMC'\n",
       "6. 'DMC'\n",
       "7. 'DC'\n",
       "8. 'ISI'\n",
       "9. 'temp'\n",
       "10. 'RH'\n",
       "11. 'wind'\n",
       "12. 'rain'\n",
       "13. 'area'\n",
       "14. 'tran_FFMC'\n",
       "15. 'temp_cat'\n",
       "\n",
       "\n"
      ],
      "text/plain": [
       " [1] \"X\"         \"Y\"         \"month\"     \"day\"       \"FFMC\"      \"DMC\"      \n",
       " [7] \"DC\"        \"ISI\"       \"temp\"      \"RH\"        \"wind\"      \"rain\"     \n",
       "[13] \"area\"      \"tran_FFMC\" \"temp_cat\" "
      ]
     },
     "metadata": {},
     "output_type": "display_data"
    }
   ],
   "source": [
    "names(fire_df)"
   ]
  },
  {
   "cell_type": "code",
   "execution_count": 36,
   "metadata": {},
   "outputs": [
    {
     "name": "stderr",
     "output_type": "stream",
     "text": [
      "Using temp_cat as id variables\n"
     ]
    },
    {
     "data": {},
     "metadata": {},
     "output_type": "display_data"
    },
    {
     "data": {
      "image/png": "[encoded data removed]",
      "text/plain": [
       "plot without title"
      ]
     },
     "metadata": {},
     "output_type": "display_data"
    }
   ],
   "source": [
    "f1 <- melt(as.data.frame(fire_df[,c(-3, -4, -9, -14)]))\n",
    "\n",
    "ggplot(f1,aes(x = temp_cat,y = value, color=variable)) +\n",
    "facet_wrap(~variable, scales=\"free\") +\n",
    "geom_boxplot() +\n",
    "scale_y_continuous(labels=function (n) {format(n, scientific=FALSE)})"
   ]
  },
  {
   "cell_type": "markdown",
   "metadata": {},
   "source": [
    "We can see that Relative Humidity (RH) is higher for low temperature and it decreases with increase in the temperature. \n",
    "\n",
    "Also, ISI and DMC are higher for higher values of temperature category."
   ]
  },
  {
   "cell_type": "markdown",
   "metadata": {},
   "source": [
    "### Outliers detection"
   ]
  },
  {
   "cell_type": "code",
   "execution_count": 37,
   "metadata": {},
   "outputs": [
    {
     "data": {
      "image/png": "[encoded data removed]",
      "text/plain": [
       "plot without title"
      ]
     },
     "metadata": {},
     "output_type": "display_data"
    }
   ],
   "source": [
    "boxplot(fire_df, las=2, cex.axis = 1)"
   ]
  },
  {
   "cell_type": "markdown",
   "metadata": {},
   "source": [
    "Most attributes are overshadowed by `DC` variable. So, it is better to create box plot for individual column "
   ]
  },
  {
   "cell_type": "code",
   "execution_count": 38,
   "metadata": {},
   "outputs": [
    {
     "data": {
      "image/png": "[encoded data removed]",
      "text/plain": [
       "Plot with title \"rain\""
      ]
     },
     "metadata": {},
     "output_type": "display_data"
    }
   ],
   "source": [
    "par(mfrow = c(2,5)) # 5 x 2 grid\n",
    "for (i in 1:(length(fire_df)-3)) {\n",
    "    if ((class(fire_df[,i]) == 'integer') || (class(fire_df[,i]) == 'numeric')){\n",
    "        boxplot(fire_df[,i], main = names(fire_df[i]), type=\"l\", col = 'lightgreen') \n",
    "    }\n",
    "}"
   ]
  },
  {
   "cell_type": "markdown",
   "metadata": {},
   "source": [
    "We can see from  the above plots that most of the columns do not show strong presence of outliers.\n",
    "\n",
    "However, in ISI, FFMC and rain, we can see presence of outliers in the data. "
   ]
  },
  {
   "cell_type": "markdown",
   "metadata": {},
   "source": [
    "### Outliers removal"
   ]
  },
  {
   "cell_type": "markdown",
   "metadata": {},
   "source": [
    "Although we can remove the outliers using constraint 1.5 * IQR, we wouldn't do that as it will incur loss of many of data points \n",
    "from our tiny dataset. And as distributions are already maintained by us, it wouldn't cause much difference if we don't strictly remove outliers.\n",
    "\n",
    "So, we will remove extreme outliers manually."
   ]
  },
  {
   "cell_type": "code",
   "execution_count": 39,
   "metadata": {},
   "outputs": [
    {
     "data": {
      "image/png": "[encoded data removed]",
      "text/plain": [
       "plot without title"
      ]
     },
     "metadata": {},
     "output_type": "display_data"
    }
   ],
   "source": [
    "fire_df <- fire_df[(fire_df$ISI<50),]\n",
    "fire_df <- fire_df[(fire_df$FFMC>20),]\n",
    "boxplot(fire_df$FFMC)"
   ]
  },
  {
   "cell_type": "markdown",
   "metadata": {},
   "source": [
    "## 3. Model Development<a class=\"anchor\" id=\"sec_3\"></a>"
   ]
  },
  {
   "cell_type": "markdown",
   "metadata": {},
   "source": [
    "### 3.1 Multiple regression"
   ]
  },
  {
   "cell_type": "markdown",
   "metadata": {},
   "source": [
    "## Need to rerun this again by substituing tran_FFMC with FFMC"
   ]
  },
  {
   "cell_type": "markdown",
   "metadata": {},
   "source": [
    "Lets first create a multiple regression model with all features and see how it perform."
   ]
  },
  {
   "cell_type": "code",
   "execution_count": 40,
   "metadata": {},
   "outputs": [
    {
     "data": {
      "text/html": [
       "<ol class=list-inline>\n",
       "\t<li>'X'</li>\n",
       "\t<li>'Y'</li>\n",
       "\t<li>'month'</li>\n",
       "\t<li>'day'</li>\n",
       "\t<li>'FFMC'</li>\n",
       "\t<li>'DMC'</li>\n",
       "\t<li>'DC'</li>\n",
       "\t<li>'ISI'</li>\n",
       "\t<li>'temp'</li>\n",
       "\t<li>'RH'</li>\n",
       "\t<li>'wind'</li>\n",
       "\t<li>'rain'</li>\n",
       "\t<li>'area'</li>\n",
       "\t<li>'tran_FFMC'</li>\n",
       "\t<li>'temp_cat'</li>\n",
       "</ol>\n"
      ],
      "text/latex": [
       "\\begin{enumerate*}\n",
       "\\item 'X'\n",
       "\\item 'Y'\n",
       "\\item 'month'\n",
       "\\item 'day'\n",
       "\\item 'FFMC'\n",
       "\\item 'DMC'\n",
       "\\item 'DC'\n",
       "\\item 'ISI'\n",
       "\\item 'temp'\n",
       "\\item 'RH'\n",
       "\\item 'wind'\n",
       "\\item 'rain'\n",
       "\\item 'area'\n",
       "\\item 'tran\\_FFMC'\n",
       "\\item 'temp\\_cat'\n",
       "\\end{enumerate*}\n"
      ],
      "text/markdown": [
       "1. 'X'\n",
       "2. 'Y'\n",
       "3. 'month'\n",
       "4. 'day'\n",
       "5. 'FFMC'\n",
       "6. 'DMC'\n",
       "7. 'DC'\n",
       "8. 'ISI'\n",
       "9. 'temp'\n",
       "10. 'RH'\n",
       "11. 'wind'\n",
       "12. 'rain'\n",
       "13. 'area'\n",
       "14. 'tran_FFMC'\n",
       "15. 'temp_cat'\n",
       "\n",
       "\n"
      ],
      "text/plain": [
       " [1] \"X\"         \"Y\"         \"month\"     \"day\"       \"FFMC\"      \"DMC\"      \n",
       " [7] \"DC\"        \"ISI\"       \"temp\"      \"RH\"        \"wind\"      \"rain\"     \n",
       "[13] \"area\"      \"tran_FFMC\" \"temp_cat\" "
      ]
     },
     "metadata": {},
     "output_type": "display_data"
    }
   ],
   "source": [
    "names(fire_df)"
   ]
  },
  {
   "cell_type": "code",
   "execution_count": 41,
   "metadata": {},
   "outputs": [
    {
     "data": {
      "text/plain": [
       "\n",
       "Call:\n",
       "lm(formula = area ~ . - temp_cat - FFMC, data = fire_df)\n",
       "\n",
       "Residuals:\n",
       "    Min      1Q  Median      3Q     Max \n",
       " -55.79  -17.91   -6.44    4.91 1038.78 \n",
       "\n",
       "Coefficients:\n",
       "             Estimate Std. Error t value Pr(>|t|)  \n",
       "(Intercept) -23.09427   71.26993  -0.324   0.7460  \n",
       "X             2.23914    1.50101   1.492   0.1364  \n",
       "Y            -0.12643    2.82696  -0.045   0.9643  \n",
       "monthfeb      6.68591   66.24720   0.101   0.9197  \n",
       "monthmar     -3.86321   65.75972  -0.059   0.9532  \n",
       "monthapr      0.91145   68.44997   0.013   0.9894  \n",
       "monthmay     13.02672   79.26950   0.164   0.8695  \n",
       "monthjun      7.70755   68.93713   0.112   0.9110  \n",
       "monthjul     29.96306   70.07906   0.428   0.6692  \n",
       "monthaug     48.34156   72.86260   0.663   0.5073  \n",
       "monthsep     75.09771   75.46377   0.995   0.3202  \n",
       "monthoct     70.07338   77.16879   0.908   0.3643  \n",
       "monthnov     -2.88439   92.27291  -0.031   0.9751  \n",
       "monthdec     48.18208   72.17502   0.668   0.5047  \n",
       "daymon        5.90043   10.52660   0.561   0.5754  \n",
       "daysat       19.61226   10.11083   1.940   0.0530 .\n",
       "daysun        4.88434    9.88428   0.494   0.6214  \n",
       "daythu        9.48968   11.16577   0.850   0.3958  \n",
       "daytue        7.86374   10.90965   0.721   0.4714  \n",
       "daywed        5.45960   11.42964   0.478   0.6331  \n",
       "DMC           0.19867    0.08792   2.260   0.0243 *\n",
       "DC           -0.13001    0.05905  -2.202   0.0282 *\n",
       "ISI          -0.71266    1.12111  -0.636   0.5253  \n",
       "temp          1.28933    1.03474   1.246   0.2133  \n",
       "RH           -0.12926    0.28959  -0.446   0.6555  \n",
       "wind          2.07238    1.81116   1.144   0.2531  \n",
       "rain         -2.92314    9.96487  -0.293   0.7694  \n",
       "tran_FFMC     0.55636    5.10444   0.109   0.9133  \n",
       "---\n",
       "Signif. codes:  0 '***' 0.001 '**' 0.01 '*' 0.05 '.' 0.1 ' ' 1\n",
       "\n",
       "Residual standard error: 63.99 on 487 degrees of freedom\n",
       "Multiple R-squared:  0.04598,\tAdjusted R-squared:  -0.006915 \n",
       "F-statistic: 0.8693 on 27 and 487 DF,  p-value: 0.6576\n"
      ]
     },
     "metadata": {},
     "output_type": "display_data"
    }
   ],
   "source": [
    "my_fit = lm(area~.-temp_cat-FFMC, data = fire_df)\n",
    "summary(my_fit)"
   ]
  },
  {
   "cell_type": "markdown",
   "metadata": {},
   "source": [
    "The adjusted R-squared ($R^2$) value indicates this model explains 0% of the variation in area.\n",
    "\n",
    "The F-statistic **0.8693** has a p-value of **0.6576** - so it fails to reject the null hypothesis so the model does not explain anything.\n",
    "\n",
    "The p-values for the coefficients show only DMC, DC and daysat are significant at the 0.05 level. All other variables are non significant."
   ]
  },
  {
   "cell_type": "code",
   "execution_count": 42,
   "metadata": {},
   "outputs": [
    {
     "name": "stderr",
     "output_type": "stream",
     "text": [
      "Warning message:\n",
      "\"not plotting observations with leverage one:\n",
      "  104, 515\"Warning message:\n",
      "\"not plotting observations with leverage one:\n",
      "  104, 515\""
     ]
    },
    {
     "data": {
      "image/png": "[encoded data removed]",
      "text/plain": [
       "Plot with title \"\""
      ]
     },
     "metadata": {},
     "output_type": "display_data"
    }
   ],
   "source": [
    "par(mfcol=c(2,2))\n",
    "plot(my_fit)"
   ]
  },
  {
   "cell_type": "markdown",
   "metadata": {},
   "source": [
    "The diagnostic plots show residuals in four different ways.\n",
    "\n",
    "1. The **residual vs fitted plot**: This plot is used to check the linear assumption. It shows if residuals have non-linear patterns. If you find equally spread residuals around a horizontal line without distinct patterns, that is a good indication you have linear relationships. However, if the relationship between predictors and an response variable is non-linear, an obvious pattern could show up in this plot if the model cannot capture the non-linearity. The first plot aboveshows the residuals are not evenly distributed around zero. This model violates the assumption of homoscedasticity - the error terms change along the regression line and we see a clear linear line.\n",
    "\n",
    "* The normal **Q-Q plot**: The Q-Q plot (i.e., quantile-quantile plot) is a graphical tool to help us assess if a set of data plausibly came from some theoretical distribution such as a Normal. For example, if we run a statistical analysis that assumes our dependent variable is Normally distributed, we can use a Normal Q-Q plot to check that assumption. In the case of linear regression analysis, we assume that residual is normally distributed with constant variance and mean equal to zero. The normal Q-Q plot shows if residuals are normally distributed. It is good if residuals are lined well on the straight dashed line. And of course it cannot be a perfect straight line and this will be your call. Here, the residuals does not seem to deviate significantly from the dashed line.\n",
    "\n",
    "* The **scale-location plot**: It is used to check the assumption of equal variance by showing if residuals are spread equally along the ranges of predictors. It is good if we can see a horizontal line with equally (randomly) spread points. The scale-location plot shows the model violates the assumption of equal variance and forms a V shaped pattern\n",
    "\n",
    "* The **residual-leverage plot**: it helps us identify influential data samples. Not all outliers are influential in linear regression analysis. Here we care about the samples that are influential to determine the regression line. These samples can very influential even if they look to be within a reasonable range of the values. They can alter the results if we exclude them from analysis. In the residual-leverage plot, we look for outlying values at the upper right corner or at the lower right corner. Samples located in those places can be influential against a regression line. We usually use Cook’s distance, indicated by a red dash line. When samples are outside of the Cook’s distance (i.e, they have high Cook’s distance scores, Cook’s distance measures how much the entire regression function changes when the i-th case is deleted.), the samples are influential to the regression results. The regression results will be altered if we exclude those samples.  The fourth plot shows there are some possibility influential outliers. Points 239, and 416 seems to be very close to boundry line. Lets look at corresponding rows."
   ]
  },
  {
   "cell_type": "code",
   "execution_count": 43,
   "metadata": {},
   "outputs": [
    {
     "data": {
      "text/html": [
       "<table>\n",
       "<thead><tr><th></th><th scope=col>X</th><th scope=col>Y</th><th scope=col>month</th><th scope=col>day</th><th scope=col>FFMC</th><th scope=col>DMC</th><th scope=col>DC</th><th scope=col>ISI</th><th scope=col>temp</th><th scope=col>RH</th><th scope=col>wind</th><th scope=col>rain</th><th scope=col>area</th><th scope=col>tran_FFMC</th><th scope=col>temp_cat</th></tr></thead>\n",
       "<tbody>\n",
       "\t<tr><th scope=row>240</th><td>7         </td><td>5         </td><td>apr       </td><td>sun       </td><td>81.9      </td><td> 3.0      </td><td> 7.9      </td><td>3.5       </td><td>13.4      </td><td>75        </td><td>1.8       </td><td>0         </td><td>0         </td><td>-2.0633973</td><td>Low       </td></tr>\n",
       "\t<tr><th scope=row>418</th><td>6         </td><td>5         </td><td>mar       </td><td>wed       </td><td>93.4      </td><td>17.3      </td><td>28.3      </td><td>9.9       </td><td>13.8      </td><td>24        </td><td>5.8       </td><td>0         </td><td>0         </td><td> 0.6399287</td><td>Low       </td></tr>\n",
       "</tbody>\n",
       "</table>\n"
      ],
      "text/latex": [
       "\\begin{tabular}{r|lllllllllllllll}\n",
       "  & X & Y & month & day & FFMC & DMC & DC & ISI & temp & RH & wind & rain & area & tran\\_FFMC & temp\\_cat\\\\\n",
       "\\hline\n",
       "\t240 & 7          & 5          & apr        & sun        & 81.9       &  3.0       &  7.9       & 3.5        & 13.4       & 75         & 1.8        & 0          & 0          & -2.0633973 & Low       \\\\\n",
       "\t418 & 6          & 5          & mar        & wed        & 93.4       & 17.3       & 28.3       & 9.9        & 13.8       & 24         & 5.8        & 0          & 0          &  0.6399287 & Low       \\\\\n",
       "\\end{tabular}\n"
      ],
      "text/markdown": [
       "\n",
       "| <!--/--> | X | Y | month | day | FFMC | DMC | DC | ISI | temp | RH | wind | rain | area | tran_FFMC | temp_cat | \n",
       "|---|---|\n",
       "| 240 | 7          | 5          | apr        | sun        | 81.9       |  3.0       |  7.9       | 3.5        | 13.4       | 75         | 1.8        | 0          | 0          | -2.0633973 | Low        | \n",
       "| 418 | 6          | 5          | mar        | wed        | 93.4       | 17.3       | 28.3       | 9.9        | 13.8       | 24         | 5.8        | 0          | 0          |  0.6399287 | Low        | \n",
       "\n",
       "\n"
      ],
      "text/plain": [
       "    X Y month day FFMC DMC  DC   ISI temp RH wind rain area tran_FFMC  temp_cat\n",
       "240 7 5 apr   sun 81.9  3.0  7.9 3.5 13.4 75 1.8  0    0    -2.0633973 Low     \n",
       "418 6 5 mar   wed 93.4 17.3 28.3 9.9 13.8 24 5.8  0    0     0.6399287 Low     "
      ]
     },
     "metadata": {},
     "output_type": "display_data"
    }
   ],
   "source": [
    "fire_df[c(239,416),]"
   ]
  },
  {
   "cell_type": "markdown",
   "metadata": {},
   "source": [
    "We can see that these are the top 2 largest fire areas recorded in the dataset. "
   ]
  },
  {
   "cell_type": "markdown",
   "metadata": {},
   "source": [
    "### Account for the Heteroscedasticity\n",
    "\n",
    "The second model corrects the heteroscedasticity seen in the first model by using a log transformation of area. As the distribution for area is skewed. It also uses log transformations of the sqft_living and sqft_lot predictor variables as the distributions of these variables were skewed."
   ]
  },
  {
   "cell_type": "code",
   "execution_count": 44,
   "metadata": {},
   "outputs": [
    {
     "data": {
      "text/plain": [
       "\n",
       "Call:\n",
       "lm(formula = log(area + 1) ~ . - temp_cat - FFMC, data = fire_df)\n",
       "\n",
       "Residuals:\n",
       "    Min      1Q  Median      3Q     Max \n",
       "-1.9993 -1.0328 -0.5000  0.8406  5.1565 \n",
       "\n",
       "Coefficients:\n",
       "              Estimate Std. Error t value Pr(>|t|)  \n",
       "(Intercept) -0.6397867  1.5418573  -0.415   0.6784  \n",
       "X            0.0528418  0.0324729   1.627   0.1043  \n",
       "Y           -0.0203249  0.0611587  -0.332   0.7398  \n",
       "monthfeb     0.9606211  1.4331953   0.670   0.5030  \n",
       "monthmar     0.4092914  1.4226491   0.288   0.7737  \n",
       "monthapr     0.7620769  1.4808502   0.515   0.6071  \n",
       "monthmay     1.4893626  1.7149205   0.868   0.3856  \n",
       "monthjun     0.5071080  1.4913894   0.340   0.7340  \n",
       "monthjul     0.8652499  1.5160939   0.571   0.5685  \n",
       "monthaug     1.0930844  1.5763134   0.693   0.4884  \n",
       "monthsep     1.7760911  1.6325870   1.088   0.2772  \n",
       "monthoct     1.6113039  1.6694736   0.965   0.3349  \n",
       "monthnov    -0.3130524  1.9962369  -0.157   0.8755  \n",
       "monthdec     2.9919832  1.5614382   1.916   0.0559 .\n",
       "daymon       0.1543452  0.2277330   0.678   0.4983  \n",
       "daysat       0.3202310  0.2187382   1.464   0.1438  \n",
       "daysun       0.2203355  0.2138371   1.030   0.3033  \n",
       "daythu       0.0774835  0.2415608   0.321   0.7485  \n",
       "daytue       0.3250884  0.2360199   1.377   0.1690  \n",
       "daywed       0.1949273  0.2472694   0.788   0.4309  \n",
       "DMC          0.0042396  0.0019020   2.229   0.0263 *\n",
       "DC          -0.0020680  0.0012775  -1.619   0.1061  \n",
       "ISI         -0.0106281  0.0242541  -0.438   0.6614  \n",
       "temp         0.0347635  0.0223855   1.553   0.1211  \n",
       "RH           0.0005549  0.0062649   0.089   0.9295  \n",
       "wind         0.0590396  0.0391827   1.507   0.1325  \n",
       "rain         0.0294352  0.2155805   0.137   0.8915  \n",
       "tran_FFMC    0.0400586  0.1104297   0.363   0.7169  \n",
       "---\n",
       "Signif. codes:  0 '***' 0.001 '**' 0.01 '*' 0.05 '.' 0.1 ' ' 1\n",
       "\n",
       "Residual standard error: 1.384 on 487 degrees of freedom\n",
       "Multiple R-squared:  0.07269,\tAdjusted R-squared:  0.02128 \n",
       "F-statistic: 1.414 on 27 and 487 DF,  p-value: 0.08296\n"
      ]
     },
     "metadata": {},
     "output_type": "display_data"
    }
   ],
   "source": [
    "fit <- lm(formula = log(area+1) ~ .-temp_cat-FFMC, data = fire_df)\n",
    "summary(fit)"
   ]
  },
  {
   "cell_type": "markdown",
   "metadata": {},
   "source": [
    "This improved adjusted R-squared to 2.128%, still this isn't a good number.\n",
    "\n",
    "The F-statistic 1.414 has a p-value of 0.08296 - so it just fails to reject the null hypothesis (at 5% significance level) so the model does not explain anything.\n",
    "\n",
    "The p-values for the coefficients show only DC to be significant at the 0.05 level. All other variables are non significant."
   ]
  },
  {
   "cell_type": "markdown",
   "metadata": {},
   "source": [
    "Let's remove unwanted features"
   ]
  },
  {
   "cell_type": "code",
   "execution_count": 45,
   "metadata": {},
   "outputs": [
    {
     "name": "stdout",
     "output_type": "stream",
     "text": [
      "Start:  AIC=362.28\n",
      "log(area + 1) ~ (X + Y + month + day + FFMC + DMC + DC + ISI + \n",
      "    temp + RH + wind + rain + tran_FFMC + temp_cat) - temp_cat - \n",
      "    FFMC\n",
      "\n",
      "            Df Sum of Sq    RSS    AIC\n",
      "- day        6     6.256 939.71 353.72\n",
      "- RH         1     0.015 933.47 360.29\n",
      "- rain       1     0.036 933.49 360.30\n",
      "- Y          1     0.212 933.66 360.40\n",
      "- tran_FFMC  1     0.252 933.70 360.42\n",
      "- ISI        1     0.368 933.82 360.48\n",
      "<none>                   933.45 362.28\n",
      "- wind       1     4.352 937.80 362.68\n",
      "- temp       1     4.622 938.07 362.83\n",
      "- DC         1     5.023 938.47 363.05\n",
      "- X          1     5.075 938.53 363.07\n",
      "- month     11    45.050 978.50 364.56\n",
      "- DMC        1     9.524 942.97 365.51\n",
      "\n",
      "Step:  AIC=353.72\n",
      "log(area + 1) ~ X + Y + month + DMC + DC + ISI + temp + RH + \n",
      "    wind + rain + tran_FFMC\n",
      "\n",
      "            Df Sum of Sq    RSS    AIC\n",
      "- RH         1     0.031 939.74 351.74\n",
      "- rain       1     0.099 939.81 351.78\n",
      "- tran_FFMC  1     0.112 939.82 351.78\n",
      "- Y          1     0.252 939.96 351.86\n",
      "- ISI        1     0.359 940.07 351.92\n",
      "<none>                   939.71 353.72\n",
      "- wind       1     3.963 943.67 353.89\n",
      "- X          1     5.212 944.92 354.57\n",
      "- temp       1     5.491 945.20 354.72\n",
      "- DC         1     5.771 945.48 354.87\n",
      "- month     11    44.044 983.75 355.31\n",
      "- DMC        1     9.600 949.31 356.96\n",
      "\n",
      "Step:  AIC=351.74\n",
      "log(area + 1) ~ X + Y + month + DMC + DC + ISI + temp + wind + \n",
      "    rain + tran_FFMC\n",
      "\n",
      "            Df Sum of Sq    RSS    AIC\n",
      "- tran_FFMC  1     0.093 939.83 349.79\n",
      "- rain       1     0.128 939.87 349.81\n",
      "- Y          1     0.245 939.98 349.87\n",
      "- ISI        1     0.345 940.08 349.93\n",
      "<none>                   939.74 351.74\n",
      "- wind       1     3.959 943.70 351.90\n",
      "- X          1     5.257 945.00 352.61\n",
      "- DC         1     5.826 945.56 352.92\n",
      "- month     11    46.718 986.46 354.73\n",
      "- temp       1    10.230 949.97 355.32\n",
      "- DMC        1    10.273 950.01 355.34\n",
      "\n",
      "Step:  AIC=349.79\n",
      "log(area + 1) ~ X + Y + month + DMC + DC + ISI + temp + wind + \n",
      "    rain\n",
      "\n",
      "        Df Sum of Sq    RSS    AIC\n",
      "- rain   1     0.138 939.97 347.87\n",
      "- ISI    1     0.258 940.09 347.93\n",
      "- Y      1     0.261 940.09 347.93\n",
      "<none>               939.83 349.79\n",
      "- wind   1     3.867 943.70 349.90\n",
      "- X      1     5.270 945.10 350.67\n",
      "- DC     1     5.948 945.78 351.04\n",
      "- month 11    47.150 986.98 353.00\n",
      "- temp   1    11.105 950.94 353.84\n",
      "- DMC    1    11.300 951.13 353.95\n",
      "\n",
      "Step:  AIC=347.87\n",
      "log(area + 1) ~ X + Y + month + DMC + DC + ISI + temp + wind\n",
      "\n",
      "        Df Sum of Sq    RSS    AIC\n",
      "- ISI    1     0.248 940.22 346.00\n",
      "- Y      1     0.262 940.23 346.01\n",
      "<none>               939.97 347.87\n",
      "- wind   1     3.975 943.94 348.04\n",
      "- X      1     5.392 945.36 348.81\n",
      "- DC     1     5.896 945.87 349.09\n",
      "- month 11    47.084 987.05 351.04\n",
      "- temp   1    11.271 951.24 352.00\n",
      "- DMC    1    11.330 951.30 352.04\n",
      "\n",
      "Step:  AIC=346\n",
      "log(area + 1) ~ X + Y + month + DMC + DC + temp + wind\n",
      "\n",
      "        Df Sum of Sq    RSS    AIC\n",
      "- Y      1     0.248 940.47 344.14\n",
      "<none>               940.22 346.00\n",
      "- wind   1     3.730 943.95 346.04\n",
      "- X      1     5.309 945.53 346.90\n",
      "- DC     1     5.691 945.91 347.11\n",
      "- temp   1    11.072 951.29 350.03\n",
      "- DMC    1    11.160 951.38 350.08\n",
      "- month 11    49.512 989.73 350.43\n",
      "\n",
      "Step:  AIC=344.14\n",
      "log(area + 1) ~ X + month + DMC + DC + temp + wind\n",
      "\n",
      "        Df Sum of Sq    RSS    AIC\n",
      "<none>               940.47 344.14\n",
      "- wind   1     3.918 944.38 344.28\n",
      "- DC     1     5.471 945.94 345.12\n",
      "- X      1     5.898 946.36 345.36\n",
      "- DMC    1    10.912 951.38 348.08\n",
      "- temp   1    10.963 951.43 348.11\n",
      "- month 11    49.383 989.85 348.49\n"
     ]
    },
    {
     "data": {
      "text/plain": [
       "\n",
       "Call:\n",
       "lm(formula = log(area + 1) ~ X + month + DMC + DC + temp + wind, \n",
       "    data = fire_df)\n",
       "\n",
       "Coefficients:\n",
       "(Intercept)            X     monthfeb     monthmar     monthapr     monthmay  \n",
       "  -0.439298     0.047350     0.824211     0.283058     0.623496     1.379097  \n",
       "   monthjun     monthjul     monthaug     monthsep     monthoct     monthnov  \n",
       "   0.352888     0.788462     0.999664     1.668903     1.561078    -0.281373  \n",
       "   monthdec          DMC           DC         temp         wind  \n",
       "   2.862520     0.004260    -0.002108     0.034797     0.052908  \n"
      ]
     },
     "metadata": {},
     "output_type": "display_data"
    }
   ],
   "source": [
    "step(fit)"
   ]
  },
  {
   "cell_type": "markdown",
   "metadata": {},
   "source": [
    "Removing variables one by one in backward direction, we see that there are few variables which are unimportant so we will remove those and try to run this model. "
   ]
  },
  {
   "cell_type": "code",
   "execution_count": 46,
   "metadata": {},
   "outputs": [
    {
     "data": {
      "text/plain": [
       "\n",
       "Call:\n",
       "lm(formula = log(area + 1) ~ X + month + DMC + DC + temp + wind, \n",
       "    data = fire_df)\n",
       "\n",
       "Residuals:\n",
       "    Min      1Q  Median      3Q     Max \n",
       "-1.8598 -1.0273 -0.5399  0.8655  5.3025 \n",
       "\n",
       "Coefficients:\n",
       "             Estimate Std. Error t value Pr(>|t|)  \n",
       "(Intercept) -0.439298   1.383005  -0.318   0.7509  \n",
       "X            0.047350   0.026793   1.767   0.0778 .\n",
       "monthfeb     0.824211   1.413328   0.583   0.5600  \n",
       "monthmar     0.283058   1.397266   0.203   0.8395  \n",
       "monthapr     0.623496   1.457602   0.428   0.6690  \n",
       "monthmay     1.379097   1.693790   0.814   0.4159  \n",
       "monthjun     0.352888   1.467849   0.240   0.8101  \n",
       "monthjul     0.788462   1.489085   0.529   0.5967  \n",
       "monthaug     0.999664   1.543408   0.648   0.5175  \n",
       "monthsep     1.668903   1.599864   1.043   0.2974  \n",
       "monthoct     1.561078   1.635906   0.954   0.3404  \n",
       "monthnov    -0.281373   1.953453  -0.144   0.8855  \n",
       "monthdec     2.862520   1.515151   1.889   0.0594 .\n",
       "DMC          0.004260   0.001772   2.404   0.0166 *\n",
       "DC          -0.002108   0.001238  -1.702   0.0894 .\n",
       "temp         0.034797   0.014442   2.409   0.0163 *\n",
       "wind         0.052908   0.036732   1.440   0.1504  \n",
       "---\n",
       "Signif. codes:  0 '***' 0.001 '**' 0.01 '*' 0.05 '.' 0.1 ' ' 1\n",
       "\n",
       "Residual standard error: 1.374 on 498 degrees of freedom\n",
       "Multiple R-squared:  0.06572,\tAdjusted R-squared:  0.03571 \n",
       "F-statistic:  2.19 on 16 and 498 DF,  p-value: 0.004908\n"
      ]
     },
     "metadata": {},
     "output_type": "display_data"
    }
   ],
   "source": [
    "fit <- lm(formula = log(area + 1) ~ X + month + DMC + DC + temp + wind, \n",
    "    data = fire_df)\n",
    "summary(fit)"
   ]
  },
  {
   "cell_type": "markdown",
   "metadata": {},
   "source": [
    "This improves R-squared to 3.5%. And the more variables seem significant in modelling.\n",
    "\n",
    "Still this is nowhere close to an acceptable number of adjusted R-squared. "
   ]
  },
  {
   "cell_type": "code",
   "execution_count": 47,
   "metadata": {},
   "outputs": [
    {
     "name": "stderr",
     "output_type": "stream",
     "text": [
      "Warning message:\n",
      "\"not plotting observations with leverage one:\n",
      "  104, 515\"Warning message:\n",
      "\"not plotting observations with leverage one:\n",
      "  104, 515\""
     ]
    },
    {
     "data": {
      "image/png": "[encoded data removed]",
      "text/plain": [
       "Plot with title \"\""
      ]
     },
     "metadata": {},
     "output_type": "display_data"
    }
   ],
   "source": [
    "par(mfcol=c(2,2))\n",
    "plot(fit)"
   ]
  },
  {
   "cell_type": "markdown",
   "metadata": {},
   "source": [
    "Still, we see significant difference in these plots compared with the 1st model.\n",
    "\n",
    "- We can still see linear pattern in residual vs fitted plot but many data points seem to be scattered around 0 which is a good sign.\n",
    "- Scale-Location plot shows that residuals are spread along the ranges of predictors. But we don't see a horizontal line with equally (randomly) spread points.\n",
    "- Some points like 472 pretty close to being an influencial outliers in the residuals vs leverage plot."
   ]
  },
  {
   "cell_type": "markdown",
   "metadata": {},
   "source": [
    "One thing to notice from the exploration part was, the area was not dependent on X and Y values as a number (int). But the area would be dependent on X and Y coordinate as a position, which shows that X and Y variable should be factors rather than numeric values."
   ]
  },
  {
   "cell_type": "code",
   "execution_count": 48,
   "metadata": {},
   "outputs": [
    {
     "name": "stdout",
     "output_type": "stream",
     "text": [
      "'data.frame':\t515 obs. of  15 variables:\n",
      " $ X        : Factor w/ 9 levels \"1\",\"2\",\"3\",\"4\",..: 7 7 7 8 8 8 8 8 8 7 ...\n",
      " $ Y        : Factor w/ 9 levels \"1\",\"2\",\"3\",\"4\",..: 5 4 4 6 6 6 6 6 6 5 ...\n",
      " $ month    : Factor w/ 12 levels \"jan\",\"feb\",\"mar\",..: 3 10 10 3 3 8 8 8 9 9 ...\n",
      " $ day      : Factor w/ 7 levels \"fri\",\"mon\",\"sat\",..: 1 6 3 1 4 4 2 2 6 3 ...\n",
      " $ FFMC     : num  86.2 90.6 90.6 91.7 89.3 92.3 92.3 91.5 91 92.5 ...\n",
      " $ DMC      : num  26.2 35.4 43.7 33.3 51.3 ...\n",
      " $ DC       : num  94.3 669.1 686.9 77.5 102.2 ...\n",
      " $ ISI      : num  5.1 6.7 6.7 9 9.6 14.7 8.5 10.7 7 7.1 ...\n",
      " $ temp     : num  8.2 18 14.6 8.3 11.4 22.2 24.1 8 13.1 22.8 ...\n",
      " $ RH       : int  51 33 33 97 99 29 27 86 63 40 ...\n",
      " $ wind     : num  6.7 0.9 1.3 4 1.8 5.4 3.1 2.2 5.4 4 ...\n",
      " $ rain     : num  0 0 0 0.2 0 0 0 0 0 0 ...\n",
      " $ area     : num  0 0 0 0 0 0 0 0 0 0 ...\n",
      " $ tran_FFMC: num  -1.135 -0.0842 -0.0842 0.195 -0.4056 ...\n",
      " $ temp_cat : Factor w/ 3 levels \"Low\",\"Mid\",\"High\": 1 2 1 1 1 2 2 1 1 2 ...\n"
     ]
    }
   ],
   "source": [
    "fire_df$X <- factor(fire_df$X,levels = c(1,2,3,4,5,6,7,8,9))\n",
    "fire_df$Y <- factor(fire_df$Y,levels = c(1,2,3,4,5,6,7,8,9))\n",
    "str(fire_df)"
   ]
  },
  {
   "cell_type": "code",
   "execution_count": 49,
   "metadata": {},
   "outputs": [
    {
     "data": {
      "text/plain": [
       "\n",
       "Call:\n",
       "lm(formula = log(area + 1) ~ . - temp_cat - FFMC, data = fire_df)\n",
       "\n",
       "Residuals:\n",
       "    Min      1Q  Median      3Q     Max \n",
       "-2.1389 -1.0117 -0.3921  0.7828  5.2081 \n",
       "\n",
       "Coefficients:\n",
       "             Estimate Std. Error t value Pr(>|t|)   \n",
       "(Intercept) -0.728105   1.535945  -0.474  0.63569   \n",
       "X2           0.049570   0.260022   0.191  0.84889   \n",
       "X3          -0.748163   0.301697  -2.480  0.01349 * \n",
       "X4          -0.074800   0.273322  -0.274  0.78446   \n",
       "X5          -0.586408   0.346636  -1.692  0.09136 . \n",
       "X6           0.014254   0.285646   0.050  0.96022   \n",
       "X7          -0.239117   0.298426  -0.801  0.42338   \n",
       "X8           0.112574   0.370337   0.304  0.76128   \n",
       "X9           1.557385   0.593984   2.622  0.00902 **\n",
       "Y3           0.436155   0.323897   1.347  0.17876   \n",
       "Y4           0.528837   0.276656   1.912  0.05654 . \n",
       "Y5           0.353786   0.290288   1.219  0.22355   \n",
       "Y6           0.396147   0.382088   1.037  0.30036   \n",
       "Y8           4.220672   1.433107   2.945  0.00339 **\n",
       "Y9          -1.955421   0.824641  -2.371  0.01813 * \n",
       "monthfeb     1.567807   1.417744   1.106  0.26935   \n",
       "monthmar     0.915301   1.408568   0.650  0.51613   \n",
       "monthapr     1.198433   1.465691   0.818  0.41396   \n",
       "monthmay     1.988779   1.696855   1.172  0.24177   \n",
       "monthjun     0.925092   1.481922   0.624  0.53276   \n",
       "monthjul     1.615249   1.504654   1.074  0.28359   \n",
       "monthaug     1.817165   1.564839   1.161  0.24612   \n",
       "monthsep     2.543046   1.621046   1.569  0.11737   \n",
       "monthoct     2.433469   1.659426   1.466  0.14319   \n",
       "monthnov     0.079283   1.969621   0.040  0.96791   \n",
       "monthdec     3.315622   1.549096   2.140  0.03283 * \n",
       "daymon       0.065356   0.225953   0.289  0.77252   \n",
       "daysat       0.251217   0.216820   1.159  0.24718   \n",
       "daysun       0.216097   0.211274   1.023  0.30691   \n",
       "daythu       0.042484   0.238453   0.178  0.85867   \n",
       "daytue       0.280100   0.232874   1.203  0.22965   \n",
       "daywed       0.033470   0.246287   0.136  0.89196   \n",
       "DMC          0.004494   0.001886   2.382  0.01761 * \n",
       "DC          -0.002462   0.001270  -1.939  0.05310 . \n",
       "ISI         -0.004198   0.024034  -0.175  0.86141   \n",
       "temp         0.012434   0.022808   0.545  0.58588   \n",
       "RH          -0.002634   0.006276  -0.420  0.67493   \n",
       "wind         0.059761   0.038679   1.545  0.12300   \n",
       "rain         0.119721   0.214455   0.558  0.57693   \n",
       "tran_FFMC    0.063697   0.109033   0.584  0.55936   \n",
       "---\n",
       "Signif. codes:  0 '***' 0.001 '**' 0.01 '*' 0.05 '.' 0.1 ' ' 1\n",
       "\n",
       "Residual standard error: 1.356 on 475 degrees of freedom\n",
       "Multiple R-squared:  0.1328,\tAdjusted R-squared:  0.06159 \n",
       "F-statistic: 1.865 on 39 and 475 DF,  p-value: 0.001572\n"
      ]
     },
     "metadata": {},
     "output_type": "display_data"
    }
   ],
   "source": [
    "my_fit2 = lm(log(area+1)~.-temp_cat-FFMC, data = fire_df)\n",
    "summary(my_fit2)"
   ]
  },
  {
   "cell_type": "markdown",
   "metadata": {},
   "source": [
    "We can see the improvement in Adjusted R-squared by 3 percent.\n",
    "\n",
    "We see many non-significant variables in the model. \n",
    "\n",
    "Lets remove unwanted features from this dataset"
   ]
  },
  {
   "cell_type": "code",
   "execution_count": 50,
   "metadata": {},
   "outputs": [
    {
     "name": "stdout",
     "output_type": "stream",
     "text": [
      "Start:  AIC=351.77\n",
      "log(area + 1) ~ (X + Y + month + day + FFMC + DMC + DC + ISI + \n",
      "    temp + RH + wind + rain + tran_FFMC + temp_cat) - temp_cat - \n",
      "    FFMC\n",
      "\n",
      "            Df Sum of Sq    RSS    AIC\n",
      "- day        6     5.669 878.62 343.10\n",
      "- ISI        1     0.056 873.00 349.80\n",
      "- RH         1     0.324 873.27 349.96\n",
      "- temp       1     0.546 873.49 350.09\n",
      "- rain       1     0.573 873.52 350.11\n",
      "- tran_FFMC  1     0.627 873.57 350.14\n",
      "<none>                   872.95 351.77\n",
      "- wind       1     4.387 877.33 352.35\n",
      "- DC         1     6.909 879.86 353.83\n",
      "- month     11    42.843 915.79 354.44\n",
      "- DMC        1    10.428 883.38 355.89\n",
      "- Y          6    37.794 910.74 361.60\n",
      "- X          8    44.945 917.89 361.62\n",
      "\n",
      "Step:  AIC=343.1\n",
      "log(area + 1) ~ X + Y + month + DMC + DC + ISI + temp + RH + \n",
      "    wind + rain + tran_FFMC\n",
      "\n",
      "            Df Sum of Sq    RSS    AIC\n",
      "- ISI        1     0.075 878.69 341.15\n",
      "- RH         1     0.183 878.80 341.21\n",
      "- tran_FFMC  1     0.399 879.02 341.34\n",
      "- rain       1     0.763 879.38 341.55\n",
      "- temp       1     0.964 879.58 341.67\n",
      "<none>                   878.62 343.10\n",
      "- wind       1     4.523 883.14 343.75\n",
      "- month     11    42.900 921.52 345.65\n",
      "- DC         1     7.886 886.50 345.70\n",
      "- DMC        1    10.728 889.34 347.35\n",
      "- X          8    45.271 923.89 352.98\n",
      "- Y          6    39.172 917.79 353.57\n",
      "\n",
      "Step:  AIC=341.15\n",
      "log(area + 1) ~ X + Y + month + DMC + DC + temp + RH + wind + \n",
      "    rain + tran_FFMC\n",
      "\n",
      "            Df Sum of Sq    RSS    AIC\n",
      "- RH         1     0.204 878.90 339.27\n",
      "- tran_FFMC  1     0.348 879.04 339.35\n",
      "- rain       1     0.778 879.47 339.60\n",
      "- temp       1     0.924 879.61 339.69\n",
      "<none>                   878.69 341.15\n",
      "- wind       1     4.555 883.25 341.81\n",
      "- DC         1     7.835 886.53 343.72\n",
      "- month     11    43.851 922.54 344.23\n",
      "- DMC        1    11.061 889.75 345.59\n",
      "- X          8    45.285 923.98 351.03\n",
      "- Y          6    39.343 918.03 351.71\n",
      "\n",
      "Step:  AIC=339.27\n",
      "log(area + 1) ~ X + Y + month + DMC + DC + temp + wind + rain + \n",
      "    tran_FFMC\n",
      "\n",
      "            Df Sum of Sq    RSS    AIC\n",
      "- tran_FFMC  1     0.473 879.37 337.54\n",
      "- rain       1     0.655 879.55 337.65\n",
      "<none>                   878.90 339.27\n",
      "- temp       1     3.534 882.43 339.33\n",
      "- wind       1     4.542 883.44 339.92\n",
      "- DC         1     7.722 886.62 341.77\n",
      "- DMC        1    10.892 889.79 343.61\n",
      "- month     11    48.788 927.68 345.09\n",
      "- X          8    45.082 923.98 349.03\n",
      "- Y          6    39.141 918.04 349.71\n",
      "\n",
      "Step:  AIC=337.54\n",
      "log(area + 1) ~ X + Y + month + DMC + DC + temp + wind + rain\n",
      "\n",
      "        Df Sum of Sq    RSS    AIC\n",
      "- rain   1     0.700 880.07 335.95\n",
      "<none>               879.37 337.54\n",
      "- wind   1     4.542 883.91 338.20\n",
      "- temp   1     4.737 884.11 338.31\n",
      "- DC     1     8.291 887.66 340.38\n",
      "- DMC    1    12.436 891.80 342.78\n",
      "- month 11    48.421 927.79 343.15\n",
      "- X      8    44.625 923.99 347.04\n",
      "- Y      6    38.769 918.14 347.76\n",
      "\n",
      "Step:  AIC=335.95\n",
      "log(area + 1) ~ X + Y + month + DMC + DC + temp + wind\n",
      "\n",
      "        Df Sum of Sq    RSS    AIC\n",
      "<none>               880.07 335.95\n",
      "- wind   1     4.774 884.84 336.74\n",
      "- temp   1     5.025 885.09 336.89\n",
      "- DC     1     8.106 888.17 338.68\n",
      "- DMC    1    12.406 892.47 341.16\n",
      "- month 11    48.154 928.22 341.39\n",
      "- X      8    44.210 924.28 345.20\n",
      "- Y      6    38.465 918.53 345.98\n"
     ]
    },
    {
     "data": {
      "text/plain": [
       "\n",
       "Call:\n",
       "lm(formula = log(area + 1) ~ X + Y + month + DMC + DC + temp + \n",
       "    wind, data = fire_df)\n",
       "\n",
       "Coefficients:\n",
       "(Intercept)           X2           X3           X4           X5           X6  \n",
       "  -0.855277     0.045960    -0.715669    -0.064271    -0.582091     0.028066  \n",
       "         X7           X8           X9           Y3           Y4           Y5  \n",
       "  -0.201875     0.120610     1.551284     0.409192     0.505219     0.342473  \n",
       "         Y6           Y8           Y9     monthfeb     monthmar     monthapr  \n",
       "   0.359877     4.047648    -2.024430     1.461650     0.868410     1.095197  \n",
       "   monthmay     monthjun     monthjul     monthaug     monthsep     monthoct  \n",
       "   1.840661     0.784149     1.571810     1.799268     2.533640     2.488592  \n",
       "   monthnov     monthdec          DMC           DC         temp         wind  \n",
       "   0.133758     3.351982     0.004663    -0.002633     0.024167     0.059110  \n"
      ]
     },
     "metadata": {},
     "output_type": "display_data"
    }
   ],
   "source": [
    "step(my_fit2)"
   ]
  },
  {
   "cell_type": "code",
   "execution_count": 51,
   "metadata": {},
   "outputs": [
    {
     "data": {
      "text/plain": [
       "\n",
       "Call:\n",
       "lm(formula = log(area + 1) ~ X + Y + month + DMC + DC + temp + \n",
       "    wind, data = fire_df)\n",
       "\n",
       "Residuals:\n",
       "    Min      1Q  Median      3Q     Max \n",
       "-2.2124 -0.9799 -0.4139  0.7809  5.3144 \n",
       "\n",
       "Coefficients:\n",
       "             Estimate Std. Error t value Pr(>|t|)   \n",
       "(Intercept) -0.855277   1.399954  -0.611  0.54153   \n",
       "X2           0.045960   0.256663   0.179  0.85796   \n",
       "X3          -0.715669   0.296891  -2.411  0.01630 * \n",
       "X4          -0.064271   0.268357  -0.239  0.81082   \n",
       "X5          -0.582091   0.340958  -1.707  0.08842 . \n",
       "X6           0.028066   0.281152   0.100  0.92052   \n",
       "X7          -0.201875   0.292557  -0.690  0.49050   \n",
       "X8           0.120610   0.365822   0.330  0.74177   \n",
       "X9           1.551284   0.586658   2.644  0.00845 **\n",
       "Y3           0.409192   0.313757   1.304  0.19279   \n",
       "Y4           0.505219   0.268754   1.880  0.06073 . \n",
       "Y5           0.342473   0.283101   1.210  0.22697   \n",
       "Y6           0.359877   0.370982   0.970  0.33250   \n",
       "Y8           4.047648   1.408066   2.875  0.00422 **\n",
       "Y9          -2.024430   0.813843  -2.487  0.01320 * \n",
       "monthfeb     1.461650   1.399751   1.044  0.29690   \n",
       "monthmar     0.868410   1.386040   0.627  0.53126   \n",
       "monthapr     1.095197   1.444775   0.758  0.44880   \n",
       "monthmay     1.840661   1.677520   1.097  0.27308   \n",
       "monthjun     0.784149   1.458295   0.538  0.59102   \n",
       "monthjul     1.571810   1.478892   1.063  0.28839   \n",
       "monthaug     1.799268   1.534116   1.173  0.24144   \n",
       "monthsep     2.533640   1.591491   1.592  0.11204   \n",
       "monthoct     2.488592   1.629049   1.528  0.12726   \n",
       "monthnov     0.133758   1.932763   0.069  0.94485   \n",
       "monthdec     3.351982   1.508275   2.222  0.02672 * \n",
       "DMC          0.004663   0.001783   2.615  0.00921 **\n",
       "DC          -0.002633   0.001246  -2.114  0.03506 * \n",
       "temp         0.024167   0.014523   1.664  0.09675 . \n",
       "wind         0.059110   0.036442   1.622  0.10545   \n",
       "---\n",
       "Signif. codes:  0 '***' 0.001 '**' 0.01 '*' 0.05 '.' 0.1 ' ' 1\n",
       "\n",
       "Residual standard error: 1.347 on 485 degrees of freedom\n",
       "Multiple R-squared:  0.1257,\tAdjusted R-squared:  0.07345 \n",
       "F-statistic: 2.405 on 29 and 485 DF,  p-value: 7.838e-05\n"
      ]
     },
     "metadata": {},
     "output_type": "display_data"
    }
   ],
   "source": [
    "my_fit2 <- lm(formula = log(area + 1) ~ X + Y + month + DMC + DC + temp + \n",
    "    wind, data = fire_df)\n",
    "summary(my_fit2)"
   ]
  },
  {
   "cell_type": "markdown",
   "metadata": {},
   "source": [
    "The adjusted R-squared ($R^2$) value indicates this model explains 7.34% of the variation in burned area which is an improvement by ~ 3 percent.\n",
    "\n",
    "The F-statistic 2.405 has a p-value < 7.83e-05 - so reject the null hypothesis (the model explains nothing) - the model is useful to some extent.\n",
    "\n",
    "The p-values for the coefficients shows X3, X9, Y8, Y9, monthdec, DMC, and DC are significant at the 0.05 level."
   ]
  },
  {
   "cell_type": "code",
   "execution_count": 52,
   "metadata": {},
   "outputs": [
    {
     "name": "stderr",
     "output_type": "stream",
     "text": [
      "Warning message:\n",
      "\"not plotting observations with leverage one:\n",
      "  104, 419, 515\"Warning message:\n",
      "\"not plotting observations with leverage one:\n",
      "  104, 419, 515\""
     ]
    },
    {
     "data": {
      "image/png": "[encoded data removed]",
      "text/plain": [
       "Plot with title \"\""
      ]
     },
     "metadata": {},
     "output_type": "display_data"
    }
   ],
   "source": [
    "par(mfcol=c(2,2))\n",
    "plot(my_fit2)"
   ]
  },
  {
   "cell_type": "markdown",
   "metadata": {},
   "source": [
    "We see that most of the graphs are similar to the previous model except the residuals vs Leverage one.\n",
    "\n",
    "In that plot, we see that data points are scattered across the 0 level line. There are influencial points but they seem to cancel each other."
   ]
  },
  {
   "cell_type": "markdown",
   "metadata": {},
   "source": [
    "From the above models, we see that the it would be better to use non-linear models considering the nature of dataset.\n",
    "\n",
    "Linear models seem to have hard time capturing the non linearity in the data, resulting in low performance."
   ]
  },
  {
   "cell_type": "markdown",
   "metadata": {},
   "source": [
    "### DecisionTree Regressor"
   ]
  },
  {
   "cell_type": "markdown",
   "metadata": {},
   "source": [
    "Here thee decision tree regressor will split the data for cross validation and calculate the R square.\n",
    "\n",
    "We will be using ANOVA method to reduce the variance in each node of the tree."
   ]
  },
  {
   "cell_type": "code",
   "execution_count": 53,
   "metadata": {},
   "outputs": [],
   "source": [
    "library(rpart)"
   ]
  },
  {
   "cell_type": "code",
   "execution_count": 54,
   "metadata": {},
   "outputs": [
    {
     "name": "stdout",
     "output_type": "stream",
     "text": [
      "'data.frame':\t515 obs. of  15 variables:\n",
      " $ X        : Factor w/ 9 levels \"1\",\"2\",\"3\",\"4\",..: 7 7 7 8 8 8 8 8 8 7 ...\n",
      " $ Y        : Factor w/ 9 levels \"1\",\"2\",\"3\",\"4\",..: 5 4 4 6 6 6 6 6 6 5 ...\n",
      " $ month    : Factor w/ 12 levels \"jan\",\"feb\",\"mar\",..: 3 10 10 3 3 8 8 8 9 9 ...\n",
      " $ day      : Factor w/ 7 levels \"fri\",\"mon\",\"sat\",..: 1 6 3 1 4 4 2 2 6 3 ...\n",
      " $ FFMC     : num  86.2 90.6 90.6 91.7 89.3 92.3 92.3 91.5 91 92.5 ...\n",
      " $ DMC      : num  26.2 35.4 43.7 33.3 51.3 ...\n",
      " $ DC       : num  94.3 669.1 686.9 77.5 102.2 ...\n",
      " $ ISI      : num  5.1 6.7 6.7 9 9.6 14.7 8.5 10.7 7 7.1 ...\n",
      " $ temp     : num  8.2 18 14.6 8.3 11.4 22.2 24.1 8 13.1 22.8 ...\n",
      " $ RH       : int  51 33 33 97 99 29 27 86 63 40 ...\n",
      " $ wind     : num  6.7 0.9 1.3 4 1.8 5.4 3.1 2.2 5.4 4 ...\n",
      " $ rain     : num  0 0 0 0.2 0 0 0 0 0 0 ...\n",
      " $ area     : num  0 0 0 0 0 0 0 0 0 0 ...\n",
      " $ tran_FFMC: num  -1.135 -0.0842 -0.0842 0.195 -0.4056 ...\n",
      " $ temp_cat : Factor w/ 3 levels \"Low\",\"Mid\",\"High\": 1 2 1 1 1 2 2 1 1 2 ...\n"
     ]
    }
   ],
   "source": [
    "str(fire_df)"
   ]
  },
  {
   "cell_type": "code",
   "execution_count": 55,
   "metadata": {},
   "outputs": [
    {
     "name": "stdout",
     "output_type": "stream",
     "text": [
      "Call:\n",
      "rpart(formula = log(area + 1) ~ X + Y + month + DMC + temp + \n",
      "    DC + ISI + RH + day + FFMC + wind + rain, data = fire_df, \n",
      "    method = \"anova\", control = list(minsplit = 4, maxdepth = 4, \n",
      "        cp = 0.01))\n",
      "  n= 515 \n",
      "\n",
      "          CP nsplit rel error   xerror       xstd\n",
      "1 0.02299189      0 1.0000000 1.006732 0.07573787\n",
      "2 0.01893317      1 0.9770081 1.053045 0.07640211\n",
      "3 0.01613102      3 0.9391418 1.066160 0.07780978\n",
      "4 0.01402669      4 0.9230108 1.084103 0.07970357\n",
      "5 0.01000000      5 0.9089841 1.087441 0.08210907\n",
      "\n",
      "Variable importance\n",
      "    X   DMC month  temp  FFMC    DC     Y   ISI    RH \n",
      "   28    27    21     9     5     5     3     3     2 \n",
      "\n",
      "Node number 1: 515 observations,    complexity param=0.02299189\n",
      "  mean=1.11534, MSE=1.954608 \n",
      "  left son=2 (85 obs) right son=3 (430 obs)\n",
      "  Primary splits:\n",
      "      X     splits as  RRLRLRRRR,    improve=0.02299189, (0 missing)\n",
      "      month splits as  LLLLRLLLLLLR, improve=0.01954192, (0 missing)\n",
      "      temp  < 5.2    to the right,   improve=0.01840393, (0 missing)\n",
      "      DMC   < 118.45 to the left,    improve=0.01367394, (0 missing)\n",
      "      wind  < 8.25   to the left,    improve=0.01141503, (0 missing)\n",
      "\n",
      "Node number 2: 85 observations\n",
      "  mean=0.6385342, MSE=0.9517522 \n",
      "\n",
      "Node number 3: 430 observations,    complexity param=0.01893317\n",
      "  mean=1.209593, MSE=2.099023 \n",
      "  left son=6 (248 obs) right son=7 (182 obs)\n",
      "  Primary splits:\n",
      "      DMC   < 118.45 to the left,    improve=0.019602000, (0 missing)\n",
      "      month splits as  LLLLLLLLLLLR, improve=0.017094250, (0 missing)\n",
      "      temp  < 5.2    to the right,   improve=0.015574120, (0 missing)\n",
      "      Y     splits as  -LRRRR-RL,    improve=0.012195730, (0 missing)\n",
      "      wind  < 8.25   to the left,    improve=0.008733092, (0 missing)\n",
      "  Surrogate splits:\n",
      "      FFMC  < 92.45  to the left,    agree=0.702, adj=0.297, (0 split)\n",
      "      month splits as  LLLLLLLRLLLL, agree=0.698, adj=0.286, (0 split)\n",
      "      DC    < 560.8  to the left,    agree=0.688, adj=0.264, (0 split)\n",
      "      temp  < 20.85  to the left,    agree=0.663, adj=0.203, (0 split)\n",
      "      ISI   < 6.75   to the left,    agree=0.660, adj=0.198, (0 split)\n",
      "\n",
      "Node number 6: 248 observations,    complexity param=0.01893317\n",
      "  mean=1.035825, MSE=1.662896 \n",
      "  left son=12 (238 obs) right son=13 (10 obs)\n",
      "  Primary splits:\n",
      "      month splits as  LLLLRLLLLLLR, improve=0.04952679, (0 missing)\n",
      "      wind  < 8.25   to the left,    improve=0.03830840, (0 missing)\n",
      "      temp  < 5.2    to the right,   improve=0.03762481, (0 missing)\n",
      "      Y     splits as  -LRRRR--L,    improve=0.03119410, (0 missing)\n",
      "      X     splits as  LL-R-RRRR,    improve=0.02317283, (0 missing)\n",
      "  Surrogate splits:\n",
      "      temp < 5.2    to the right, agree=0.976, adj=0.4, (0 split)\n",
      "      RH   < 21.5   to the right, agree=0.964, adj=0.1, (0 split)\n",
      "\n",
      "Node number 7: 182 observations,    complexity param=0.01613102\n",
      "  mean=1.446375, MSE=2.596096 \n",
      "  left son=14 (173 obs) right son=15 (9 obs)\n",
      "  Primary splits:\n",
      "      DMC   < 121.15 to the right,   improve=0.03436659, (0 missing)\n",
      "      month splits as  -----LRLR---, improve=0.02728559, (0 missing)\n",
      "      day   splits as  LLRRLRR,      improve=0.02102821, (0 missing)\n",
      "      RH    < 53.5   to the right,   improve=0.01976519, (0 missing)\n",
      "      X     splits as  RR-R-LLLR,    improve=0.01790640, (0 missing)\n",
      "\n",
      "Node number 12: 238 observations,    complexity param=0.01402669\n",
      "  mean=0.977, MSE=1.608077 \n",
      "  left son=24 (110 obs) right son=25 (128 obs)\n",
      "  Primary splits:\n",
      "      X    splits as  LL-L-RRRR,  improve=0.03689254, (0 missing)\n",
      "      Y    splits as  -LRRRR--L,  improve=0.02774576, (0 missing)\n",
      "      temp < 24.25  to the left,  improve=0.01662909, (0 missing)\n",
      "      RH   < 73.5   to the right, improve=0.01646653, (0 missing)\n",
      "      FFMC < 92.25  to the right, improve=0.01187539, (0 missing)\n",
      "  Surrogate splits:\n",
      "      Y     splits as  -LLLRR--R,    agree=0.655, adj=0.255, (0 split)\n",
      "      DMC   < 95.25  to the right,   agree=0.626, adj=0.191, (0 split)\n",
      "      month splits as  LRRR-RRLRRR-, agree=0.613, adj=0.164, (0 split)\n",
      "      DC    < 499.6  to the right,   agree=0.584, adj=0.100, (0 split)\n",
      "      FFMC  < 92     to the right,   agree=0.576, adj=0.082, (0 split)\n",
      "\n",
      "Node number 13: 10 observations\n",
      "  mean=2.435867, MSE=0.9251244 \n",
      "\n",
      "Node number 14: 173 observations\n",
      "  mean=1.378247, MSE=2.330629 \n",
      "\n",
      "Node number 15: 9 observations\n",
      "  mean=2.75595, MSE=5.89475 \n",
      "\n",
      "Node number 24: 110 observations\n",
      "  mean=0.7142569, MSE=1.153109 \n",
      "\n",
      "Node number 25: 128 observations\n",
      "  mean=1.202795, MSE=1.888755 \n",
      "\n"
     ]
    }
   ],
   "source": [
    "fit <- rpart(log(area+1) ~ X+Y+month+DMC+temp+DC+ISI+RH+day+FFMC+wind+rain, method=\"anova\", data=fire_df,\n",
    "             control = list(minsplit = 4, maxdepth = 4, cp=0.01))\n",
    "summary(fit)"
   ]
  },
  {
   "cell_type": "markdown",
   "metadata": {},
   "source": [
    "Position X, DMC and month seems to be very important features for this model. This model developed is simple with less  "
   ]
  },
  {
   "cell_type": "code",
   "execution_count": 56,
   "metadata": {},
   "outputs": [
    {
     "data": {
      "image/png": "[encoded data removed]",
      "text/plain": [
       "Plot with title \"Regression Tree for Sepal Length\""
      ]
     },
     "metadata": {},
     "output_type": "display_data"
    }
   ],
   "source": [
    "plot(fit, uniform=TRUE, \n",
    " main=\"Regression Tree for Sepal Length\")\n",
    " text(fit, use.n=TRUE, cex = .6)"
   ]
  },
  {
   "cell_type": "markdown",
   "metadata": {},
   "source": [
    "We can see that the first split has been made based on X. Then the next split has been made based on value of DMC. And so this model considers these variables as most important."
   ]
  },
  {
   "cell_type": "code",
   "execution_count": 57,
   "metadata": {},
   "outputs": [
    {
     "name": "stdout",
     "output_type": "stream",
     "text": [
      "\n",
      "Regression tree:\n",
      "rpart(formula = log(area + 1) ~ X + Y + month + DMC + temp + \n",
      "    DC + ISI + RH + day + FFMC + wind + rain, data = fire_df, \n",
      "    method = \"anova\", control = list(minsplit = 4, maxdepth = 4, \n",
      "        cp = 0.01))\n",
      "\n",
      "Variables actually used in tree construction:\n",
      "[1] DMC   month X    \n",
      "\n",
      "Root node error: 1006.6/515 = 1.9546\n",
      "\n",
      "n= 515 \n",
      "\n",
      "        CP nsplit rel error xerror     xstd\n",
      "1 0.022992      0   1.00000 1.0067 0.075738\n",
      "2 0.018933      1   0.97701 1.0530 0.076402\n",
      "3 0.016131      3   0.93914 1.0662 0.077810\n",
      "4 0.014027      4   0.92301 1.0841 0.079704\n",
      "5 0.010000      5   0.90898 1.0874 0.082109\n"
     ]
    },
    {
     "data": {
      "image/png": "[encoded data removed]",
      "text/plain": [
       "plot without title"
      ]
     },
     "metadata": {},
     "output_type": "display_data"
    }
   ],
   "source": [
    "par(mfrow=c(1,2)) \n",
    "rsq.rpart(fit)"
   ]
  },
  {
   "cell_type": "markdown",
   "metadata": {},
   "source": [
    "Here we can see that r square increases with increase in number of splits. However, it is important to notice that X relative error remains almost constant with increase in number of splits."
   ]
  },
  {
   "cell_type": "markdown",
   "metadata": {},
   "source": [
    "We can make this model a bit more complex by adding increasing the depth"
   ]
  },
  {
   "cell_type": "code",
   "execution_count": 58,
   "metadata": {},
   "outputs": [
    {
     "name": "stdout",
     "output_type": "stream",
     "text": [
      "Call:\n",
      "rpart(formula = log(area + 1) ~ X + Y + month + DMC + temp + \n",
      "    DC + ISI + RH + day + FFMC + wind + rain, data = fire_df, \n",
      "    method = \"anova\", control = list(minsplit = 6, maxdepth = 8, \n",
      "        cp = 0.01))\n",
      "  n= 515 \n",
      "\n",
      "          CP nsplit rel error   xerror       xstd\n",
      "1 0.02299189      0 1.0000000 1.001986 0.07540123\n",
      "2 0.01893317      1 0.9770081 1.074480 0.08107797\n",
      "3 0.01613102      3 0.9391418 1.095857 0.08162493\n",
      "4 0.01402669      4 0.9230108 1.149994 0.08656690\n",
      "5 0.01309087      5 0.9089841 1.204213 0.09055366\n",
      "6 0.01291525     11 0.8295460 1.200010 0.08855983\n",
      "7 0.01070482     13 0.8037155 1.218065 0.08924764\n",
      "8 0.01000000     14 0.7930107 1.269644 0.09094207\n",
      "\n",
      "Variable importance\n",
      " temp    RH     X   DMC month     Y   day    DC  FFMC   ISI  wind \n",
      "   19    18    14    13     9     7     7     5     3     2     2 \n",
      "\n",
      "Node number 1: 515 observations,    complexity param=0.02299189\n",
      "  mean=1.11534, MSE=1.954608 \n",
      "  left son=2 (85 obs) right son=3 (430 obs)\n",
      "  Primary splits:\n",
      "      X     splits as  RRLRLRRRR,    improve=0.02299189, (0 missing)\n",
      "      month splits as  LLLLRLLLLLLR, improve=0.01954192, (0 missing)\n",
      "      temp  < 5.2    to the right,   improve=0.01840393, (0 missing)\n",
      "      DMC   < 118.45 to the left,    improve=0.01367394, (0 missing)\n",
      "      wind  < 8.25   to the left,    improve=0.01141503, (0 missing)\n",
      "\n",
      "Node number 2: 85 observations\n",
      "  mean=0.6385342, MSE=0.9517522 \n",
      "\n",
      "Node number 3: 430 observations,    complexity param=0.01893317\n",
      "  mean=1.209593, MSE=2.099023 \n",
      "  left son=6 (248 obs) right son=7 (182 obs)\n",
      "  Primary splits:\n",
      "      DMC   < 118.45 to the left,    improve=0.019602000, (0 missing)\n",
      "      month splits as  LLLLLLLLLLLR, improve=0.017094250, (0 missing)\n",
      "      temp  < 5.2    to the right,   improve=0.015574120, (0 missing)\n",
      "      Y     splits as  -LRRRR-RL,    improve=0.012195730, (0 missing)\n",
      "      wind  < 8.25   to the left,    improve=0.008733092, (0 missing)\n",
      "  Surrogate splits:\n",
      "      FFMC  < 92.45  to the left,    agree=0.702, adj=0.297, (0 split)\n",
      "      month splits as  LLLLLLLRLLLL, agree=0.698, adj=0.286, (0 split)\n",
      "      DC    < 560.8  to the left,    agree=0.688, adj=0.264, (0 split)\n",
      "      temp  < 20.85  to the left,    agree=0.663, adj=0.203, (0 split)\n",
      "      ISI   < 6.75   to the left,    agree=0.660, adj=0.198, (0 split)\n",
      "\n",
      "Node number 6: 248 observations,    complexity param=0.01893317\n",
      "  mean=1.035825, MSE=1.662896 \n",
      "  left son=12 (238 obs) right son=13 (10 obs)\n",
      "  Primary splits:\n",
      "      month splits as  LLLLRLLLLLLR, improve=0.04952679, (0 missing)\n",
      "      wind  < 8.25   to the left,    improve=0.03830840, (0 missing)\n",
      "      temp  < 5.2    to the right,   improve=0.03762481, (0 missing)\n",
      "      Y     splits as  -LRRRR--L,    improve=0.03119410, (0 missing)\n",
      "      X     splits as  LL-R-RRRR,    improve=0.02317283, (0 missing)\n",
      "  Surrogate splits:\n",
      "      temp < 5.2    to the right, agree=0.976, adj=0.4, (0 split)\n",
      "      RH   < 21.5   to the right, agree=0.964, adj=0.1, (0 split)\n",
      "\n",
      "Node number 7: 182 observations,    complexity param=0.01613102\n",
      "  mean=1.446375, MSE=2.596096 \n",
      "  left son=14 (173 obs) right son=15 (9 obs)\n",
      "  Primary splits:\n",
      "      DMC   < 121.15 to the right,   improve=0.03436659, (0 missing)\n",
      "      month splits as  -----LRLR---, improve=0.02728559, (0 missing)\n",
      "      day   splits as  LLRRLRR,      improve=0.02102821, (0 missing)\n",
      "      RH    < 53.5   to the right,   improve=0.01976519, (0 missing)\n",
      "      X     splits as  RR-R-LLLR,    improve=0.01790640, (0 missing)\n",
      "\n",
      "Node number 12: 238 observations,    complexity param=0.01402669\n",
      "  mean=0.977, MSE=1.608077 \n",
      "  left son=24 (110 obs) right son=25 (128 obs)\n",
      "  Primary splits:\n",
      "      X    splits as  LL-L-RRRR,  improve=0.03689254, (0 missing)\n",
      "      Y    splits as  -LRRRR--L,  improve=0.02774576, (0 missing)\n",
      "      temp < 24.25  to the left,  improve=0.01662909, (0 missing)\n",
      "      RH   < 73.5   to the right, improve=0.01646653, (0 missing)\n",
      "      FFMC < 92.25  to the right, improve=0.01187539, (0 missing)\n",
      "  Surrogate splits:\n",
      "      Y     splits as  -LLLRR--R,    agree=0.655, adj=0.255, (0 split)\n",
      "      DMC   < 95.25  to the right,   agree=0.626, adj=0.191, (0 split)\n",
      "      month splits as  LRRR-RRLRRR-, agree=0.613, adj=0.164, (0 split)\n",
      "      DC    < 499.6  to the right,   agree=0.584, adj=0.100, (0 split)\n",
      "      FFMC  < 92     to the right,   agree=0.576, adj=0.082, (0 split)\n",
      "\n",
      "Node number 13: 10 observations\n",
      "  mean=2.435867, MSE=0.9251244 \n",
      "\n",
      "Node number 14: 173 observations,    complexity param=0.01309087\n",
      "  mean=1.378247, MSE=2.330629 \n",
      "  left son=28 (81 obs) right son=29 (92 obs)\n",
      "  Primary splits:\n",
      "      X     splits as  RR-R-LLLR,    improve=0.02118466, (0 missing)\n",
      "      temp  < 26.05  to the left,    improve=0.01771439, (0 missing)\n",
      "      day   splits as  RLRRLRR,      improve=0.01745001, (0 missing)\n",
      "      month splits as  -----LRLR---, improve=0.01651024, (0 missing)\n",
      "      RH    < 53.5   to the right,   improve=0.01525942, (0 missing)\n",
      "  Surrogate splits:\n",
      "      Y    splits as  -RRRRL-LR,  agree=0.705, adj=0.370, (0 split)\n",
      "      RH   < 59.5   to the right, agree=0.601, adj=0.148, (0 split)\n",
      "      temp < 19.8   to the left,  agree=0.590, adj=0.123, (0 split)\n",
      "      DC   < 676.65 to the left,  agree=0.584, adj=0.111, (0 split)\n",
      "      wind < 4.25   to the right, agree=0.584, adj=0.111, (0 split)\n",
      "\n",
      "Node number 15: 9 observations\n",
      "  mean=2.75595, MSE=5.89475 \n",
      "\n",
      "Node number 24: 110 observations\n",
      "  mean=0.7142569, MSE=1.153109 \n",
      "\n",
      "Node number 25: 128 observations,    complexity param=0.01291525\n",
      "  mean=1.202795, MSE=1.888755 \n",
      "  left son=50 (31 obs) right son=51 (97 obs)\n",
      "  Primary splits:\n",
      "      RH   < 32.5   to the left,  improve=0.04539696, (0 missing)\n",
      "      DMC  < 36.7   to the left,  improve=0.02674738, (0 missing)\n",
      "      ISI  < 9.3    to the left,  improve=0.02554635, (0 missing)\n",
      "      DC   < 734    to the left,  improve=0.02493286, (0 missing)\n",
      "      wind < 2.9    to the left,  improve=0.02363481, (0 missing)\n",
      "  Surrogate splits:\n",
      "      temp  < 23.1   to the right,   agree=0.797, adj=0.161, (0 split)\n",
      "      month splits as  -RRR-RRRRRL-, agree=0.766, adj=0.032, (0 split)\n",
      "      ISI   < 14.35  to the right,   agree=0.766, adj=0.032, (0 split)\n",
      "\n",
      "Node number 28: 81 observations,    complexity param=0.01309087\n",
      "  mean=1.141437, MSE=2.269715 \n",
      "  left son=56 (69 obs) right son=57 (12 obs)\n",
      "  Primary splits:\n",
      "      temp < 26.85  to the left,  improve=0.07904212, (0 missing)\n",
      "      day  splits as  LLRLRRL,    improve=0.06083025, (0 missing)\n",
      "      RH   < 36.5   to the right, improve=0.05237819, (0 missing)\n",
      "      wind < 4.25   to the left,  improve=0.04484761, (0 missing)\n",
      "      DC   < 660    to the right, improve=0.02311570, (0 missing)\n",
      "  Surrogate splits:\n",
      "      RH < 31.5   to the right, agree=0.938, adj=0.583, (0 split)\n",
      "\n",
      "Node number 29: 92 observations,    complexity param=0.01309087\n",
      "  mean=1.586742, MSE=2.291417 \n",
      "  left son=58 (63 obs) right son=59 (29 obs)\n",
      "  Primary splits:\n",
      "      day   splits as  LLLRLLR,      improve=0.05242311, (0 missing)\n",
      "      DMC   < 134.4  to the right,   improve=0.05083648, (0 missing)\n",
      "      month splits as  -----LRLR---, improve=0.04337276, (0 missing)\n",
      "      Y     splits as  -LRRRR--L,    improve=0.03344869, (0 missing)\n",
      "      ISI   < 10.5   to the right,   improve=0.02768134, (0 missing)\n",
      "  Surrogate splits:\n",
      "      temp < 15.65  to the right, agree=0.707, adj=0.069, (0 split)\n",
      "      ISI  < 17.25  to the left,  agree=0.707, adj=0.069, (0 split)\n",
      "      wind < 3.8    to the left,  agree=0.707, adj=0.069, (0 split)\n",
      "      DMC  < 273.05 to the left,  agree=0.696, adj=0.034, (0 split)\n",
      "      DC   < 818.6  to the left,  agree=0.696, adj=0.034, (0 split)\n",
      "\n",
      "Node number 50: 31 observations\n",
      "  mean=0.6848229, MSE=1.00338 \n",
      "\n",
      "Node number 51: 97 observations,    complexity param=0.01291525\n",
      "  mean=1.368332, MSE=2.058564 \n",
      "  left son=102 (69 obs) right son=103 (28 obs)\n",
      "  Primary splits:\n",
      "      temp < 19.55  to the left,  improve=0.07525210, (0 missing)\n",
      "      RH   < 71.5   to the right, improve=0.04939773, (0 missing)\n",
      "      DMC  < 36.5   to the left,  improve=0.03930762, (0 missing)\n",
      "      FFMC < 90.45  to the left,  improve=0.03799724, (0 missing)\n",
      "      DC   < 734    to the left,  improve=0.03711733, (0 missing)\n",
      "  Surrogate splits:\n",
      "      RH   < 41.5   to the right, agree=0.784, adj=0.250, (0 split)\n",
      "      DMC  < 101.8  to the left,  agree=0.763, adj=0.179, (0 split)\n",
      "      DC   < 744.85 to the left,  agree=0.753, adj=0.143, (0 split)\n",
      "      FFMC < 91.3   to the left,  agree=0.753, adj=0.143, (0 split)\n",
      "      X    splits as  -----LLLR,  agree=0.732, adj=0.071, (0 split)\n",
      "\n",
      "Node number 56: 69 observations\n",
      "  mean=0.9648007, MSE=1.811989 \n",
      "\n",
      "Node number 57: 12 observations\n",
      "  mean=2.157099, MSE=3.690665 \n",
      "\n",
      "Node number 58: 63 observations,    complexity param=0.01309087\n",
      "  mean=1.351593, MSE=1.938471 \n",
      "  left son=116 (14 obs) right son=117 (49 obs)\n",
      "  Primary splits:\n",
      "      RH   < 27.5   to the left,  improve=0.13193950, (0 missing)\n",
      "      temp < 23.65  to the right, improve=0.10991000, (0 missing)\n",
      "      DMC  < 132    to the right, improve=0.06164587, (0 missing)\n",
      "      DC   < 610.25 to the right, improve=0.05748709, (0 missing)\n",
      "      ISI  < 14.7   to the left,  improve=0.04513598, (0 missing)\n",
      "  Surrogate splits:\n",
      "      temp < 27.6   to the right, agree=0.857, adj=0.357, (0 split)\n",
      "      wind < 1.55   to the left,  agree=0.825, adj=0.214, (0 split)\n",
      "      FFMC < 95.5   to the right, agree=0.794, adj=0.071, (0 split)\n",
      "\n",
      "Node number 59: 29 observations,    complexity param=0.01309087\n",
      "  mean=2.097582, MSE=2.677081 \n",
      "  left son=118 (21 obs) right son=119 (8 obs)\n",
      "  Primary splits:\n",
      "      RH    < 29.5   to the right,   improve=0.2015877, (0 missing)\n",
      "      wind  < 5.15   to the right,   improve=0.1718489, (0 missing)\n",
      "      ISI   < 10.35  to the right,   improve=0.1523975, (0 missing)\n",
      "      month splits as  ------LLR---, improve=0.1445326, (0 missing)\n",
      "      DMC   < 140.35 to the right,   improve=0.1147435, (0 missing)\n",
      "  Surrogate splits:\n",
      "      temp < 25.85  to the left,  agree=0.862, adj=0.500, (0 split)\n",
      "      Y    splits as  -LLLLR---,  agree=0.759, adj=0.125, (0 split)\n",
      "      DMC  < 136.35 to the right, agree=0.759, adj=0.125, (0 split)\n",
      "\n",
      "Node number 102: 69 observations\n",
      "  mean=1.117608, MSE=1.582294 \n",
      "\n",
      "Node number 103: 28 observations,    complexity param=0.01070482\n",
      "  mean=1.986188, MSE=2.695572 \n",
      "  left son=206 (21 obs) right son=207 (7 obs)\n",
      "  Primary splits:\n",
      "      day  splits as  LRLLLRL,    improve=0.14277010, (0 missing)\n",
      "      ISI  < 6.8    to the right, improve=0.09387359, (0 missing)\n",
      "      FFMC < 91.75  to the right, improve=0.07384429, (0 missing)\n",
      "      RH   < 44     to the left,  improve=0.07262848, (0 missing)\n",
      "      Y    splits as  --LRLL---,  improve=0.06784621, (0 missing)\n",
      "  Surrogate splits:\n",
      "      DC  < 757.75 to the left,  agree=0.893, adj=0.571, (0 split)\n",
      "      ISI < 6.8    to the right, agree=0.821, adj=0.286, (0 split)\n",
      "      DMC < 108.2  to the left,  agree=0.786, adj=0.143, (0 split)\n",
      "\n",
      "Node number 116: 14 observations\n",
      "  mean=0.4054629, MSE=0.5278387 \n",
      "\n",
      "Node number 117: 49 observations\n",
      "  mean=1.621916, MSE=2.012674 \n",
      "\n",
      "Node number 118: 21 observations,    complexity param=0.01309087\n",
      "  mean=1.644164, MSE=2.188517 \n",
      "  left son=236 (7 obs) right son=237 (14 obs)\n",
      "  Primary splits:\n",
      "      Y    splits as  -LRRL----,  improve=0.3062810, (0 missing)\n",
      "      ISI  < 10.35  to the right, improve=0.1745513, (0 missing)\n",
      "      temp < 23.15  to the right, improve=0.1371183, (0 missing)\n",
      "      RH   < 42.5   to the left,  improve=0.1203379, (0 missing)\n",
      "      wind < 5.15   to the right, improve=0.1171660, (0 missing)\n",
      "  Surrogate splits:\n",
      "      temp  < 14.15  to the left,    agree=0.762, adj=0.286, (0 split)\n",
      "      month splits as  ------LRR---, agree=0.714, adj=0.143, (0 split)\n",
      "      DC    < 603.6  to the left,    agree=0.714, adj=0.143, (0 split)\n",
      "      RH    < 70.5   to the right,   agree=0.714, adj=0.143, (0 split)\n",
      "\n",
      "Node number 119: 8 observations\n",
      "  mean=3.287802, MSE=2.003268 \n",
      "\n",
      "Node number 206: 21 observations\n",
      "  mean=1.628023, MSE=2.04515 \n",
      "\n",
      "Node number 207: 7 observations\n",
      "  mean=3.060684, MSE=3.107451 \n",
      "\n",
      "Node number 236: 7 observations\n",
      "  mean=0.4863204, MSE=0.61757 \n",
      "\n",
      "Node number 237: 14 observations\n",
      "  mean=2.223086, MSE=1.968539 \n",
      "\n"
     ]
    }
   ],
   "source": [
    "fit <- rpart(log(area+1) ~ X+Y+month+DMC+temp+DC+ISI+RH+day+FFMC+wind+rain, method=\"anova\", data=fire_df,\n",
    "             control = list(minsplit = 6, maxdepth = 8, cp=0.01))\n",
    "summary(fit)"
   ]
  },
  {
   "cell_type": "markdown",
   "metadata": {},
   "source": [
    "- In this summary, we can see that temperature, RH are considered very important factor for modelling. THis is obvious as fire area is dependent on temperature.\n",
    "\n",
    "- Although relative error decreases, std error remains fluctuate so the model is not good enough for prediction.\n"
   ]
  },
  {
   "cell_type": "code",
   "execution_count": 59,
   "metadata": {},
   "outputs": [
    {
     "data": {
      "image/png": "[encoded data removed]",
      "text/plain": [
       "Plot with title \"Regression Tree for Sepal Length\""
      ]
     },
     "metadata": {},
     "output_type": "display_data"
    }
   ],
   "source": [
    "plot(fit, uniform=TRUE, \n",
    " main=\"Regression Tree for Sepal Length\")\n",
    " text(fit, use.n=TRUE, cex = .6)"
   ]
  },
  {
   "cell_type": "code",
   "execution_count": 60,
   "metadata": {},
   "outputs": [
    {
     "name": "stdout",
     "output_type": "stream",
     "text": [
      "\n",
      "Regression tree:\n",
      "rpart(formula = log(area + 1) ~ X + Y + month + DMC + temp + \n",
      "    DC + ISI + RH + day + FFMC + wind + rain, data = fire_df, \n",
      "    method = \"anova\", control = list(minsplit = 6, maxdepth = 8, \n",
      "        cp = 0.01))\n",
      "\n",
      "Variables actually used in tree construction:\n",
      "[1] day   DMC   month RH    temp  X     Y    \n",
      "\n",
      "Root node error: 1006.6/515 = 1.9546\n",
      "\n",
      "n= 515 \n",
      "\n",
      "        CP nsplit rel error xerror     xstd\n",
      "1 0.022992      0   1.00000 1.0020 0.075401\n",
      "2 0.018933      1   0.97701 1.0745 0.081078\n",
      "3 0.016131      3   0.93914 1.0959 0.081625\n",
      "4 0.014027      4   0.92301 1.1500 0.086567\n",
      "5 0.013091      5   0.90898 1.2042 0.090554\n",
      "6 0.012915     11   0.82955 1.2000 0.088560\n",
      "7 0.010705     13   0.80372 1.2181 0.089248\n",
      "8 0.010000     14   0.79301 1.2696 0.090942\n"
     ]
    },
    {
     "data": {
      "image/png": "[encoded data removed]",
      "text/plain": [
       "plot without title"
      ]
     },
     "metadata": {},
     "output_type": "display_data"
    }
   ],
   "source": [
    "par(mfrow=c(1,2)) \n",
    "rsq.rpart(fit)"
   ]
  },
  {
   "cell_type": "markdown",
   "metadata": {},
   "source": [
    "We see higher value of R-square compared with previous model but the relative error increases with the increase in number of splits.\n",
    "\n",
    "This means that model is performing okay and not generalizing well enough based on different splits of data."
   ]
  },
  {
   "cell_type": "markdown",
   "metadata": {},
   "source": [
    "#### Searching for the best optimal parameters,"
   ]
  },
  {
   "cell_type": "code",
   "execution_count": 61,
   "metadata": {},
   "outputs": [],
   "source": [
    "hyper_grid <- expand.grid(\n",
    "  minsplit = seq(5, 16, 1),\n",
    "  maxdepth = seq(3, 10, 1)\n",
    ")"
   ]
  },
  {
   "cell_type": "code",
   "execution_count": 62,
   "metadata": {},
   "outputs": [
    {
     "data": {
      "text/html": [
       "96"
      ],
      "text/latex": [
       "96"
      ],
      "text/markdown": [
       "96"
      ],
      "text/plain": [
       "[1] 96"
      ]
     },
     "metadata": {},
     "output_type": "display_data"
    }
   ],
   "source": [
    "nrow(hyper_grid)"
   ]
  },
  {
   "cell_type": "code",
   "execution_count": 63,
   "metadata": {},
   "outputs": [],
   "source": [
    "models <- list()\n",
    "\n",
    "for (i in 1:nrow(hyper_grid)) {\n",
    "  \n",
    "  # get minsplit, maxdepth values at row i\n",
    "  minsplit <- hyper_grid$minsplit[i]\n",
    "  maxdepth <- hyper_grid$maxdepth[i]\n",
    "\n",
    "  # train a model and store in the list\n",
    "  models[[i]] <- rpart(log(area+1) ~ X+Y+month+DMC+temp+DC+ISI+RH+day+FFMC+wind+rain, \n",
    "                       method=\"anova\", \n",
    "                       data=fire_df,\n",
    "                       control = list(minsplit = minsplit, maxdepth = maxdepth)\n",
    "                      )\n",
    "}\n"
   ]
  },
  {
   "cell_type": "code",
   "execution_count": 64,
   "metadata": {},
   "outputs": [
    {
     "data": {
      "text/html": [
       "<table>\n",
       "<thead><tr><th scope=col>minsplit</th><th scope=col>maxdepth</th><th scope=col>cp</th><th scope=col>error</th></tr></thead>\n",
       "<tbody>\n",
       "\t<tr><td> 5        </td><td>3         </td><td>0.01000000</td><td>0.9906422 </td></tr>\n",
       "\t<tr><td> 6        </td><td>9         </td><td>0.02299189</td><td>1.0010581 </td></tr>\n",
       "\t<tr><td> 7        </td><td>3         </td><td>0.02299189</td><td>1.0011760 </td></tr>\n",
       "\t<tr><td> 9        </td><td>9         </td><td>0.02299189</td><td>1.0011877 </td></tr>\n",
       "\t<tr><td>13        </td><td>6         </td><td>0.02299189</td><td>1.0012081 </td></tr>\n",
       "</tbody>\n",
       "</table>\n"
      ],
      "text/latex": [
       "\\begin{tabular}{r|llll}\n",
       " minsplit & maxdepth & cp & error\\\\\n",
       "\\hline\n",
       "\t  5         & 3          & 0.01000000 & 0.9906422 \\\\\n",
       "\t  6         & 9          & 0.02299189 & 1.0010581 \\\\\n",
       "\t  7         & 3          & 0.02299189 & 1.0011760 \\\\\n",
       "\t  9         & 9          & 0.02299189 & 1.0011877 \\\\\n",
       "\t 13         & 6          & 0.02299189 & 1.0012081 \\\\\n",
       "\\end{tabular}\n"
      ],
      "text/markdown": [
       "\n",
       "minsplit | maxdepth | cp | error | \n",
       "|---|---|---|---|---|\n",
       "|  5         | 3          | 0.01000000 | 0.9906422  | \n",
       "|  6         | 9          | 0.02299189 | 1.0010581  | \n",
       "|  7         | 3          | 0.02299189 | 1.0011760  | \n",
       "|  9         | 9          | 0.02299189 | 1.0011877  | \n",
       "| 13         | 6          | 0.02299189 | 1.0012081  | \n",
       "\n",
       "\n"
      ],
      "text/plain": [
       "  minsplit maxdepth cp         error    \n",
       "1  5       3        0.01000000 0.9906422\n",
       "2  6       9        0.02299189 1.0010581\n",
       "3  7       3        0.02299189 1.0011760\n",
       "4  9       9        0.02299189 1.0011877\n",
       "5 13       6        0.02299189 1.0012081"
      ]
     },
     "metadata": {},
     "output_type": "display_data"
    }
   ],
   "source": [
    "# function to get optimal cp\n",
    "get_cp <- function(x) {\n",
    "  min    <- which.min(x$cptable[, \"xerror\"])\n",
    "  cp <- x$cptable[min, \"CP\"] \n",
    "}\n",
    "\n",
    "# function to get minimum error\n",
    "get_min_error <- function(x) {\n",
    "  min    <- which.min(x$cptable[, \"xerror\"])\n",
    "  xerror <- x$cptable[min, \"xerror\"] \n",
    "}\n",
    "\n",
    "hyper_grid %>%\n",
    "  mutate(\n",
    "    cp    = purrr::map_dbl(models, get_cp),\n",
    "    error = purrr::map_dbl(models, get_min_error)\n",
    "    ) %>%\n",
    "  arrange(error) %>%\n",
    "  top_n(-5, wt = error)"
   ]
  },
  {
   "cell_type": "code",
   "execution_count": 65,
   "metadata": {},
   "outputs": [
    {
     "name": "stdout",
     "output_type": "stream",
     "text": [
      "Call:\n",
      "rpart(formula = log(area + 1) ~ X + Y + month + DMC + temp + \n",
      "    RH + day + DC + FFMC + wind + ISI, data = fire_df, method = \"anova\", \n",
      "    control = list(minsplit = 14, maxdepth = 14, cp = 0.01))\n",
      "  n= 515 \n",
      "\n",
      "          CP nsplit rel error   xerror       xstd\n",
      "1 0.02299189      0 1.0000000 1.002929 0.07521570\n",
      "2 0.01893317      1 0.9770081 1.044969 0.07786003\n",
      "3 0.01613102      3 0.9391418 1.125483 0.08400532\n",
      "4 0.01402669      4 0.9230108 1.152566 0.08810364\n",
      "5 0.01309087      5 0.9089841 1.178701 0.08915778\n",
      "6 0.01291525     11 0.8295460 1.214619 0.09081687\n",
      "7 0.01070482     13 0.8037155 1.250306 0.09322679\n",
      "8 0.01000000     14 0.7930107 1.317610 0.09638148\n",
      "\n",
      "Variable importance\n",
      " temp    RH     X   DMC month     Y   day    DC  FFMC   ISI  wind \n",
      "   19    19    14    13     9     7     7     5     3     2     2 \n",
      "\n",
      "Node number 1: 515 observations,    complexity param=0.02299189\n",
      "  mean=1.11534, MSE=1.954608 \n",
      "  left son=2 (85 obs) right son=3 (430 obs)\n",
      "  Primary splits:\n",
      "      X     splits as  RRLRLRRRR,    improve=0.02299189, (0 missing)\n",
      "      month splits as  LLLLRLLLLLLR, improve=0.01954192, (0 missing)\n",
      "      temp  < 5.2    to the right,   improve=0.01840393, (0 missing)\n",
      "      DMC   < 118.45 to the left,    improve=0.01367394, (0 missing)\n",
      "      wind  < 8.25   to the left,    improve=0.01141503, (0 missing)\n",
      "\n",
      "Node number 2: 85 observations\n",
      "  mean=0.6385342, MSE=0.9517522 \n",
      "\n",
      "Node number 3: 430 observations,    complexity param=0.01893317\n",
      "  mean=1.209593, MSE=2.099023 \n",
      "  left son=6 (248 obs) right son=7 (182 obs)\n",
      "  Primary splits:\n",
      "      DMC   < 118.45 to the left,    improve=0.019602000, (0 missing)\n",
      "      month splits as  LLLLLLLLLLLR, improve=0.017094250, (0 missing)\n",
      "      temp  < 5.2    to the right,   improve=0.015574120, (0 missing)\n",
      "      Y     splits as  -LRRRR-RL,    improve=0.012195730, (0 missing)\n",
      "      wind  < 8.25   to the left,    improve=0.008733092, (0 missing)\n",
      "  Surrogate splits:\n",
      "      FFMC  < 92.45  to the left,    agree=0.702, adj=0.297, (0 split)\n",
      "      month splits as  LLLLLLLRLLLL, agree=0.698, adj=0.286, (0 split)\n",
      "      DC    < 560.8  to the left,    agree=0.688, adj=0.264, (0 split)\n",
      "      temp  < 20.85  to the left,    agree=0.663, adj=0.203, (0 split)\n",
      "      ISI   < 6.75   to the left,    agree=0.660, adj=0.198, (0 split)\n",
      "\n",
      "Node number 6: 248 observations,    complexity param=0.01893317\n",
      "  mean=1.035825, MSE=1.662896 \n",
      "  left son=12 (238 obs) right son=13 (10 obs)\n",
      "  Primary splits:\n",
      "      month splits as  LLLLRLLLLLLR, improve=0.04952679, (0 missing)\n",
      "      wind  < 8.25   to the left,    improve=0.03830840, (0 missing)\n",
      "      temp  < 5.2    to the right,   improve=0.03762481, (0 missing)\n",
      "      Y     splits as  -LRRRR--L,    improve=0.03119410, (0 missing)\n",
      "      X     splits as  LL-R-RRRR,    improve=0.02317283, (0 missing)\n",
      "  Surrogate splits:\n",
      "      temp < 5.2    to the right, agree=0.976, adj=0.4, (0 split)\n",
      "      RH   < 21.5   to the right, agree=0.964, adj=0.1, (0 split)\n",
      "\n",
      "Node number 7: 182 observations,    complexity param=0.01613102\n",
      "  mean=1.446375, MSE=2.596096 \n",
      "  left son=14 (173 obs) right son=15 (9 obs)\n",
      "  Primary splits:\n",
      "      DMC   < 121.15 to the right,   improve=0.03436659, (0 missing)\n",
      "      month splits as  -----LRLR---, improve=0.02728559, (0 missing)\n",
      "      day   splits as  LLRRLRR,      improve=0.02102821, (0 missing)\n",
      "      RH    < 53.5   to the right,   improve=0.01976519, (0 missing)\n",
      "      X     splits as  RR-R-LLLR,    improve=0.01790640, (0 missing)\n",
      "\n",
      "Node number 12: 238 observations,    complexity param=0.01402669\n",
      "  mean=0.977, MSE=1.608077 \n",
      "  left son=24 (110 obs) right son=25 (128 obs)\n",
      "  Primary splits:\n",
      "      X    splits as  LL-L-RRRR,  improve=0.03689254, (0 missing)\n",
      "      Y    splits as  -LRRRR--L,  improve=0.02774576, (0 missing)\n",
      "      temp < 24.25  to the left,  improve=0.01662909, (0 missing)\n",
      "      RH   < 73.5   to the right, improve=0.01646653, (0 missing)\n",
      "      FFMC < 92.25  to the right, improve=0.01187539, (0 missing)\n",
      "  Surrogate splits:\n",
      "      Y     splits as  -LLLRR--R,    agree=0.655, adj=0.255, (0 split)\n",
      "      DMC   < 95.25  to the right,   agree=0.626, adj=0.191, (0 split)\n",
      "      month splits as  LRRR-RRLRRR-, agree=0.613, adj=0.164, (0 split)\n",
      "      DC    < 499.6  to the right,   agree=0.584, adj=0.100, (0 split)\n",
      "      FFMC  < 92     to the right,   agree=0.576, adj=0.082, (0 split)\n",
      "\n",
      "Node number 13: 10 observations\n",
      "  mean=2.435867, MSE=0.9251244 \n",
      "\n",
      "Node number 14: 173 observations,    complexity param=0.01309087\n",
      "  mean=1.378247, MSE=2.330629 \n",
      "  left son=28 (81 obs) right son=29 (92 obs)\n",
      "  Primary splits:\n",
      "      X     splits as  RR-R-LLLR,    improve=0.02118466, (0 missing)\n",
      "      temp  < 26.05  to the left,    improve=0.01771439, (0 missing)\n",
      "      day   splits as  RLRRLRR,      improve=0.01745001, (0 missing)\n",
      "      month splits as  -----LRLR---, improve=0.01651024, (0 missing)\n",
      "      RH    < 53.5   to the right,   improve=0.01525942, (0 missing)\n",
      "  Surrogate splits:\n",
      "      Y    splits as  -RRRRL-LR,  agree=0.705, adj=0.370, (0 split)\n",
      "      RH   < 59.5   to the right, agree=0.601, adj=0.148, (0 split)\n",
      "      temp < 19.8   to the left,  agree=0.590, adj=0.123, (0 split)\n",
      "      DC   < 676.65 to the left,  agree=0.584, adj=0.111, (0 split)\n",
      "      wind < 4.25   to the right, agree=0.584, adj=0.111, (0 split)\n",
      "\n",
      "Node number 15: 9 observations\n",
      "  mean=2.75595, MSE=5.89475 \n",
      "\n",
      "Node number 24: 110 observations\n",
      "  mean=0.7142569, MSE=1.153109 \n",
      "\n",
      "Node number 25: 128 observations,    complexity param=0.01291525\n",
      "  mean=1.202795, MSE=1.888755 \n",
      "  left son=50 (31 obs) right son=51 (97 obs)\n",
      "  Primary splits:\n",
      "      RH   < 32.5   to the left,  improve=0.04539696, (0 missing)\n",
      "      DMC  < 36.7   to the left,  improve=0.02674738, (0 missing)\n",
      "      ISI  < 9.3    to the left,  improve=0.02554635, (0 missing)\n",
      "      DC   < 734    to the left,  improve=0.02493286, (0 missing)\n",
      "      wind < 2.9    to the left,  improve=0.02363481, (0 missing)\n",
      "  Surrogate splits:\n",
      "      temp  < 23.1   to the right,   agree=0.797, adj=0.161, (0 split)\n",
      "      month splits as  -RRR-RRRRRL-, agree=0.766, adj=0.032, (0 split)\n",
      "      ISI   < 14.35  to the right,   agree=0.766, adj=0.032, (0 split)\n",
      "\n",
      "Node number 28: 81 observations,    complexity param=0.01309087\n",
      "  mean=1.141437, MSE=2.269715 \n",
      "  left son=56 (69 obs) right son=57 (12 obs)\n",
      "  Primary splits:\n",
      "      temp < 26.85  to the left,  improve=0.07904212, (0 missing)\n",
      "      day  splits as  LLRLRRL,    improve=0.06083025, (0 missing)\n",
      "      RH   < 36.5   to the right, improve=0.05237819, (0 missing)\n",
      "      wind < 4.25   to the left,  improve=0.04484761, (0 missing)\n",
      "      DC   < 660    to the right, improve=0.02311570, (0 missing)\n",
      "  Surrogate splits:\n",
      "      RH < 31.5   to the right, agree=0.938, adj=0.583, (0 split)\n",
      "\n",
      "Node number 29: 92 observations,    complexity param=0.01309087\n",
      "  mean=1.586742, MSE=2.291417 \n",
      "  left son=58 (63 obs) right son=59 (29 obs)\n",
      "  Primary splits:\n",
      "      day   splits as  LLLRLLR,      improve=0.05242311, (0 missing)\n",
      "      DMC   < 134.4  to the right,   improve=0.05083648, (0 missing)\n",
      "      month splits as  -----LRLR---, improve=0.04337276, (0 missing)\n",
      "      Y     splits as  -LRRRR--L,    improve=0.03344869, (0 missing)\n",
      "      ISI   < 10.5   to the right,   improve=0.02768134, (0 missing)\n",
      "  Surrogate splits:\n",
      "      temp < 15.65  to the right, agree=0.707, adj=0.069, (0 split)\n",
      "      wind < 3.8    to the left,  agree=0.707, adj=0.069, (0 split)\n",
      "      ISI  < 17.25  to the left,  agree=0.707, adj=0.069, (0 split)\n",
      "      DMC  < 273.05 to the left,  agree=0.696, adj=0.034, (0 split)\n",
      "      RH   < 74     to the left,  agree=0.696, adj=0.034, (0 split)\n",
      "\n",
      "Node number 50: 31 observations\n",
      "  mean=0.6848229, MSE=1.00338 \n",
      "\n",
      "Node number 51: 97 observations,    complexity param=0.01291525\n",
      "  mean=1.368332, MSE=2.058564 \n",
      "  left son=102 (69 obs) right son=103 (28 obs)\n",
      "  Primary splits:\n",
      "      temp < 19.55  to the left,  improve=0.07525210, (0 missing)\n",
      "      RH   < 71.5   to the right, improve=0.04939773, (0 missing)\n",
      "      DMC  < 36.5   to the left,  improve=0.03930762, (0 missing)\n",
      "      FFMC < 90.45  to the left,  improve=0.03799724, (0 missing)\n",
      "      DC   < 734    to the left,  improve=0.03711733, (0 missing)\n",
      "  Surrogate splits:\n",
      "      RH   < 41.5   to the right, agree=0.784, adj=0.250, (0 split)\n",
      "      DMC  < 101.8  to the left,  agree=0.763, adj=0.179, (0 split)\n",
      "      DC   < 744.85 to the left,  agree=0.753, adj=0.143, (0 split)\n",
      "      FFMC < 91.3   to the left,  agree=0.753, adj=0.143, (0 split)\n",
      "      X    splits as  -----LLLR,  agree=0.732, adj=0.071, (0 split)\n",
      "\n",
      "Node number 56: 69 observations\n",
      "  mean=0.9648007, MSE=1.811989 \n",
      "\n",
      "Node number 57: 12 observations\n",
      "  mean=2.157099, MSE=3.690665 \n",
      "\n",
      "Node number 58: 63 observations,    complexity param=0.01309087\n",
      "  mean=1.351593, MSE=1.938471 \n",
      "  left son=116 (14 obs) right son=117 (49 obs)\n",
      "  Primary splits:\n",
      "      RH   < 27.5   to the left,  improve=0.13193950, (0 missing)\n",
      "      temp < 23.65  to the right, improve=0.10991000, (0 missing)\n",
      "      DMC  < 132    to the right, improve=0.06164587, (0 missing)\n",
      "      DC   < 610.25 to the right, improve=0.05748709, (0 missing)\n",
      "      ISI  < 14.7   to the left,  improve=0.04513598, (0 missing)\n",
      "  Surrogate splits:\n",
      "      temp < 27.6   to the right, agree=0.857, adj=0.357, (0 split)\n",
      "      wind < 1.55   to the left,  agree=0.825, adj=0.214, (0 split)\n",
      "      FFMC < 95.5   to the right, agree=0.794, adj=0.071, (0 split)\n",
      "\n",
      "Node number 59: 29 observations,    complexity param=0.01309087\n",
      "  mean=2.097582, MSE=2.677081 \n",
      "  left son=118 (21 obs) right son=119 (8 obs)\n",
      "  Primary splits:\n",
      "      RH    < 29.5   to the right,   improve=0.2015877, (0 missing)\n",
      "      wind  < 5.15   to the right,   improve=0.1718489, (0 missing)\n",
      "      ISI   < 10.35  to the right,   improve=0.1523975, (0 missing)\n",
      "      month splits as  ------LLR---, improve=0.1445326, (0 missing)\n",
      "      DMC   < 140.35 to the right,   improve=0.1147435, (0 missing)\n",
      "  Surrogate splits:\n",
      "      temp < 25.85  to the left,  agree=0.862, adj=0.500, (0 split)\n",
      "      Y    splits as  -LLLLR---,  agree=0.759, adj=0.125, (0 split)\n",
      "      DMC  < 136.35 to the right, agree=0.759, adj=0.125, (0 split)\n",
      "\n",
      "Node number 102: 69 observations\n",
      "  mean=1.117608, MSE=1.582294 \n",
      "\n",
      "Node number 103: 28 observations,    complexity param=0.01070482\n",
      "  mean=1.986188, MSE=2.695572 \n",
      "  left son=206 (21 obs) right son=207 (7 obs)\n",
      "  Primary splits:\n",
      "      day  splits as  LRLLLRL,    improve=0.14277010, (0 missing)\n",
      "      ISI  < 6.8    to the right, improve=0.09387359, (0 missing)\n",
      "      FFMC < 91.75  to the right, improve=0.07384429, (0 missing)\n",
      "      RH   < 44     to the left,  improve=0.07262848, (0 missing)\n",
      "      Y    splits as  --LRLL---,  improve=0.06784621, (0 missing)\n",
      "  Surrogate splits:\n",
      "      DC  < 757.75 to the left,  agree=0.893, adj=0.571, (0 split)\n",
      "      ISI < 6.8    to the right, agree=0.821, adj=0.286, (0 split)\n",
      "      DMC < 108.2  to the left,  agree=0.786, adj=0.143, (0 split)\n",
      "\n",
      "Node number 116: 14 observations\n",
      "  mean=0.4054629, MSE=0.5278387 \n",
      "\n",
      "Node number 117: 49 observations\n",
      "  mean=1.621916, MSE=2.012674 \n",
      "\n",
      "Node number 118: 21 observations,    complexity param=0.01309087\n",
      "  mean=1.644164, MSE=2.188517 \n",
      "  left son=236 (7 obs) right son=237 (14 obs)\n",
      "  Primary splits:\n",
      "      Y    splits as  -LRRL----,  improve=0.3062810, (0 missing)\n",
      "      ISI  < 10.35  to the right, improve=0.1745513, (0 missing)\n",
      "      temp < 23.15  to the right, improve=0.1371183, (0 missing)\n",
      "      RH   < 42.5   to the left,  improve=0.1203379, (0 missing)\n",
      "      wind < 5.15   to the right, improve=0.1171660, (0 missing)\n",
      "  Surrogate splits:\n",
      "      temp  < 14.15  to the left,    agree=0.762, adj=0.286, (0 split)\n",
      "      month splits as  ------LRR---, agree=0.714, adj=0.143, (0 split)\n",
      "      RH    < 70.5   to the right,   agree=0.714, adj=0.143, (0 split)\n",
      "      DC    < 603.6  to the left,    agree=0.714, adj=0.143, (0 split)\n",
      "\n",
      "Node number 119: 8 observations\n",
      "  mean=3.287802, MSE=2.003268 \n",
      "\n",
      "Node number 206: 21 observations\n",
      "  mean=1.628023, MSE=2.04515 \n",
      "\n",
      "Node number 207: 7 observations\n",
      "  mean=3.060684, MSE=3.107451 \n",
      "\n",
      "Node number 236: 7 observations\n",
      "  mean=0.4863204, MSE=0.61757 \n",
      "\n",
      "Node number 237: 14 observations\n",
      "  mean=2.223086, MSE=1.968539 \n",
      "\n"
     ]
    }
   ],
   "source": [
    "fit <- rpart(log(area+1) ~ X+Y+month+DMC+temp+RH+day+DC+FFMC+wind+ISI, method=\"anova\", data=fire_df,\n",
    "             control = list(minsplit = 14, maxdepth = 14, cp=0.01))\n",
    "summary(fit)"
   ]
  },
  {
   "cell_type": "markdown",
   "metadata": {},
   "source": [
    "Even after grid search, we don't see any set of parameters which improves the performance considerably compared to previous model."
   ]
  },
  {
   "cell_type": "code",
   "execution_count": 66,
   "metadata": {},
   "outputs": [
    {
     "data": {
      "text/html": [
       "'R-squared for Decision tree is 0.206989'"
      ],
      "text/latex": [
       "'R-squared for Decision tree is 0.206989'"
      ],
      "text/markdown": [
       "'R-squared for Decision tree is 0.206989'"
      ],
      "text/plain": [
       "[1] \"R-squared for Decision tree is 0.206989\""
      ]
     },
     "metadata": {},
     "output_type": "display_data"
    }
   ],
   "source": [
    "sprintf('R-squared for Decision tree is %f',sum((predict(fit)-mean(log(fire_df$area+1)))^2)/sum((log(fire_df$area+1)-mean(log(fire_df$area+1)))^2))"
   ]
  },
  {
   "cell_type": "markdown",
   "metadata": {},
   "source": [
    "#### Bagging Trees model"
   ]
  },
  {
   "cell_type": "markdown",
   "metadata": {},
   "source": [
    "Bagging trees model is a common method used for fitting predictive models with differnt parameters and allows combining them using ensembling appraoch to get aggregated prediction.\n",
    "\n",
    "In this approach, original dataset is sampled by bootstrapping. And average is taken over all models built on these samples."
   ]
  },
  {
   "cell_type": "code",
   "execution_count": 67,
   "metadata": {},
   "outputs": [
    {
     "name": "stderr",
     "output_type": "stream",
     "text": [
      "Loading required package: lattice\n"
     ]
    }
   ],
   "source": [
    "library(ipred)\n",
    "library(caret)"
   ]
  },
  {
   "cell_type": "code",
   "execution_count": 68,
   "metadata": {},
   "outputs": [
    {
     "data": {
      "text/plain": [
       "\n",
       "Bagging regression trees with 15 bootstrap replications \n",
       "\n",
       "Call: bagging.data.frame(formula = log(area + 1) ~ X + Y + month + \n",
       "    DMC + temp + DC + ISI + RH + day + FFMC + wind + rain, data = fire_df, \n",
       "    nbagg = 15, method = \"treebag\", coob = TRUE)\n",
       "\n",
       "Out-of-bag estimate of root mean squared error:  1.4945 \n"
      ]
     },
     "metadata": {},
     "output_type": "display_data"
    }
   ],
   "source": [
    "bagg <- bagging(log(area+1)~X+Y+month+DMC+temp+DC+ISI+RH+day+FFMC+wind+rain, \n",
    "                  nbagg = 15,\n",
    "                method='treebag',data=fire_df,coob=TRUE)\n",
    "bagg"
   ]
  },
  {
   "cell_type": "markdown",
   "metadata": {},
   "source": [
    "Here we have created 100 bootstrap replications, and we get 1.4299 as rmse, which seems better in terms of performance.\n",
    "\n",
    "We create 10 cross validated mini folds for calculating the error measure here. \n",
    "\n",
    "Here, more the trees, better the performace as we average over higher variance trees. [Read more](https://bradleyboehmke.github.io/HOML/bagging.html)"
   ]
  },
  {
   "cell_type": "code",
   "execution_count": 69,
   "metadata": {},
   "outputs": [
    {
     "data": {
      "text/html": [
       "'R-squared for Bagging tree is 0.168430'"
      ],
      "text/latex": [
       "'R-squared for Bagging tree is 0.168430'"
      ],
      "text/markdown": [
       "'R-squared for Bagging tree is 0.168430'"
      ],
      "text/plain": [
       "[1] \"R-squared for Bagging tree is 0.168430\""
      ]
     },
     "metadata": {},
     "output_type": "display_data"
    }
   ],
   "source": [
    "sprintf('R-squared for Bagging tree is %f',sum((predict(bagg)-mean(log(fire_df$area+1)))^2)/sum((log(fire_df$area+1)-mean(log(fire_df$area+1)))^2))"
   ]
  },
  {
   "cell_type": "code",
   "execution_count": 70,
   "metadata": {},
   "outputs": [
    {
     "data": {
      "text/plain": [
       "       Length Class      Mode   \n",
       "y      515    -none-     numeric\n",
       "X       12    data.frame list   \n",
       "mtrees  15    -none-     list   \n",
       "OOB      1    -none-     logical\n",
       "comb     1    -none-     logical\n",
       "err      1    -none-     numeric\n",
       "call     6    -none-     call   "
      ]
     },
     "metadata": {},
     "output_type": "display_data"
    }
   ],
   "source": [
    "summary(bagg)"
   ]
  },
  {
   "cell_type": "markdown",
   "metadata": {},
   "source": [
    "### LightGBM"
   ]
  },
  {
   "cell_type": "code",
   "execution_count": 71,
   "metadata": {},
   "outputs": [
    {
     "name": "stderr",
     "output_type": "stream",
     "text": [
      "Loading required package: R6\n",
      "Warning message:\n",
      "\"package 'R6' was built under R version 3.5.3\"\n",
      "Attaching package: 'lightgbm'\n",
      "\n",
      "The following object is masked from 'package:dplyr':\n",
      "\n",
      "    slice\n",
      "\n"
     ]
    }
   ],
   "source": [
    "library(lightgbm)\n",
    "library(methods)"
   ]
  },
  {
   "cell_type": "code",
   "execution_count": 72,
   "metadata": {},
   "outputs": [
    {
     "name": "stderr",
     "output_type": "stream",
     "text": [
      "Warning message:\n",
      "\"package 'data.table' was built under R version 3.5.3\"\n",
      "Attaching package: 'data.table'\n",
      "\n",
      "The following objects are masked from 'package:reshape2':\n",
      "\n",
      "    dcast, melt\n",
      "\n",
      "The following objects are masked from 'package:dplyr':\n",
      "\n",
      "    between, first, last\n",
      "\n"
     ]
    }
   ],
   "source": [
    "library(data.table)\n",
    "library(Matrix)\n",
    "set.seed(257)"
   ]
  },
  {
   "cell_type": "code",
   "execution_count": 73,
   "metadata": {},
   "outputs": [
    {
     "data": {
      "text/html": [
       "<ol class=list-inline>\n",
       "\t<li>'X'</li>\n",
       "\t<li>'Y'</li>\n",
       "\t<li>'month'</li>\n",
       "\t<li>'day'</li>\n",
       "\t<li>'FFMC'</li>\n",
       "\t<li>'DMC'</li>\n",
       "\t<li>'DC'</li>\n",
       "\t<li>'ISI'</li>\n",
       "\t<li>'temp'</li>\n",
       "\t<li>'RH'</li>\n",
       "\t<li>'wind'</li>\n",
       "\t<li>'rain'</li>\n",
       "\t<li>'tran_FFMC'</li>\n",
       "</ol>\n"
      ],
      "text/latex": [
       "\\begin{enumerate*}\n",
       "\\item 'X'\n",
       "\\item 'Y'\n",
       "\\item 'month'\n",
       "\\item 'day'\n",
       "\\item 'FFMC'\n",
       "\\item 'DMC'\n",
       "\\item 'DC'\n",
       "\\item 'ISI'\n",
       "\\item 'temp'\n",
       "\\item 'RH'\n",
       "\\item 'wind'\n",
       "\\item 'rain'\n",
       "\\item 'tran\\_FFMC'\n",
       "\\end{enumerate*}\n"
      ],
      "text/markdown": [
       "1. 'X'\n",
       "2. 'Y'\n",
       "3. 'month'\n",
       "4. 'day'\n",
       "5. 'FFMC'\n",
       "6. 'DMC'\n",
       "7. 'DC'\n",
       "8. 'ISI'\n",
       "9. 'temp'\n",
       "10. 'RH'\n",
       "11. 'wind'\n",
       "12. 'rain'\n",
       "13. 'tran_FFMC'\n",
       "\n",
       "\n"
      ],
      "text/plain": [
       " [1] \"X\"         \"Y\"         \"month\"     \"day\"       \"FFMC\"      \"DMC\"      \n",
       " [7] \"DC\"        \"ISI\"       \"temp\"      \"RH\"        \"wind\"      \"rain\"     \n",
       "[13] \"tran_FFMC\""
      ]
     },
     "metadata": {},
     "output_type": "display_data"
    }
   ],
   "source": [
    "setdiff(colnames(fire_df), c(\"temp_cat\", \"area\"))"
   ]
  },
  {
   "cell_type": "code",
   "execution_count": 74,
   "metadata": {},
   "outputs": [
    {
     "name": "stderr",
     "output_type": "stream",
     "text": [
      "Warning message in storage.mode(from) <- \"double\":\n",
      "\"NAs introduced by coercion\""
     ]
    }
   ],
   "source": [
    "varnames = setdiff(colnames(fire_df), c(\"temp_cat\", \"tran_FFMC\",\"area\"))\n",
    "\n",
    "train_sparse = Matrix(as.matrix(fire_df[, setdiff(colnames(fire_df), c(\"temp_cat\", \"tran_FFMC\",\"area\"))]), sparse=TRUE)\n",
    "\n",
    "y_train  = log(fire_df[,'area']+1)\n",
    "\n",
    "# lgb.train = lgb.Dataset(data=train_sparse, label=y_train)"
   ]
  },
  {
   "cell_type": "code",
   "execution_count": 75,
   "metadata": {},
   "outputs": [
    {
     "name": "stdout",
     "output_type": "stream",
     "text": [
      "[1] \"Training lightgbm with sparseMatrix\"\n",
      "[1]:\ttrain's rmse:1.39788 \n",
      "[2]:\ttrain's rmse:1.3977 \n",
      "[3]:\ttrain's rmse:1.39751 \n",
      "[4]:\ttrain's rmse:1.39732 \n",
      "[5]:\ttrain's rmse:1.39713 \n",
      "[6]:\ttrain's rmse:1.39695 \n",
      "[7]:\ttrain's rmse:1.39676 \n",
      "[8]:\ttrain's rmse:1.39657 \n",
      "[9]:\ttrain's rmse:1.39639 \n",
      "[10]:\ttrain's rmse:1.3962 \n",
      "[11]:\ttrain's rmse:1.39602 \n",
      "[12]:\ttrain's rmse:1.39583 \n",
      "[13]:\ttrain's rmse:1.39565 \n",
      "[14]:\ttrain's rmse:1.39547 \n",
      "[15]:\ttrain's rmse:1.39528 \n",
      "[16]:\ttrain's rmse:1.39508 \n",
      "[17]:\ttrain's rmse:1.3949 \n",
      "[18]:\ttrain's rmse:1.39471 \n",
      "[19]:\ttrain's rmse:1.39451 \n",
      "[20]:\ttrain's rmse:1.39433 \n",
      "[21]:\ttrain's rmse:1.39415 \n",
      "[22]:\ttrain's rmse:1.39395 \n",
      "[23]:\ttrain's rmse:1.39376 \n",
      "[24]:\ttrain's rmse:1.39358 \n",
      "[25]:\ttrain's rmse:1.39338 \n",
      "[26]:\ttrain's rmse:1.3932 \n",
      "[27]:\ttrain's rmse:1.39302 \n",
      "[28]:\ttrain's rmse:1.39282 \n",
      "[29]:\ttrain's rmse:1.39264 \n",
      "[30]:\ttrain's rmse:1.39247 \n",
      "[31]:\ttrain's rmse:1.39227 \n",
      "[32]:\ttrain's rmse:1.39209 \n",
      "[33]:\ttrain's rmse:1.39191 \n",
      "[34]:\ttrain's rmse:1.39171 \n",
      "[35]:\ttrain's rmse:1.39153 \n",
      "[36]:\ttrain's rmse:1.39136 \n",
      "[37]:\ttrain's rmse:1.39116 \n",
      "[38]:\ttrain's rmse:1.39098 \n",
      "[39]:\ttrain's rmse:1.39081 \n",
      "[40]:\ttrain's rmse:1.39061 \n",
      "[41]:\ttrain's rmse:1.39044 \n",
      "[42]:\ttrain's rmse:1.39026 \n",
      "[43]:\ttrain's rmse:1.39006 \n",
      "[44]:\ttrain's rmse:1.38989 \n",
      "[45]:\ttrain's rmse:1.38972 \n",
      "[46]:\ttrain's rmse:1.38952 \n",
      "[47]:\ttrain's rmse:1.38935 \n",
      "[48]:\ttrain's rmse:1.38917 \n",
      "[49]:\ttrain's rmse:1.38898 \n",
      "[50]:\ttrain's rmse:1.38881 \n",
      "[51]:\ttrain's rmse:1.38862 \n",
      "[52]:\ttrain's rmse:1.38845 \n",
      "[53]:\ttrain's rmse:1.38826 \n",
      "[54]:\ttrain's rmse:1.38809 \n",
      "[55]:\ttrain's rmse:1.3879 \n",
      "[56]:\ttrain's rmse:1.38773 \n",
      "[57]:\ttrain's rmse:1.38754 \n",
      "[58]:\ttrain's rmse:1.38735 \n",
      "[59]:\ttrain's rmse:1.38716 \n",
      "[60]:\ttrain's rmse:1.38698 \n",
      "[61]:\ttrain's rmse:1.38679 \n",
      "[62]:\ttrain's rmse:1.3866 \n",
      "[63]:\ttrain's rmse:1.38641 \n",
      "[64]:\ttrain's rmse:1.38623 \n",
      "[65]:\ttrain's rmse:1.38604 \n",
      "[66]:\ttrain's rmse:1.38587 \n",
      "[67]:\ttrain's rmse:1.38569 \n",
      "[68]:\ttrain's rmse:1.3855 \n",
      "[69]:\ttrain's rmse:1.38531 \n",
      "[70]:\ttrain's rmse:1.38513 \n",
      "[71]:\ttrain's rmse:1.38494 \n",
      "[72]:\ttrain's rmse:1.38476 \n",
      "[73]:\ttrain's rmse:1.38457 \n",
      "[74]:\ttrain's rmse:1.38439 \n",
      "[75]:\ttrain's rmse:1.38421 \n",
      "[76]:\ttrain's rmse:1.38402 \n",
      "[77]:\ttrain's rmse:1.38384 \n",
      "[78]:\ttrain's rmse:1.38366 \n",
      "[79]:\ttrain's rmse:1.38347 \n",
      "[80]:\ttrain's rmse:1.38331 \n",
      "[81]:\ttrain's rmse:1.38313 \n",
      "[82]:\ttrain's rmse:1.38295 \n",
      "[83]:\ttrain's rmse:1.38276 \n",
      "[84]:\ttrain's rmse:1.38258 \n",
      "[85]:\ttrain's rmse:1.3824 \n",
      "[86]:\ttrain's rmse:1.38222 \n",
      "[87]:\ttrain's rmse:1.38204 \n",
      "[88]:\ttrain's rmse:1.38185 \n",
      "[89]:\ttrain's rmse:1.38168 \n",
      "[90]:\ttrain's rmse:1.38149 \n",
      "[91]:\ttrain's rmse:1.38132 \n",
      "[92]:\ttrain's rmse:1.38113 \n",
      "[93]:\ttrain's rmse:1.38096 \n",
      "[94]:\ttrain's rmse:1.38078 \n",
      "[95]:\ttrain's rmse:1.38062 \n",
      "[96]:\ttrain's rmse:1.38044 \n",
      "[97]:\ttrain's rmse:1.38026 \n",
      "[98]:\ttrain's rmse:1.38008 \n",
      "[99]:\ttrain's rmse:1.37991 \n",
      "[100]:\ttrain's rmse:1.37973 \n",
      "[101]:\ttrain's rmse:1.37955 \n",
      "[102]:\ttrain's rmse:1.37937 \n",
      "[103]:\ttrain's rmse:1.3792 \n",
      "[104]:\ttrain's rmse:1.37902 \n",
      "[105]:\ttrain's rmse:1.37885 \n",
      "[106]:\ttrain's rmse:1.37867 \n",
      "[107]:\ttrain's rmse:1.37851 \n",
      "[108]:\ttrain's rmse:1.37833 \n",
      "[109]:\ttrain's rmse:1.37816 \n",
      "[110]:\ttrain's rmse:1.37798 \n",
      "[111]:\ttrain's rmse:1.37781 \n",
      "[112]:\ttrain's rmse:1.37763 \n",
      "[113]:\ttrain's rmse:1.37746 \n",
      "[114]:\ttrain's rmse:1.37728 \n",
      "[115]:\ttrain's rmse:1.3771 \n",
      "[116]:\ttrain's rmse:1.37693 \n",
      "[117]:\ttrain's rmse:1.37675 \n",
      "[118]:\ttrain's rmse:1.37658 \n",
      "[119]:\ttrain's rmse:1.37641 \n",
      "[120]:\ttrain's rmse:1.37623 \n",
      "[121]:\ttrain's rmse:1.37606 \n",
      "[122]:\ttrain's rmse:1.37589 \n",
      "[123]:\ttrain's rmse:1.37571 \n",
      "[124]:\ttrain's rmse:1.37556 \n",
      "[125]:\ttrain's rmse:1.37539 \n",
      "[126]:\ttrain's rmse:1.37522 \n",
      "[127]:\ttrain's rmse:1.37504 \n",
      "[128]:\ttrain's rmse:1.37487 \n",
      "[129]:\ttrain's rmse:1.37469 \n",
      "[130]:\ttrain's rmse:1.37452 \n",
      "[131]:\ttrain's rmse:1.37435 \n",
      "[132]:\ttrain's rmse:1.37418 \n",
      "[133]:\ttrain's rmse:1.37401 \n",
      "[134]:\ttrain's rmse:1.37383 \n",
      "[135]:\ttrain's rmse:1.37366 \n",
      "[136]:\ttrain's rmse:1.37351 \n",
      "[137]:\ttrain's rmse:1.37334 \n",
      "[138]:\ttrain's rmse:1.37317 \n",
      "[139]:\ttrain's rmse:1.373 \n",
      "[140]:\ttrain's rmse:1.37283 \n",
      "[141]:\ttrain's rmse:1.37266 \n",
      "[142]:\ttrain's rmse:1.37249 \n",
      "[143]:\ttrain's rmse:1.37232 \n",
      "[144]:\ttrain's rmse:1.37215 \n",
      "[145]:\ttrain's rmse:1.37198 \n",
      "[146]:\ttrain's rmse:1.37181 \n",
      "[147]:\ttrain's rmse:1.37164 \n",
      "[148]:\ttrain's rmse:1.37147 \n",
      "[149]:\ttrain's rmse:1.37131 \n",
      "[150]:\ttrain's rmse:1.37114 \n",
      "[151]:\ttrain's rmse:1.37099 \n",
      "[152]:\ttrain's rmse:1.37082 \n",
      "[153]:\ttrain's rmse:1.37066 \n",
      "[154]:\ttrain's rmse:1.37049 \n",
      "[155]:\ttrain's rmse:1.37033 \n",
      "[156]:\ttrain's rmse:1.37016 \n",
      "[157]:\ttrain's rmse:1.36999 \n",
      "[158]:\ttrain's rmse:1.36983 \n",
      "[159]:\ttrain's rmse:1.36966 \n",
      "[160]:\ttrain's rmse:1.3695 \n",
      "[161]:\ttrain's rmse:1.36933 \n",
      "[162]:\ttrain's rmse:1.36916 \n",
      "[163]:\ttrain's rmse:1.36902 \n",
      "[164]:\ttrain's rmse:1.36885 \n",
      "[165]:\ttrain's rmse:1.36869 \n",
      "[166]:\ttrain's rmse:1.36853 \n",
      "[167]:\ttrain's rmse:1.36837 \n",
      "[168]:\ttrain's rmse:1.36821 \n",
      "[169]:\ttrain's rmse:1.36804 \n",
      "[170]:\ttrain's rmse:1.36788 \n",
      "[171]:\ttrain's rmse:1.36772 \n",
      "[172]:\ttrain's rmse:1.36756 \n",
      "[173]:\ttrain's rmse:1.3674 \n",
      "[174]:\ttrain's rmse:1.36724 \n",
      "[175]:\ttrain's rmse:1.36708 \n",
      "[176]:\ttrain's rmse:1.36692 \n",
      "[177]:\ttrain's rmse:1.36676 \n",
      "[178]:\ttrain's rmse:1.3666 \n",
      "[179]:\ttrain's rmse:1.36646 \n",
      "[180]:\ttrain's rmse:1.3663 \n",
      "[181]:\ttrain's rmse:1.36614 \n",
      "[182]:\ttrain's rmse:1.36598 \n",
      "[183]:\ttrain's rmse:1.36582 \n",
      "[184]:\ttrain's rmse:1.36566 \n",
      "[185]:\ttrain's rmse:1.36551 \n",
      "[186]:\ttrain's rmse:1.36535 \n",
      "[187]:\ttrain's rmse:1.36519 \n",
      "[188]:\ttrain's rmse:1.36504 \n",
      "[189]:\ttrain's rmse:1.36488 \n",
      "[190]:\ttrain's rmse:1.36472 \n",
      "[191]:\ttrain's rmse:1.36457 \n",
      "[192]:\ttrain's rmse:1.36441 \n",
      "[193]:\ttrain's rmse:1.36425 \n",
      "[194]:\ttrain's rmse:1.3641 \n",
      "[195]:\ttrain's rmse:1.36396 \n",
      "[196]:\ttrain's rmse:1.3638 \n",
      "[197]:\ttrain's rmse:1.36365 \n",
      "[198]:\ttrain's rmse:1.36349 \n",
      "[199]:\ttrain's rmse:1.36334 \n",
      "[200]:\ttrain's rmse:1.36318 \n"
     ]
    }
   ],
   "source": [
    "print(\"Training lightgbm with sparseMatrix\")\n",
    "\n",
    "bst <- lightgbm(\n",
    "    metric=\"rmse\",\n",
    "    data = train_sparse,\n",
    "    label = y_train,\n",
    "    num_leaves = 25,\n",
    "    learning_rate = 0.001,\n",
    "    nrounds = 200,\n",
    "    early_stopping_rounds=10,\n",
    "    objective = \"regression\"\n",
    ")\n",
    "\n",
    "# check the output logs in R studio and copy it here. "
   ]
  },
  {
   "cell_type": "markdown",
   "metadata": {},
   "source": [
    "[LightGBM] [Info] Total Bins 599\n",
    "\n",
    "[LightGBM] [Info] Number of data: 515, number of used features: 9\n",
    "\n",
    "[LightGBM] [Info] Start training from score 1.115340"
   ]
  },
  {
   "cell_type": "markdown",
   "metadata": {},
   "source": [
    "We are getting around 1.363 rmse on training data."
   ]
  },
  {
   "cell_type": "markdown",
   "metadata": {},
   "source": [
    "## 4. Model Comparsion<a class=\"anchor\" id=\"sec_4\"></a>"
   ]
  },
  {
   "cell_type": "markdown",
   "metadata": {},
   "source": [
    "For model comparision, we will compare the root mean squared error (RMSE), for all models developed above.\n",
    "\n",
    "We will calculate this metric based on the K fold cross validation strategy."
   ]
  },
  {
   "cell_type": "markdown",
   "metadata": {},
   "source": [
    "### 4.1  Multilinear regression"
   ]
  },
  {
   "cell_type": "code",
   "execution_count": 76,
   "metadata": {},
   "outputs": [],
   "source": [
    "library(caret)"
   ]
  },
  {
   "cell_type": "code",
   "execution_count": 77,
   "metadata": {},
   "outputs": [],
   "source": [
    "# define training control\n",
    "set.seed(20)\n",
    "train_control <- trainControl(method=\"repeatedcv\", number=10, repeats=3) # same result for repeats=10"
   ]
  },
  {
   "cell_type": "code",
   "execution_count": 78,
   "metadata": {},
   "outputs": [
    {
     "name": "stderr",
     "output_type": "stream",
     "text": [
      "Warning message in predict.lm(modelFit, newdata):\n",
      "\"prediction from a rank-deficient fit may be misleading\"Warning message in predict.lm(modelFit, newdata):\n",
      "\"prediction from a rank-deficient fit may be misleading\"Warning message in predict.lm(modelFit, newdata):\n",
      "\"prediction from a rank-deficient fit may be misleading\"Warning message in predict.lm(modelFit, newdata):\n",
      "\"prediction from a rank-deficient fit may be misleading\"Warning message in predict.lm(modelFit, newdata):\n",
      "\"prediction from a rank-deficient fit may be misleading\"Warning message in predict.lm(modelFit, newdata):\n",
      "\"prediction from a rank-deficient fit may be misleading\"Warning message in predict.lm(modelFit, newdata):\n",
      "\"prediction from a rank-deficient fit may be misleading\"Warning message in predict.lm(modelFit, newdata):\n",
      "\"prediction from a rank-deficient fit may be misleading\"Warning message in predict.lm(modelFit, newdata):\n",
      "\"prediction from a rank-deficient fit may be misleading\"Warning message in predict.lm(modelFit, newdata):\n",
      "\"prediction from a rank-deficient fit may be misleading\"Warning message in predict.lm(modelFit, newdata):\n",
      "\"prediction from a rank-deficient fit may be misleading\"Warning message in predict.lm(modelFit, newdata):\n",
      "\"prediction from a rank-deficient fit may be misleading\"Warning message in predict.lm(modelFit, newdata):\n",
      "\"prediction from a rank-deficient fit may be misleading\"Warning message in predict.lm(modelFit, newdata):\n",
      "\"prediction from a rank-deficient fit may be misleading\"Warning message in predict.lm(modelFit, newdata):\n",
      "\"prediction from a rank-deficient fit may be misleading\"Warning message in predict.lm(modelFit, newdata):\n",
      "\"prediction from a rank-deficient fit may be misleading\"Warning message in predict.lm(modelFit, newdata):\n",
      "\"prediction from a rank-deficient fit may be misleading\"Warning message in predict.lm(modelFit, newdata):\n",
      "\"prediction from a rank-deficient fit may be misleading\"Warning message in predict.lm(modelFit, newdata):\n",
      "\"prediction from a rank-deficient fit may be misleading\"Warning message in predict.lm(modelFit, newdata):\n",
      "\"prediction from a rank-deficient fit may be misleading\"Warning message in predict.lm(modelFit, newdata):\n",
      "\"prediction from a rank-deficient fit may be misleading\"Warning message in predict.lm(modelFit, newdata):\n",
      "\"prediction from a rank-deficient fit may be misleading\"Warning message in predict.lm(modelFit, newdata):\n",
      "\"prediction from a rank-deficient fit may be misleading\"Warning message in predict.lm(modelFit, newdata):\n",
      "\"prediction from a rank-deficient fit may be misleading\"Warning message in predict.lm(modelFit, newdata):\n",
      "\"prediction from a rank-deficient fit may be misleading\"Warning message in predict.lm(modelFit, newdata):\n",
      "\"prediction from a rank-deficient fit may be misleading\"Warning message in predict.lm(modelFit, newdata):\n",
      "\"prediction from a rank-deficient fit may be misleading\"Warning message in predict.lm(modelFit, newdata):\n",
      "\"prediction from a rank-deficient fit may be misleading\"Warning message in predict.lm(modelFit, newdata):\n",
      "\"prediction from a rank-deficient fit may be misleading\"Warning message in predict.lm(modelFit, newdata):\n",
      "\"prediction from a rank-deficient fit may be misleading\""
     ]
    },
    {
     "name": "stdout",
     "output_type": "stream",
     "text": [
      "Linear Regression \n",
      "\n",
      "515 samples\n",
      "  7 predictor\n",
      "\n",
      "No pre-processing\n",
      "Resampling: Cross-Validated (10 fold, repeated 3 times) \n",
      "Summary of sample sizes: 465, 463, 464, 463, 465, 463, ... \n",
      "Resampling results:\n",
      "\n",
      "  RMSE     Rsquared    MAE  \n",
      "  1.41533  0.04126888  1.134\n",
      "\n",
      "Tuning parameter 'intercept' was held constant at a value of TRUE\n"
     ]
    }
   ],
   "source": [
    "model <- train(log(area + 1) ~ X + Y + month + DMC + DC + temp + wind, \n",
    "               data = fire_df, method = \"lm\",\n",
    "               trControl = train_control)\n",
    "\n",
    "# Summarize the results\n",
    "print(model)"
   ]
  },
  {
   "cell_type": "markdown",
   "metadata": {},
   "source": [
    "Here, we get RMSE of **1.415**, and Rsquared as **0.0412**"
   ]
  },
  {
   "cell_type": "markdown",
   "metadata": {},
   "source": [
    "### 4.2 Decision Tree model"
   ]
  },
  {
   "cell_type": "code",
   "execution_count": 79,
   "metadata": {},
   "outputs": [
    {
     "name": "stderr",
     "output_type": "stream",
     "text": [
      "Warning message:\n",
      "\"package 'plyr' was built under R version 3.5.3\"------------------------------------------------------------------------------\n",
      "You have loaded plyr after dplyr - this is likely to cause problems.\n",
      "If you need functions from both plyr and dplyr, please load plyr first, then dplyr:\n",
      "library(plyr); library(dplyr)\n",
      "------------------------------------------------------------------------------\n",
      "\n",
      "Attaching package: 'plyr'\n",
      "\n",
      "The following objects are masked from 'package:dplyr':\n",
      "\n",
      "    arrange, count, desc, failwith, id, mutate, rename, summarise,\n",
      "    summarize\n",
      "\n"
     ]
    }
   ],
   "source": [
    "library(plyr)"
   ]
  },
  {
   "cell_type": "code",
   "execution_count": 80,
   "metadata": {},
   "outputs": [],
   "source": [
    "fit <- rpart(log(area+1) ~ X+Y+month+DMC+temp+DC+ISI+RH+day+FFMC+wind+rain, method=\"anova\", data=fire_df,\n",
    "             control = list(minsplit = 14, maxdepth = 14, cp=0.01))"
   ]
  },
  {
   "cell_type": "code",
   "execution_count": 81,
   "metadata": {},
   "outputs": [
    {
     "data": {
      "text/html": [
       "'average error using k-fold cross-validation: 1.569565 percent'"
      ],
      "text/latex": [
       "'average error using k-fold cross-validation: 1.569565 percent'"
      ],
      "text/markdown": [
       "'average error using k-fold cross-validation: 1.569565 percent'"
      ],
      "text/plain": [
       "[1] \"average error using k-fold cross-validation: 1.569565 percent\""
      ]
     },
     "metadata": {},
     "output_type": "display_data"
    }
   ],
   "source": [
    "set.seed(20)\n",
    "form <- \"\"\n",
    "folds <- split(fire_df, cut(sample(1:nrow(fire_df)),10))\n",
    "errs <- rep(NA, length(folds))\n",
    "test_vector <- c()\n",
    "sq_sum = 0\n",
    "for (i in 1:length(folds)){\n",
    "    test <- ldply(folds[i], data.frame)\n",
    "    train <- ldply(folds[-i], data.frame)\n",
    "    tmp.model <- rpart(log(area+1) ~ X+Y+month+DMC+temp+DC+ISI+RH+day+FFMC+wind+rain, method=\"anova\", data=train,\n",
    "             control = list(minsplit = 14, maxdepth = 14, cp=0.01))\n",
    "    tmp.predict <- predict(tmp.model, newdata = test)\n",
    "    test_vector <- c(test_vector,tmp.predict)\n",
    "    sq_sum = sq_sum + sum((tmp.predict - log(test$area+1))^2)    \n",
    "}\n",
    "sprintf(\"average error using k-fold cross-validation: %f percent\", sqrt(sq_sum/515))"
   ]
  },
  {
   "cell_type": "markdown",
   "metadata": {},
   "source": [
    "### 4.3 Bagging model"
   ]
  },
  {
   "cell_type": "code",
   "execution_count": 82,
   "metadata": {},
   "outputs": [
    {
     "name": "stdout",
     "output_type": "stream",
     "text": [
      "\n",
      "Bagging regression trees with 15 bootstrap replications \n",
      "\n",
      "Call: bagging.data.frame(formula = log(area + 1) ~ X + Y + month + \n",
      "    DMC + temp + DC + ISI + RH + day + FFMC + wind + rain, data = fire_df, \n",
      "    nbagg = 15, trControl = train_control, method = \"treebag\", \n",
      "    coob = TRUE)\n",
      "\n",
      "Out-of-bag estimate of root mean squared error:  1.4729 \n",
      "\n"
     ]
    }
   ],
   "source": [
    "bagg <- bagging(log(area+1)~X+Y+month+DMC+temp+DC+ISI+RH+day+FFMC+wind+rain, \n",
    "                nbagg = 15,trControl = train_control,\n",
    "                method='treebag',data=fire_df,coob=TRUE)\n",
    "\n",
    "print(bagg)"
   ]
  },
  {
   "cell_type": "markdown",
   "metadata": {},
   "source": [
    "### 4.4 LightGBM"
   ]
  },
  {
   "cell_type": "code",
   "execution_count": 83,
   "metadata": {},
   "outputs": [
    {
     "name": "stdout",
     "output_type": "stream",
     "text": [
      "[1]:\tvalid's rmse:1.37508+0.276522 \n",
      "[2]:\tvalid's rmse:1.37505+0.276588 \n",
      "[3]:\tvalid's rmse:1.37501+0.276657 \n",
      "[4]:\tvalid's rmse:1.37497+0.276725 \n",
      "[5]:\tvalid's rmse:1.37494+0.276791 \n",
      "[6]:\tvalid's rmse:1.37489+0.27686 \n",
      "[7]:\tvalid's rmse:1.37485+0.276929 \n",
      "[8]:\tvalid's rmse:1.37482+0.276999 \n",
      "[9]:\tvalid's rmse:1.37481+0.277039 \n",
      "[10]:\tvalid's rmse:1.37477+0.277107 \n",
      "[11]:\tvalid's rmse:1.37473+0.277172 \n",
      "[12]:\tvalid's rmse:1.3747+0.277238 \n",
      "[13]:\tvalid's rmse:1.37468+0.277279 \n",
      "[14]:\tvalid's rmse:1.37465+0.277336 \n",
      "[15]:\tvalid's rmse:1.37462+0.27739 \n",
      "[16]:\tvalid's rmse:1.37459+0.277452 \n",
      "[17]:\tvalid's rmse:1.37458+0.277479 \n",
      "[18]:\tvalid's rmse:1.37455+0.277537 \n",
      "[19]:\tvalid's rmse:1.37451+0.277592 \n",
      "[20]:\tvalid's rmse:1.3745+0.277624 \n",
      "[21]:\tvalid's rmse:1.37446+0.277675 \n",
      "[22]:\tvalid's rmse:1.37444+0.277725 \n",
      "[23]:\tvalid's rmse:1.37442+0.277759 \n",
      "[24]:\tvalid's rmse:1.3744+0.277817 \n",
      "[25]:\tvalid's rmse:1.37438+0.27785 \n",
      "[26]:\tvalid's rmse:1.37436+0.27791 \n",
      "[27]:\tvalid's rmse:1.37433+0.277966 \n",
      "[28]:\tvalid's rmse:1.37433+0.278006 \n",
      "[29]:\tvalid's rmse:1.3743+0.278059 \n",
      "[30]:\tvalid's rmse:1.37428+0.278114 \n",
      "[31]:\tvalid's rmse:1.37426+0.278142 \n",
      "[32]:\tvalid's rmse:1.37424+0.278215 \n",
      "[33]:\tvalid's rmse:1.37421+0.278268 \n",
      "[34]:\tvalid's rmse:1.37421+0.278318 \n",
      "[35]:\tvalid's rmse:1.3742+0.278349 \n",
      "[36]:\tvalid's rmse:1.37418+0.278411 \n",
      "[37]:\tvalid's rmse:1.37416+0.278449 \n",
      "[38]:\tvalid's rmse:1.37415+0.278509 \n",
      "[39]:\tvalid's rmse:1.37413+0.278553 \n",
      "[40]:\tvalid's rmse:1.37413+0.2786 \n",
      "[41]:\tvalid's rmse:1.37411+0.278651 \n",
      "[42]:\tvalid's rmse:1.37411+0.278687 \n",
      "[43]:\tvalid's rmse:1.37407+0.278746 \n",
      "[44]:\tvalid's rmse:1.37407+0.278797 \n",
      "[45]:\tvalid's rmse:1.37406+0.27884 \n",
      "[46]:\tvalid's rmse:1.37403+0.2789 \n",
      "[47]:\tvalid's rmse:1.37403+0.278948 \n",
      "[48]:\tvalid's rmse:1.37402+0.278998 \n",
      "[49]:\tvalid's rmse:1.37398+0.279064 \n",
      "[50]:\tvalid's rmse:1.37399+0.279098 \n",
      "[51]:\tvalid's rmse:1.37396+0.279173 \n",
      "[52]:\tvalid's rmse:1.37395+0.279222 \n",
      "[53]:\tvalid's rmse:1.37394+0.279263 \n",
      "[54]:\tvalid's rmse:1.37393+0.27933 \n",
      "[55]:\tvalid's rmse:1.3739+0.279371 \n",
      "[56]:\tvalid's rmse:1.3739+0.27942 \n",
      "[57]:\tvalid's rmse:1.37388+0.279483 \n",
      "[58]:\tvalid's rmse:1.37387+0.279519 \n",
      "[59]:\tvalid's rmse:1.37384+0.279575 \n",
      "[60]:\tvalid's rmse:1.37383+0.279615 \n",
      "[61]:\tvalid's rmse:1.37379+0.27968 \n",
      "[62]:\tvalid's rmse:1.37377+0.279732 \n",
      "[63]:\tvalid's rmse:1.37375+0.279778 \n",
      "[64]:\tvalid's rmse:1.37374+0.279823 \n",
      "[65]:\tvalid's rmse:1.37371+0.279881 \n",
      "[66]:\tvalid's rmse:1.37371+0.279938 \n",
      "[67]:\tvalid's rmse:1.37369+0.279982 \n",
      "[68]:\tvalid's rmse:1.37368+0.280043 \n",
      "[69]:\tvalid's rmse:1.37367+0.280109 \n",
      "[70]:\tvalid's rmse:1.37366+0.280154 \n",
      "[71]:\tvalid's rmse:1.37364+0.280204 \n",
      "[72]:\tvalid's rmse:1.37365+0.280244 \n",
      "[73]:\tvalid's rmse:1.37362+0.280303 \n",
      "[74]:\tvalid's rmse:1.37363+0.280355 \n",
      "[75]:\tvalid's rmse:1.37358+0.280412 \n",
      "[76]:\tvalid's rmse:1.37358+0.280461 \n",
      "[77]:\tvalid's rmse:1.37356+0.280497 \n",
      "[78]:\tvalid's rmse:1.37355+0.280555 \n",
      "[79]:\tvalid's rmse:1.37352+0.280617 \n",
      "[80]:\tvalid's rmse:1.37352+0.280664 \n",
      "[81]:\tvalid's rmse:1.37352+0.280696 \n",
      "[82]:\tvalid's rmse:1.3735+0.280767 \n",
      "[83]:\tvalid's rmse:1.37348+0.280812 \n",
      "[84]:\tvalid's rmse:1.37349+0.280844 \n",
      "[85]:\tvalid's rmse:1.37345+0.280907 \n",
      "[86]:\tvalid's rmse:1.37344+0.280957 \n",
      "[87]:\tvalid's rmse:1.37344+0.281004 \n",
      "[88]:\tvalid's rmse:1.37343+0.281055 \n",
      "[89]:\tvalid's rmse:1.37343+0.281086 \n",
      "[90]:\tvalid's rmse:1.37341+0.281141 \n",
      "[91]:\tvalid's rmse:1.3734+0.28118 \n",
      "[92]:\tvalid's rmse:1.3734+0.281244 \n",
      "[93]:\tvalid's rmse:1.3734+0.28126 \n",
      "[94]:\tvalid's rmse:1.37337+0.28133 \n",
      "[95]:\tvalid's rmse:1.37337+0.281361 \n",
      "[96]:\tvalid's rmse:1.37337+0.281407 \n",
      "[97]:\tvalid's rmse:1.37338+0.281454 \n",
      "[98]:\tvalid's rmse:1.37336+0.281507 \n",
      "[99]:\tvalid's rmse:1.37338+0.281549 \n",
      "[100]:\tvalid's rmse:1.37335+0.281587 \n",
      "[101]:\tvalid's rmse:1.37337+0.281637 \n",
      "[102]:\tvalid's rmse:1.37334+0.28169 \n",
      "[103]:\tvalid's rmse:1.37333+0.28173 \n",
      "[104]:\tvalid's rmse:1.37334+0.281761 \n",
      "[105]:\tvalid's rmse:1.37332+0.28182 \n",
      "[106]:\tvalid's rmse:1.3733+0.281865 \n",
      "[107]:\tvalid's rmse:1.37333+0.281899 \n",
      "[108]:\tvalid's rmse:1.37329+0.281942 \n",
      "[109]:\tvalid's rmse:1.37331+0.28198 \n",
      "[110]:\tvalid's rmse:1.37333+0.28201 \n",
      "[111]:\tvalid's rmse:1.3733+0.28207 \n",
      "[112]:\tvalid's rmse:1.3733+0.282104 \n",
      "[113]:\tvalid's rmse:1.37329+0.282159 \n",
      "[114]:\tvalid's rmse:1.37331+0.282187 \n",
      "[115]:\tvalid's rmse:1.37328+0.282237 \n",
      "[116]:\tvalid's rmse:1.37331+0.28228 \n",
      "[117]:\tvalid's rmse:1.37327+0.282328 \n",
      "[118]:\tvalid's rmse:1.37328+0.282365 \n",
      "[119]:\tvalid's rmse:1.37327+0.282409 \n",
      "[120]:\tvalid's rmse:1.37327+0.282444 \n",
      "[121]:\tvalid's rmse:1.37328+0.282472 \n",
      "[122]:\tvalid's rmse:1.37326+0.282508 \n",
      "[123]:\tvalid's rmse:1.37326+0.282541 \n",
      "[124]:\tvalid's rmse:1.37324+0.282581 \n",
      "[125]:\tvalid's rmse:1.37324+0.28259 \n",
      "[126]:\tvalid's rmse:1.37322+0.282638 \n",
      "[127]:\tvalid's rmse:1.37322+0.282649 \n",
      "[128]:\tvalid's rmse:1.3732+0.282698 \n",
      "[129]:\tvalid's rmse:1.3732+0.282738 \n",
      "[130]:\tvalid's rmse:1.37318+0.282745 \n",
      "[131]:\tvalid's rmse:1.37318+0.282792 \n",
      "[132]:\tvalid's rmse:1.37316+0.282805 \n",
      "[133]:\tvalid's rmse:1.37318+0.282839 \n",
      "[134]:\tvalid's rmse:1.37317+0.282881 \n",
      "[135]:\tvalid's rmse:1.37316+0.282905 \n",
      "[136]:\tvalid's rmse:1.37316+0.282937 \n",
      "[137]:\tvalid's rmse:1.37315+0.282954 \n",
      "[138]:\tvalid's rmse:1.37315+0.282998 \n",
      "[139]:\tvalid's rmse:1.37315+0.283033 \n",
      "[140]:\tvalid's rmse:1.37317+0.283073 \n",
      "[141]:\tvalid's rmse:1.37314+0.283105 \n",
      "[142]:\tvalid's rmse:1.37315+0.28314 \n",
      "[143]:\tvalid's rmse:1.37313+0.283157 \n",
      "[144]:\tvalid's rmse:1.37314+0.283187 \n",
      "[145]:\tvalid's rmse:1.37314+0.28323 \n",
      "[146]:\tvalid's rmse:1.37315+0.283268 \n",
      "[147]:\tvalid's rmse:1.37315+0.283289 \n",
      "[148]:\tvalid's rmse:1.37315+0.283321 \n",
      "[149]:\tvalid's rmse:1.37316+0.283348 \n",
      "[150]:\tvalid's rmse:1.37315+0.283385 \n",
      "[151]:\tvalid's rmse:1.37318+0.283439 \n",
      "[152]:\tvalid's rmse:1.37316+0.283457 \n",
      "[153]:\tvalid's rmse:1.37319+0.283508 \n"
     ]
    }
   ],
   "source": [
    "params <- list( objective = \"regression\", metric=\"rmse\")\n",
    "\n",
    "set.seed(23242)\n",
    "nrounds <-15L\n",
    "bst <- lgb.cv(\n",
    "    params,\n",
    "    data = train_sparse,\n",
    "    label = y_train,\n",
    "    num_leaves = 25,\n",
    "    learning_rate = 0.001,\n",
    "    nrounds = 200,\n",
    "    early_stopping_rounds=10,\n",
    "    nfolds= 10,\n",
    "    nrounds\n",
    ")\n"
   ]
  },
  {
   "cell_type": "code",
   "execution_count": 84,
   "metadata": {},
   "outputs": [
    {
     "data": {
      "text/html": [
       "143"
      ],
      "text/latex": [
       "143"
      ],
      "text/markdown": [
       "143"
      ],
      "text/plain": [
       "[1] 143"
      ]
     },
     "metadata": {},
     "output_type": "display_data"
    }
   ],
   "source": [
    "bst$best_iter"
   ]
  },
  {
   "cell_type": "markdown",
   "metadata": {},
   "source": [
    "We are getting best results at 143 epochs so we will run it till 143."
   ]
  },
  {
   "cell_type": "code",
   "execution_count": 85,
   "metadata": {},
   "outputs": [
    {
     "name": "stdout",
     "output_type": "stream",
     "text": [
      "[1]:\tvalid's rmse:1.37508+0.276522 \n",
      "[2]:\tvalid's rmse:1.37505+0.276588 \n",
      "[3]:\tvalid's rmse:1.37501+0.276657 \n",
      "[4]:\tvalid's rmse:1.37497+0.276725 \n",
      "[5]:\tvalid's rmse:1.37494+0.276791 \n",
      "[6]:\tvalid's rmse:1.37489+0.27686 \n",
      "[7]:\tvalid's rmse:1.37485+0.276929 \n",
      "[8]:\tvalid's rmse:1.37482+0.276999 \n",
      "[9]:\tvalid's rmse:1.37481+0.277039 \n",
      "[10]:\tvalid's rmse:1.37477+0.277107 \n",
      "[11]:\tvalid's rmse:1.37473+0.277172 \n",
      "[12]:\tvalid's rmse:1.3747+0.277238 \n",
      "[13]:\tvalid's rmse:1.37468+0.277279 \n",
      "[14]:\tvalid's rmse:1.37465+0.277336 \n",
      "[15]:\tvalid's rmse:1.37462+0.27739 \n",
      "[16]:\tvalid's rmse:1.37459+0.277452 \n",
      "[17]:\tvalid's rmse:1.37458+0.277479 \n",
      "[18]:\tvalid's rmse:1.37455+0.277537 \n",
      "[19]:\tvalid's rmse:1.37451+0.277592 \n",
      "[20]:\tvalid's rmse:1.3745+0.277624 \n",
      "[21]:\tvalid's rmse:1.37446+0.277675 \n",
      "[22]:\tvalid's rmse:1.37444+0.277725 \n",
      "[23]:\tvalid's rmse:1.37442+0.277759 \n",
      "[24]:\tvalid's rmse:1.3744+0.277817 \n",
      "[25]:\tvalid's rmse:1.37438+0.27785 \n",
      "[26]:\tvalid's rmse:1.37436+0.27791 \n",
      "[27]:\tvalid's rmse:1.37433+0.277966 \n",
      "[28]:\tvalid's rmse:1.37433+0.278006 \n",
      "[29]:\tvalid's rmse:1.3743+0.278059 \n",
      "[30]:\tvalid's rmse:1.37428+0.278114 \n",
      "[31]:\tvalid's rmse:1.37426+0.278142 \n",
      "[32]:\tvalid's rmse:1.37424+0.278215 \n",
      "[33]:\tvalid's rmse:1.37421+0.278268 \n",
      "[34]:\tvalid's rmse:1.37421+0.278318 \n",
      "[35]:\tvalid's rmse:1.3742+0.278349 \n",
      "[36]:\tvalid's rmse:1.37418+0.278411 \n",
      "[37]:\tvalid's rmse:1.37416+0.278449 \n",
      "[38]:\tvalid's rmse:1.37415+0.278509 \n",
      "[39]:\tvalid's rmse:1.37413+0.278553 \n",
      "[40]:\tvalid's rmse:1.37413+0.2786 \n",
      "[41]:\tvalid's rmse:1.37411+0.278651 \n",
      "[42]:\tvalid's rmse:1.37411+0.278687 \n",
      "[43]:\tvalid's rmse:1.37407+0.278746 \n",
      "[44]:\tvalid's rmse:1.37407+0.278797 \n",
      "[45]:\tvalid's rmse:1.37406+0.27884 \n",
      "[46]:\tvalid's rmse:1.37403+0.2789 \n",
      "[47]:\tvalid's rmse:1.37403+0.278948 \n",
      "[48]:\tvalid's rmse:1.37402+0.278998 \n",
      "[49]:\tvalid's rmse:1.37398+0.279064 \n",
      "[50]:\tvalid's rmse:1.37399+0.279098 \n",
      "[51]:\tvalid's rmse:1.37396+0.279173 \n",
      "[52]:\tvalid's rmse:1.37395+0.279222 \n",
      "[53]:\tvalid's rmse:1.37394+0.279263 \n",
      "[54]:\tvalid's rmse:1.37393+0.27933 \n",
      "[55]:\tvalid's rmse:1.3739+0.279371 \n",
      "[56]:\tvalid's rmse:1.3739+0.27942 \n",
      "[57]:\tvalid's rmse:1.37388+0.279483 \n",
      "[58]:\tvalid's rmse:1.37387+0.279519 \n",
      "[59]:\tvalid's rmse:1.37384+0.279575 \n",
      "[60]:\tvalid's rmse:1.37383+0.279615 \n",
      "[61]:\tvalid's rmse:1.37379+0.27968 \n",
      "[62]:\tvalid's rmse:1.37377+0.279732 \n",
      "[63]:\tvalid's rmse:1.37375+0.279778 \n",
      "[64]:\tvalid's rmse:1.37374+0.279823 \n",
      "[65]:\tvalid's rmse:1.37371+0.279881 \n",
      "[66]:\tvalid's rmse:1.37371+0.279938 \n",
      "[67]:\tvalid's rmse:1.37369+0.279982 \n",
      "[68]:\tvalid's rmse:1.37368+0.280043 \n",
      "[69]:\tvalid's rmse:1.37367+0.280109 \n",
      "[70]:\tvalid's rmse:1.37366+0.280154 \n",
      "[71]:\tvalid's rmse:1.37364+0.280204 \n",
      "[72]:\tvalid's rmse:1.37365+0.280244 \n",
      "[73]:\tvalid's rmse:1.37362+0.280303 \n",
      "[74]:\tvalid's rmse:1.37363+0.280355 \n",
      "[75]:\tvalid's rmse:1.37358+0.280412 \n",
      "[76]:\tvalid's rmse:1.37358+0.280461 \n",
      "[77]:\tvalid's rmse:1.37356+0.280497 \n",
      "[78]:\tvalid's rmse:1.37355+0.280555 \n",
      "[79]:\tvalid's rmse:1.37352+0.280617 \n",
      "[80]:\tvalid's rmse:1.37352+0.280664 \n",
      "[81]:\tvalid's rmse:1.37352+0.280696 \n",
      "[82]:\tvalid's rmse:1.3735+0.280767 \n",
      "[83]:\tvalid's rmse:1.37348+0.280812 \n",
      "[84]:\tvalid's rmse:1.37349+0.280844 \n",
      "[85]:\tvalid's rmse:1.37345+0.280907 \n",
      "[86]:\tvalid's rmse:1.37344+0.280957 \n",
      "[87]:\tvalid's rmse:1.37344+0.281004 \n",
      "[88]:\tvalid's rmse:1.37343+0.281055 \n",
      "[89]:\tvalid's rmse:1.37343+0.281086 \n",
      "[90]:\tvalid's rmse:1.37341+0.281141 \n",
      "[91]:\tvalid's rmse:1.3734+0.28118 \n",
      "[92]:\tvalid's rmse:1.3734+0.281244 \n",
      "[93]:\tvalid's rmse:1.3734+0.28126 \n",
      "[94]:\tvalid's rmse:1.37337+0.28133 \n",
      "[95]:\tvalid's rmse:1.37337+0.281361 \n",
      "[96]:\tvalid's rmse:1.37337+0.281407 \n",
      "[97]:\tvalid's rmse:1.37338+0.281454 \n",
      "[98]:\tvalid's rmse:1.37336+0.281507 \n",
      "[99]:\tvalid's rmse:1.37338+0.281549 \n",
      "[100]:\tvalid's rmse:1.37335+0.281587 \n",
      "[101]:\tvalid's rmse:1.37337+0.281637 \n",
      "[102]:\tvalid's rmse:1.37334+0.28169 \n",
      "[103]:\tvalid's rmse:1.37333+0.28173 \n",
      "[104]:\tvalid's rmse:1.37334+0.281761 \n",
      "[105]:\tvalid's rmse:1.37332+0.28182 \n",
      "[106]:\tvalid's rmse:1.3733+0.281865 \n",
      "[107]:\tvalid's rmse:1.37333+0.281899 \n",
      "[108]:\tvalid's rmse:1.37329+0.281942 \n",
      "[109]:\tvalid's rmse:1.37331+0.28198 \n",
      "[110]:\tvalid's rmse:1.37333+0.28201 \n",
      "[111]:\tvalid's rmse:1.3733+0.28207 \n",
      "[112]:\tvalid's rmse:1.3733+0.282104 \n",
      "[113]:\tvalid's rmse:1.37329+0.282159 \n",
      "[114]:\tvalid's rmse:1.37331+0.282187 \n",
      "[115]:\tvalid's rmse:1.37328+0.282237 \n",
      "[116]:\tvalid's rmse:1.37331+0.28228 \n",
      "[117]:\tvalid's rmse:1.37327+0.282328 \n",
      "[118]:\tvalid's rmse:1.37328+0.282365 \n",
      "[119]:\tvalid's rmse:1.37327+0.282409 \n",
      "[120]:\tvalid's rmse:1.37327+0.282444 \n",
      "[121]:\tvalid's rmse:1.37328+0.282472 \n",
      "[122]:\tvalid's rmse:1.37326+0.282508 \n",
      "[123]:\tvalid's rmse:1.37326+0.282541 \n",
      "[124]:\tvalid's rmse:1.37324+0.282581 \n",
      "[125]:\tvalid's rmse:1.37324+0.28259 \n",
      "[126]:\tvalid's rmse:1.37322+0.282638 \n",
      "[127]:\tvalid's rmse:1.37322+0.282649 \n",
      "[128]:\tvalid's rmse:1.3732+0.282698 \n",
      "[129]:\tvalid's rmse:1.3732+0.282738 \n",
      "[130]:\tvalid's rmse:1.37318+0.282745 \n",
      "[131]:\tvalid's rmse:1.37318+0.282792 \n",
      "[132]:\tvalid's rmse:1.37316+0.282805 \n",
      "[133]:\tvalid's rmse:1.37318+0.282839 \n",
      "[134]:\tvalid's rmse:1.37317+0.282881 \n",
      "[135]:\tvalid's rmse:1.37316+0.282905 \n",
      "[136]:\tvalid's rmse:1.37316+0.282937 \n",
      "[137]:\tvalid's rmse:1.37315+0.282954 \n",
      "[138]:\tvalid's rmse:1.37315+0.282998 \n",
      "[139]:\tvalid's rmse:1.37315+0.283033 \n",
      "[140]:\tvalid's rmse:1.37317+0.283073 \n",
      "[141]:\tvalid's rmse:1.37314+0.283105 \n",
      "[142]:\tvalid's rmse:1.37315+0.28314 \n",
      "[143]:\tvalid's rmse:1.37313+0.283157 \n"
     ]
    }
   ],
   "source": [
    "set.seed(23242)\n",
    "bst <- lgb.cv(\n",
    "    params,\n",
    "    data = train_sparse,\n",
    "    label = y_train,\n",
    "    num_leaves = 25,\n",
    "    learning_rate = 0.001,\n",
    "    nrounds = 143,\n",
    "    nfolds= 10,\n",
    "    nrounds,\n",
    "    nthreads=1\n",
    ")"
   ]
  },
  {
   "cell_type": "markdown",
   "metadata": {},
   "source": [
    "We got validation rmse of almost **1.37313** which is better than the other models"
   ]
  },
  {
   "cell_type": "markdown",
   "metadata": {},
   "source": [
    "## 5. Variable Identification and Explanation <a class=\"anchor\" id=\"sec_5\"></a>"
   ]
  },
  {
   "cell_type": "markdown",
   "metadata": {},
   "source": [
    "Above, you can see experiments on linear models. However, better variable selection can be done by following methods.  "
   ]
  },
  {
   "cell_type": "markdown",
   "metadata": {},
   "source": [
    "### Subset Selection Method for linear models"
   ]
  },
  {
   "cell_type": "markdown",
   "metadata": {},
   "source": [
    "We will look at subset selection method for linear regression"
   ]
  },
  {
   "cell_type": "code",
   "execution_count": 86,
   "metadata": {},
   "outputs": [],
   "source": [
    "library(leaps)"
   ]
  },
  {
   "cell_type": "code",
   "execution_count": 87,
   "metadata": {},
   "outputs": [
    {
     "name": "stderr",
     "output_type": "stream",
     "text": [
      "Warning message in leaps.setup(x, y, wt = wt, nbest = nbest, nvmax = nvmax, force.in = force.in, :\n",
      "\"2  linear dependencies found\""
     ]
    },
    {
     "name": "stdout",
     "output_type": "stream",
     "text": [
      "Reordering variables and trying again:\n"
     ]
    }
   ],
   "source": [
    "regfit.full <- regsubsets(log(area+1)~.-temp_cat-FFMC, data = fire_df, nvmax=25)"
   ]
  },
  {
   "cell_type": "code",
   "execution_count": 88,
   "metadata": {},
   "outputs": [
    {
     "data": {
      "text/plain": [
       "Subset selection object\n",
       "Call: regsubsets.formula(log(area + 1) ~ . - temp_cat - FFMC, data = fire_df, \n",
       "    nvmax = 25)\n",
       "41 Variables  (and intercept)\n",
       "          Forced in Forced out\n",
       "X2            FALSE      FALSE\n",
       "X3            FALSE      FALSE\n",
       "X4            FALSE      FALSE\n",
       "X5            FALSE      FALSE\n",
       "X6            FALSE      FALSE\n",
       "X7            FALSE      FALSE\n",
       "X8            FALSE      FALSE\n",
       "X9            FALSE      FALSE\n",
       "Y2            FALSE      FALSE\n",
       "Y3            FALSE      FALSE\n",
       "Y4            FALSE      FALSE\n",
       "Y5            FALSE      FALSE\n",
       "Y6            FALSE      FALSE\n",
       "Y8            FALSE      FALSE\n",
       "monthfeb      FALSE      FALSE\n",
       "monthmar      FALSE      FALSE\n",
       "monthapr      FALSE      FALSE\n",
       "monthmay      FALSE      FALSE\n",
       "monthjun      FALSE      FALSE\n",
       "monthjul      FALSE      FALSE\n",
       "monthaug      FALSE      FALSE\n",
       "monthsep      FALSE      FALSE\n",
       "monthoct      FALSE      FALSE\n",
       "monthnov      FALSE      FALSE\n",
       "monthdec      FALSE      FALSE\n",
       "daymon        FALSE      FALSE\n",
       "daysat        FALSE      FALSE\n",
       "daysun        FALSE      FALSE\n",
       "daythu        FALSE      FALSE\n",
       "daytue        FALSE      FALSE\n",
       "daywed        FALSE      FALSE\n",
       "DMC           FALSE      FALSE\n",
       "DC            FALSE      FALSE\n",
       "ISI           FALSE      FALSE\n",
       "temp          FALSE      FALSE\n",
       "RH            FALSE      FALSE\n",
       "wind          FALSE      FALSE\n",
       "rain          FALSE      FALSE\n",
       "tran_FFMC     FALSE      FALSE\n",
       "Y7            FALSE      FALSE\n",
       "Y9            FALSE      FALSE\n",
       "1 subsets of each size up to 26\n",
       "Selection Algorithm: exhaustive\n",
       "          X2  X3  X4  X5  X6  X7  X8  X9  Y2  Y3  Y4  Y5  Y6  Y7  Y8  Y9 \n",
       "1  ( 1 )  \" \" \"*\" \" \" \" \" \" \" \" \" \" \" \" \" \" \" \" \" \" \" \" \" \" \" \" \" \" \" \" \"\n",
       "2  ( 1 )  \" \" \"*\" \" \" \" \" \" \" \" \" \" \" \" \" \" \" \" \" \" \" \" \" \" \" \" \" \" \" \" \"\n",
       "3  ( 1 )  \" \" \"*\" \" \" \" \" \" \" \" \" \" \" \" \" \" \" \" \" \" \" \" \" \" \" \" \" \"*\" \" \"\n",
       "4  ( 1 )  \" \" \"*\" \" \" \" \" \" \" \" \" \" \" \" \" \" \" \" \" \" \" \" \" \" \" \" \" \"*\" \" \"\n",
       "5  ( 1 )  \" \" \"*\" \" \" \" \" \" \" \" \" \" \" \"*\" \" \" \" \" \" \" \" \" \" \" \" \" \"*\" \"*\"\n",
       "6  ( 1 )  \" \" \"*\" \" \" \" \" \" \" \" \" \" \" \"*\" \" \" \" \" \" \" \" \" \" \" \" \" \"*\" \"*\"\n",
       "7  ( 1 )  \" \" \"*\" \" \" \" \" \" \" \" \" \" \" \"*\" \" \" \" \" \" \" \" \" \" \" \" \" \"*\" \"*\"\n",
       "8  ( 1 )  \" \" \"*\" \" \" \"*\" \" \" \" \" \" \" \"*\" \"*\" \" \" \" \" \" \" \" \" \" \" \"*\" \"*\"\n",
       "9  ( 1 )  \" \" \"*\" \" \" \"*\" \" \" \" \" \" \" \"*\" \"*\" \" \" \" \" \" \" \" \" \" \" \"*\" \"*\"\n",
       "10  ( 1 ) \" \" \"*\" \" \" \"*\" \" \" \" \" \" \" \"*\" \"*\" \" \" \" \" \" \" \" \" \" \" \"*\" \"*\"\n",
       "11  ( 1 ) \" \" \"*\" \" \" \"*\" \" \" \" \" \" \" \"*\" \"*\" \" \" \" \" \" \" \" \" \" \" \"*\" \"*\"\n",
       "12  ( 1 ) \" \" \"*\" \" \" \"*\" \" \" \" \" \" \" \"*\" \"*\" \" \" \" \" \" \" \" \" \" \" \"*\" \"*\"\n",
       "13  ( 1 ) \" \" \"*\" \" \" \"*\" \" \" \" \" \" \" \"*\" \"*\" \" \" \" \" \" \" \" \" \" \" \"*\" \"*\"\n",
       "14  ( 1 ) \" \" \"*\" \" \" \"*\" \" \" \" \" \" \" \"*\" \"*\" \" \" \" \" \" \" \" \" \" \" \"*\" \"*\"\n",
       "15  ( 1 ) \" \" \"*\" \" \" \"*\" \" \" \" \" \" \" \"*\" \"*\" \" \" \" \" \" \" \" \" \" \" \"*\" \"*\"\n",
       "16  ( 1 ) \" \" \"*\" \" \" \"*\" \" \" \" \" \" \" \"*\" \"*\" \" \" \" \" \" \" \" \" \" \" \"*\" \"*\"\n",
       "17  ( 1 ) \" \" \"*\" \" \" \"*\" \" \" \" \" \" \" \"*\" \"*\" \" \" \" \" \" \" \" \" \" \" \"*\" \"*\"\n",
       "18  ( 1 ) \" \" \"*\" \" \" \"*\" \" \" \" \" \" \" \"*\" \"*\" \" \" \" \" \" \" \" \" \" \" \"*\" \"*\"\n",
       "19  ( 1 ) \" \" \"*\" \" \" \"*\" \" \" \" \" \" \" \"*\" \"*\" \" \" \" \" \" \" \" \" \" \" \"*\" \"*\"\n",
       "20  ( 1 ) \" \" \"*\" \" \" \"*\" \" \" \" \" \" \" \"*\" \"*\" \" \" \" \" \" \" \" \" \" \" \"*\" \"*\"\n",
       "21  ( 1 ) \" \" \"*\" \" \" \"*\" \" \" \"*\" \" \" \"*\" \"*\" \" \" \" \" \" \" \" \" \" \" \"*\" \"*\"\n",
       "22  ( 1 ) \" \" \"*\" \" \" \"*\" \" \" \"*\" \" \" \"*\" \"*\" \" \" \"*\" \" \" \" \" \" \" \"*\" \"*\"\n",
       "23  ( 1 ) \" \" \"*\" \" \" \"*\" \" \" \"*\" \" \" \"*\" \"*\" \" \" \"*\" \" \" \" \" \" \" \"*\" \"*\"\n",
       "24  ( 1 ) \" \" \"*\" \" \" \"*\" \" \" \"*\" \" \" \"*\" \"*\" \" \" \"*\" \" \" \" \" \" \" \"*\" \"*\"\n",
       "25  ( 1 ) \" \" \"*\" \" \" \"*\" \" \" \"*\" \"*\" \"*\" \"*\" \" \" \"*\" \" \" \" \" \" \" \"*\" \"*\"\n",
       "26  ( 1 ) \" \" \"*\" \" \" \"*\" \" \" \"*\" \" \" \"*\" \"*\" \" \" \" \" \"*\" \" \" \" \" \"*\" \"*\"\n",
       "          monthfeb monthmar monthapr monthmay monthjun monthjul monthaug\n",
       "1  ( 1 )  \" \"      \" \"      \" \"      \" \"      \" \"      \" \"      \" \"     \n",
       "2  ( 1 )  \" \"      \" \"      \" \"      \" \"      \" \"      \" \"      \" \"     \n",
       "3  ( 1 )  \" \"      \" \"      \" \"      \" \"      \" \"      \" \"      \" \"     \n",
       "4  ( 1 )  \" \"      \" \"      \" \"      \" \"      \" \"      \" \"      \" \"     \n",
       "5  ( 1 )  \" \"      \" \"      \" \"      \" \"      \" \"      \" \"      \" \"     \n",
       "6  ( 1 )  \" \"      \" \"      \" \"      \" \"      \" \"      \" \"      \" \"     \n",
       "7  ( 1 )  \" \"      \" \"      \" \"      \" \"      \" \"      \" \"      \" \"     \n",
       "8  ( 1 )  \" \"      \" \"      \" \"      \" \"      \" \"      \" \"      \" \"     \n",
       "9  ( 1 )  \" \"      \" \"      \" \"      \" \"      \" \"      \" \"      \" \"     \n",
       "10  ( 1 ) \" \"      \" \"      \" \"      \" \"      \" \"      \" \"      \" \"     \n",
       "11  ( 1 ) \"*\"      \" \"      \" \"      \" \"      \" \"      \" \"      \" \"     \n",
       "12  ( 1 ) \"*\"      \" \"      \" \"      \" \"      \" \"      \" \"      \" \"     \n",
       "13  ( 1 ) \" \"      \"*\"      \" \"      \" \"      \"*\"      \" \"      \" \"     \n",
       "14  ( 1 ) \" \"      \"*\"      \" \"      \" \"      \"*\"      \" \"      \" \"     \n",
       "15  ( 1 ) \" \"      \"*\"      \" \"      \" \"      \"*\"      \" \"      \" \"     \n",
       "16  ( 1 ) \"*\"      \" \"      \" \"      \" \"      \" \"      \"*\"      \"*\"     \n",
       "17  ( 1 ) \"*\"      \" \"      \" \"      \"*\"      \" \"      \"*\"      \"*\"     \n",
       "18  ( 1 ) \"*\"      \" \"      \" \"      \"*\"      \" \"      \"*\"      \"*\"     \n",
       "19  ( 1 ) \"*\"      \" \"      \" \"      \" \"      \" \"      \"*\"      \"*\"     \n",
       "20  ( 1 ) \"*\"      \" \"      \" \"      \"*\"      \" \"      \"*\"      \"*\"     \n",
       "21  ( 1 ) \"*\"      \" \"      \" \"      \"*\"      \" \"      \"*\"      \"*\"     \n",
       "22  ( 1 ) \"*\"      \" \"      \" \"      \"*\"      \" \"      \"*\"      \"*\"     \n",
       "23  ( 1 ) \"*\"      \" \"      \" \"      \"*\"      \" \"      \"*\"      \"*\"     \n",
       "24  ( 1 ) \"*\"      \" \"      \"*\"      \"*\"      \" \"      \"*\"      \"*\"     \n",
       "25  ( 1 ) \"*\"      \" \"      \"*\"      \"*\"      \" \"      \"*\"      \"*\"     \n",
       "26  ( 1 ) \"*\"      \"*\"      \"*\"      \"*\"      \"*\"      \"*\"      \"*\"     \n",
       "          monthsep monthoct monthnov monthdec daymon daysat daysun daythu\n",
       "1  ( 1 )  \" \"      \" \"      \" \"      \" \"      \" \"    \" \"    \" \"    \" \"   \n",
       "2  ( 1 )  \" \"      \" \"      \" \"      \"*\"      \" \"    \" \"    \" \"    \" \"   \n",
       "3  ( 1 )  \" \"      \" \"      \" \"      \"*\"      \" \"    \" \"    \" \"    \" \"   \n",
       "4  ( 1 )  \"*\"      \" \"      \" \"      \"*\"      \" \"    \" \"    \" \"    \" \"   \n",
       "5  ( 1 )  \" \"      \" \"      \" \"      \"*\"      \" \"    \" \"    \" \"    \" \"   \n",
       "6  ( 1 )  \"*\"      \" \"      \" \"      \"*\"      \" \"    \" \"    \" \"    \" \"   \n",
       "7  ( 1 )  \"*\"      \" \"      \" \"      \"*\"      \" \"    \" \"    \" \"    \" \"   \n",
       "8  ( 1 )  \"*\"      \" \"      \" \"      \"*\"      \" \"    \" \"    \" \"    \" \"   \n",
       "9  ( 1 )  \"*\"      \" \"      \" \"      \"*\"      \" \"    \" \"    \" \"    \" \"   \n",
       "10  ( 1 ) \"*\"      \" \"      \" \"      \"*\"      \" \"    \" \"    \" \"    \" \"   \n",
       "11  ( 1 ) \"*\"      \" \"      \" \"      \"*\"      \" \"    \" \"    \" \"    \" \"   \n",
       "12  ( 1 ) \"*\"      \" \"      \" \"      \"*\"      \" \"    \" \"    \" \"    \" \"   \n",
       "13  ( 1 ) \"*\"      \" \"      \" \"      \"*\"      \" \"    \" \"    \" \"    \" \"   \n",
       "14  ( 1 ) \"*\"      \" \"      \" \"      \"*\"      \" \"    \" \"    \" \"    \" \"   \n",
       "15  ( 1 ) \"*\"      \"*\"      \" \"      \"*\"      \" \"    \" \"    \" \"    \" \"   \n",
       "16  ( 1 ) \"*\"      \"*\"      \" \"      \"*\"      \" \"    \" \"    \" \"    \" \"   \n",
       "17  ( 1 ) \"*\"      \"*\"      \" \"      \"*\"      \" \"    \" \"    \" \"    \" \"   \n",
       "18  ( 1 ) \"*\"      \"*\"      \" \"      \"*\"      \" \"    \" \"    \" \"    \" \"   \n",
       "19  ( 1 ) \"*\"      \"*\"      \" \"      \"*\"      \" \"    \"*\"    \"*\"    \" \"   \n",
       "20  ( 1 ) \"*\"      \"*\"      \" \"      \"*\"      \" \"    \"*\"    \"*\"    \" \"   \n",
       "21  ( 1 ) \"*\"      \"*\"      \" \"      \"*\"      \" \"    \"*\"    \"*\"    \" \"   \n",
       "22  ( 1 ) \"*\"      \"*\"      \" \"      \"*\"      \" \"    \"*\"    \"*\"    \" \"   \n",
       "23  ( 1 ) \"*\"      \"*\"      \" \"      \"*\"      \" \"    \"*\"    \"*\"    \" \"   \n",
       "24  ( 1 ) \"*\"      \"*\"      \" \"      \"*\"      \" \"    \"*\"    \"*\"    \" \"   \n",
       "25  ( 1 ) \"*\"      \"*\"      \" \"      \"*\"      \" \"    \"*\"    \"*\"    \" \"   \n",
       "26  ( 1 ) \"*\"      \"*\"      \" \"      \"*\"      \" \"    \"*\"    \"*\"    \" \"   \n",
       "          daytue daywed DMC DC  ISI temp RH  wind rain tran_FFMC\n",
       "1  ( 1 )  \" \"    \" \"    \" \" \" \" \" \" \" \"  \" \" \" \"  \" \"  \" \"      \n",
       "2  ( 1 )  \" \"    \" \"    \" \" \" \" \" \" \" \"  \" \" \" \"  \" \"  \" \"      \n",
       "3  ( 1 )  \" \"    \" \"    \" \" \" \" \" \" \" \"  \" \" \" \"  \" \"  \" \"      \n",
       "4  ( 1 )  \" \"    \" \"    \" \" \" \" \" \" \" \"  \" \" \" \"  \" \"  \" \"      \n",
       "5  ( 1 )  \" \"    \" \"    \" \" \" \" \" \" \" \"  \" \" \" \"  \" \"  \" \"      \n",
       "6  ( 1 )  \" \"    \" \"    \" \" \" \" \" \" \" \"  \" \" \" \"  \" \"  \" \"      \n",
       "7  ( 1 )  \" \"    \" \"    \"*\" \" \" \" \" \" \"  \" \" \" \"  \" \"  \" \"      \n",
       "8  ( 1 )  \" \"    \" \"    \" \" \" \" \" \" \" \"  \" \" \" \"  \" \"  \" \"      \n",
       "9  ( 1 )  \" \"    \" \"    \"*\" \" \" \" \" \" \"  \" \" \" \"  \" \"  \" \"      \n",
       "10  ( 1 ) \" \"    \" \"    \" \" \" \" \" \" \"*\"  \" \" \"*\"  \" \"  \" \"      \n",
       "11  ( 1 ) \" \"    \" \"    \" \" \" \" \" \" \"*\"  \" \" \"*\"  \" \"  \" \"      \n",
       "12  ( 1 ) \" \"    \" \"    \"*\" \" \" \" \" \"*\"  \" \" \"*\"  \" \"  \" \"      \n",
       "13  ( 1 ) \" \"    \" \"    \"*\" \"*\" \" \" \"*\"  \" \" \" \"  \" \"  \" \"      \n",
       "14  ( 1 ) \" \"    \" \"    \"*\" \"*\" \" \" \"*\"  \" \" \"*\"  \" \"  \" \"      \n",
       "15  ( 1 ) \" \"    \" \"    \"*\" \"*\" \" \" \"*\"  \" \" \"*\"  \" \"  \" \"      \n",
       "16  ( 1 ) \" \"    \" \"    \"*\" \"*\" \" \" \"*\"  \" \" \"*\"  \" \"  \" \"      \n",
       "17  ( 1 ) \" \"    \" \"    \"*\" \"*\" \" \" \"*\"  \" \" \"*\"  \" \"  \" \"      \n",
       "18  ( 1 ) \"*\"    \" \"    \"*\" \"*\" \" \" \"*\"  \" \" \"*\"  \" \"  \" \"      \n",
       "19  ( 1 ) \"*\"    \" \"    \"*\" \"*\" \" \" \"*\"  \" \" \"*\"  \" \"  \" \"      \n",
       "20  ( 1 ) \"*\"    \" \"    \"*\" \"*\" \" \" \"*\"  \" \" \"*\"  \" \"  \" \"      \n",
       "21  ( 1 ) \"*\"    \" \"    \"*\" \"*\" \" \" \"*\"  \" \" \"*\"  \" \"  \" \"      \n",
       "22  ( 1 ) \"*\"    \" \"    \"*\" \"*\" \" \" \"*\"  \" \" \"*\"  \" \"  \" \"      \n",
       "23  ( 1 ) \"*\"    \" \"    \"*\" \"*\" \" \" \"*\"  \" \" \"*\"  \" \"  \"*\"      \n",
       "24  ( 1 ) \"*\"    \" \"    \"*\" \"*\" \" \" \"*\"  \" \" \"*\"  \" \"  \"*\"      \n",
       "25  ( 1 ) \"*\"    \" \"    \"*\" \"*\" \" \" \"*\"  \" \" \"*\"  \" \"  \"*\"      \n",
       "26  ( 1 ) \"*\"    \" \"    \"*\" \"*\" \" \" \"*\"  \" \" \"*\"  \" \"  \"*\"      "
      ]
     },
     "metadata": {},
     "output_type": "display_data"
    }
   ],
   "source": [
    "reg.summary <- summary(regfit.full)\n",
    "reg.summary"
   ]
  },
  {
   "cell_type": "markdown",
   "metadata": {},
   "source": [
    "An asterisk indicates that a variable in the corresponding column is included in the model. For example, the best model only contains 1 variables, only contains **X3** which has * besides it.\n"
   ]
  },
  {
   "cell_type": "markdown",
   "metadata": {},
   "source": [
    "We can examine these outputs to identify the best overall model. First, let's find the best overall model using Mallow's CP."
   ]
  },
  {
   "cell_type": "code",
   "execution_count": 89,
   "metadata": {},
   "outputs": [
    {
     "data": {
      "text/html": [
       "11"
      ],
      "text/latex": [
       "11"
      ],
      "text/markdown": [
       "11"
      ],
      "text/plain": [
       "[1] 11"
      ]
     },
     "metadata": {},
     "output_type": "display_data"
    },
    {
     "data": {
      "image/png": "[encoded data removed]",
      "text/plain": [
       "plot without title"
      ]
     },
     "metadata": {},
     "output_type": "display_data"
    }
   ],
   "source": [
    "plot(reg.summary$cp, xlab = \"Number of variables\", ylab = \"C_p\", type = \"l\")\n",
    "mincp = which.min(reg.summary$cp)\n",
    "points(mincp, reg.summary$cp[mincp], col = \"red\", cex = 2, pch = 20)\n",
    "mincp"
   ]
  },
  {
   "cell_type": "markdown",
   "metadata": {},
   "source": [
    "The plot suggests that the best overall model is a model with 3 variables.\n",
    "\n",
    "The three variables and their coefficients are:"
   ]
  },
  {
   "cell_type": "code",
   "execution_count": 90,
   "metadata": {},
   "outputs": [
    {
     "data": {
      "text/html": [
       "<dl class=dl-horizontal>\n",
       "\t<dt>(Intercept)</dt>\n",
       "\t\t<dd>0.95701822794728</dd>\n",
       "\t<dt>X3</dt>\n",
       "\t\t<dd>-0.668789968984405</dd>\n",
       "\t<dt>X5</dt>\n",
       "\t\t<dd>-0.462755280414584</dd>\n",
       "\t<dt>X9</dt>\n",
       "\t\t<dd>0.355604905642564</dd>\n",
       "\t<dt>Y2</dt>\n",
       "\t\t<dd>-0.448637459289998</dd>\n",
       "\t<dt>monthfeb</dt>\n",
       "\t\t<dd>0.0511962348312882</dd>\n",
       "\t<dt>monthmar</dt>\n",
       "\t\t<dd>-0.37426045473709</dd>\n",
       "\t<dt>monthapr</dt>\n",
       "\t\t<dd>-0.127744099879938</dd>\n",
       "\t<dt>monthnov</dt>\n",
       "\t\t<dd>-1.17549207477296</dd>\n",
       "\t<dt>daysat</dt>\n",
       "\t\t<dd>0.133719681319353</dd>\n",
       "\t<dt>wind</dt>\n",
       "\t\t<dd>0.0759149151892559</dd>\n",
       "\t<dt>tran_FFMC</dt>\n",
       "\t\t<dd>0.0484625723161544</dd>\n",
       "</dl>\n"
      ],
      "text/latex": [
       "\\begin{description*}\n",
       "\\item[(Intercept)] 0.95701822794728\n",
       "\\item[X3] -0.668789968984405\n",
       "\\item[X5] -0.462755280414584\n",
       "\\item[X9] 0.355604905642564\n",
       "\\item[Y2] -0.448637459289998\n",
       "\\item[monthfeb] 0.0511962348312882\n",
       "\\item[monthmar] -0.37426045473709\n",
       "\\item[monthapr] -0.127744099879938\n",
       "\\item[monthnov] -1.17549207477296\n",
       "\\item[daysat] 0.133719681319353\n",
       "\\item[wind] 0.0759149151892559\n",
       "\\item[tran\\textbackslash{}\\_FFMC] 0.0484625723161544\n",
       "\\end{description*}\n"
      ],
      "text/markdown": [
       "(Intercept)\n",
       ":   0.95701822794728X3\n",
       ":   -0.668789968984405X5\n",
       ":   -0.462755280414584X9\n",
       ":   0.355604905642564Y2\n",
       ":   -0.448637459289998monthfeb\n",
       ":   0.0511962348312882monthmar\n",
       ":   -0.37426045473709monthapr\n",
       ":   -0.127744099879938monthnov\n",
       ":   -1.17549207477296daysat\n",
       ":   0.133719681319353wind\n",
       ":   0.0759149151892559tran_FFMC\n",
       ":   0.0484625723161544\n",
       "\n"
      ],
      "text/plain": [
       "(Intercept)          X3          X5          X9          Y2    monthfeb \n",
       " 0.95701823 -0.66878997 -0.46275528  0.35560491 -0.44863746  0.05119623 \n",
       "   monthmar    monthapr    monthnov      daysat        wind   tran_FFMC \n",
       "-0.37426045 -0.12774410 -1.17549207  0.13371968  0.07591492  0.04846257 "
      ]
     },
     "metadata": {},
     "output_type": "display_data"
    }
   ],
   "source": [
    "coef(regfit.full, mincp)"
   ]
  },
  {
   "cell_type": "markdown",
   "metadata": {},
   "source": [
    "Similarly, we can use some other criteria, such as BIC and RSS.\n",
    "\n",
    "We will see BIC first."
   ]
  },
  {
   "cell_type": "code",
   "execution_count": 91,
   "metadata": {},
   "outputs": [
    {
     "data": {
      "text/html": [
       "<dl class=dl-horizontal>\n",
       "\t<dt>(Intercept)</dt>\n",
       "\t\t<dd>1.16353782830263</dd>\n",
       "\t<dt>X3</dt>\n",
       "\t\t<dd>-0.627584026034524</dd>\n",
       "\t<dt>monthfeb</dt>\n",
       "\t\t<dd>-0.0378315799952144</dd>\n",
       "\t<dt>daysat</dt>\n",
       "\t\t<dd>0.124429668024129</dd>\n",
       "</dl>\n"
      ],
      "text/latex": [
       "\\begin{description*}\n",
       "\\item[(Intercept)] 1.16353782830263\n",
       "\\item[X3] -0.627584026034524\n",
       "\\item[monthfeb] -0.0378315799952144\n",
       "\\item[daysat] 0.124429668024129\n",
       "\\end{description*}\n"
      ],
      "text/markdown": [
       "(Intercept)\n",
       ":   1.16353782830263X3\n",
       ":   -0.627584026034524monthfeb\n",
       ":   -0.0378315799952144daysat\n",
       ":   0.124429668024129\n",
       "\n"
      ],
      "text/plain": [
       "(Intercept)          X3    monthfeb      daysat \n",
       " 1.16353783 -0.62758403 -0.03783158  0.12442967 "
      ]
     },
     "metadata": {},
     "output_type": "display_data"
    },
    {
     "data": {
      "image/png": "[encoded data removed]",
      "text/plain": [
       "plot without title"
      ]
     },
     "metadata": {},
     "output_type": "display_data"
    }
   ],
   "source": [
    "plot(reg.summary$bic, xlab = \"Number of variables\", ylab = \"BIC\", type = \"l\")\n",
    "minbic = which.min(reg.summary$bic)\n",
    "points(minbic, reg.summary$bic[minbic], col = \"red\", cex = 2, pch = 20)\n",
    "coef(regfit.full, minbic)"
   ]
  },
  {
   "cell_type": "markdown",
   "metadata": {},
   "source": [
    "BIC give way different model than the one we saw from mallow's cp.\n",
    "\n",
    "Lets see R2,"
   ]
  },
  {
   "cell_type": "code",
   "execution_count": 92,
   "metadata": {},
   "outputs": [
    {
     "data": {
      "text/html": [
       "<dl class=dl-horizontal>\n",
       "\t<dt>(Intercept)</dt>\n",
       "\t\t<dd>0.409820315087791</dd>\n",
       "\t<dt>X3</dt>\n",
       "\t\t<dd>-0.640011736127349</dd>\n",
       "\t<dt>X5</dt>\n",
       "\t\t<dd>-0.464278207981713</dd>\n",
       "\t<dt>X9</dt>\n",
       "\t\t<dd>0.380613848050864</dd>\n",
       "\t<dt>Y2</dt>\n",
       "\t\t<dd>-0.37075015875402</dd>\n",
       "\t<dt>monthfeb</dt>\n",
       "\t\t<dd>0.50344328875957</dd>\n",
       "\t<dt>monthmar</dt>\n",
       "\t\t<dd>-0.0295197226433142</dd>\n",
       "\t<dt>monthapr</dt>\n",
       "\t\t<dd>0.279678406494025</dd>\n",
       "\t<dt>monthsep</dt>\n",
       "\t\t<dd>0.314993382018842</dd>\n",
       "\t<dt>monthoct</dt>\n",
       "\t\t<dd>-0.00596999793492574</dd>\n",
       "\t<dt>monthnov</dt>\n",
       "\t\t<dd>-0.736038653712032</dd>\n",
       "\t<dt>monthdec</dt>\n",
       "\t\t<dd>1.77386855221683</dd>\n",
       "\t<dt>daysat</dt>\n",
       "\t\t<dd>0.163910609614907</dd>\n",
       "\t<dt>ISI</dt>\n",
       "\t\t<dd>-0.0128470949117317</dd>\n",
       "\t<dt>temp</dt>\n",
       "\t\t<dd>0.024779347797813</dd>\n",
       "\t<dt>wind</dt>\n",
       "\t\t<dd>0.070910197473384</dd>\n",
       "\t<dt>tran_FFMC</dt>\n",
       "\t\t<dd>0.106706935045467</dd>\n",
       "</dl>\n"
      ],
      "text/latex": [
       "\\begin{description*}\n",
       "\\item[(Intercept)] 0.409820315087791\n",
       "\\item[X3] -0.640011736127349\n",
       "\\item[X5] -0.464278207981713\n",
       "\\item[X9] 0.380613848050864\n",
       "\\item[Y2] -0.37075015875402\n",
       "\\item[monthfeb] 0.50344328875957\n",
       "\\item[monthmar] -0.0295197226433142\n",
       "\\item[monthapr] 0.279678406494025\n",
       "\\item[monthsep] 0.314993382018842\n",
       "\\item[monthoct] -0.00596999793492574\n",
       "\\item[monthnov] -0.736038653712032\n",
       "\\item[monthdec] 1.77386855221683\n",
       "\\item[daysat] 0.163910609614907\n",
       "\\item[ISI] -0.0128470949117317\n",
       "\\item[temp] 0.024779347797813\n",
       "\\item[wind] 0.070910197473384\n",
       "\\item[tran\\textbackslash{}\\_FFMC] 0.106706935045467\n",
       "\\end{description*}\n"
      ],
      "text/markdown": [
       "(Intercept)\n",
       ":   0.409820315087791X3\n",
       ":   -0.640011736127349X5\n",
       ":   -0.464278207981713X9\n",
       ":   0.380613848050864Y2\n",
       ":   -0.37075015875402monthfeb\n",
       ":   0.50344328875957monthmar\n",
       ":   -0.0295197226433142monthapr\n",
       ":   0.279678406494025monthsep\n",
       ":   0.314993382018842monthoct\n",
       ":   -0.00596999793492574monthnov\n",
       ":   -0.736038653712032monthdec\n",
       ":   1.77386855221683daysat\n",
       ":   0.163910609614907ISI\n",
       ":   -0.0128470949117317temp\n",
       ":   0.024779347797813wind\n",
       ":   0.070910197473384tran_FFMC\n",
       ":   0.106706935045467\n",
       "\n"
      ],
      "text/plain": [
       " (Intercept)           X3           X5           X9           Y2     monthfeb \n",
       " 0.409820315 -0.640011736 -0.464278208  0.380613848 -0.370750159  0.503443289 \n",
       "    monthmar     monthapr     monthsep     monthoct     monthnov     monthdec \n",
       "-0.029519723  0.279678406  0.314993382 -0.005969998 -0.736038654  1.773868552 \n",
       "      daysat          ISI         temp         wind    tran_FFMC \n",
       " 0.163910610 -0.012847095  0.024779348  0.070910197  0.106706935 "
      ]
     },
     "metadata": {},
     "output_type": "display_data"
    },
    {
     "data": {
      "image/png": "[encoded data removed]",
      "text/plain": [
       "plot without title"
      ]
     },
     "metadata": {},
     "output_type": "display_data"
    }
   ],
   "source": [
    "plot(reg.summary$adjr2, xlab = \"Number of variables\", ylab = \"Adjusted R^2\", type = \"l\")\n",
    "max_adjr2 = which.max(reg.summary$adjr2)\n",
    "points(max_adjr2, reg.summary$adjr2[max_adjr2 ], col = \"red\", cex = 2, pch = 20)\n",
    "coef(regfit.full, max_adjr2)"
   ]
  },
  {
   "cell_type": "markdown",
   "metadata": {},
   "source": [
    "We see that, this criteria gives best model with 16 overall parameter, which are described with their coefficients above.\n",
    "\n",
    "Lastly, lets look at RSS criteria."
   ]
  },
  {
   "cell_type": "code",
   "execution_count": 93,
   "metadata": {},
   "outputs": [
    {
     "data": {
      "image/png": "[encoded data removed]",
      "text/plain": [
       "plot without title"
      ]
     },
     "metadata": {},
     "output_type": "display_data"
    }
   ],
   "source": [
    "plot(reg.summary$rss, xlab = \"Number of variables\", ylab = \"RSS\", type = \"l\")"
   ]
  },
  {
   "cell_type": "markdown",
   "metadata": {},
   "source": [
    "We observe that RSS decreases exponentially with increase in number of variables."
   ]
  },
  {
   "cell_type": "markdown",
   "metadata": {},
   "source": [
    "As results from all above selection process are different, we find most common features among all above selection process.\n",
    "\n",
    "So we can conclude that X5,X9,Y2,monthfeb,monthmar,monthapr,monthnov,daysat,wind,tran_FFMC are important variables based on commonality between each of the above methods"
   ]
  },
  {
   "cell_type": "markdown",
   "metadata": {},
   "source": [
    "### LASSO"
   ]
  },
  {
   "cell_type": "markdown",
   "metadata": {},
   "source": [
    "Till now, we performed feature selection using subsets method, now we will use  LASSO which automatically selects the features. Depending on the shrinkage parameter, Lasso regularizes the coefficient in a way such that the estimated coefficients can be shrunk toward zero."
   ]
  },
  {
   "cell_type": "code",
   "execution_count": 94,
   "metadata": {},
   "outputs": [
    {
     "name": "stderr",
     "output_type": "stream",
     "text": [
      "Loading required package: foreach\n",
      "Loaded glmnet 2.0-16\n",
      "\n"
     ]
    }
   ],
   "source": [
    "library(glmnet)"
   ]
  },
  {
   "cell_type": "code",
   "execution_count": 95,
   "metadata": {},
   "outputs": [],
   "source": [
    "xmat <- model.matrix(log(area+1)~.-temp_cat-FFMC, data = fire_df)\n",
    "xmat <- xmat[, -1]"
   ]
  },
  {
   "cell_type": "markdown",
   "metadata": {},
   "source": [
    "We will use cross validation to select best $\\lambda$"
   ]
  },
  {
   "cell_type": "code",
   "execution_count": 96,
   "metadata": {},
   "outputs": [],
   "source": [
    "cv.lasso <- cv.glmnet(xmat, log(fire_df$area+1), alpha = 1)"
   ]
  },
  {
   "cell_type": "markdown",
   "metadata": {},
   "source": [
    "If <font color=\"orange\">alpha</font> is set to 0, a Ridge regression model is going to be fit. The default number of folds used is 10. You can also set the number of folds by specifying the value of <font color=\"orange\">nfolds</font>.\n",
    "\n",
    "Lets plot the MSE as a function of the logarithm of $\\lambda$ with error bars."
   ]
  },
  {
   "cell_type": "code",
   "execution_count": 97,
   "metadata": {},
   "outputs": [
    {
     "data": {
      "image/png": "[encoded data removed]",
      "text/plain": [
       "plot without title"
      ]
     },
     "metadata": {},
     "output_type": "display_data"
    }
   ],
   "source": [
    "plot(cv.lasso)"
   ]
  },
  {
   "cell_type": "code",
   "execution_count": 98,
   "metadata": {},
   "outputs": [
    {
     "data": {
      "text/html": [
       "'Best lambda value for cv is 0.084220'"
      ],
      "text/latex": [
       "'Best lambda value for cv is 0.084220'"
      ],
      "text/markdown": [
       "'Best lambda value for cv is 0.084220'"
      ],
      "text/plain": [
       "[1] \"Best lambda value for cv is 0.084220\""
      ]
     },
     "metadata": {},
     "output_type": "display_data"
    }
   ],
   "source": [
    "bestlam <- cv.lasso$lambda.min\n",
    "sprintf('Best lambda value for cv is %f',bestlam)"
   ]
  },
  {
   "cell_type": "code",
   "execution_count": 99,
   "metadata": {},
   "outputs": [
    {
     "data": {
      "text/html": [
       "<dl class=dl-horizontal>\n",
       "\t<dt>(Intercept)</dt>\n",
       "\t\t<dd>1.08560523737774</dd>\n",
       "\t<dt>X2</dt>\n",
       "\t\t<dd>0</dd>\n",
       "\t<dt>X3</dt>\n",
       "\t\t<dd>-0.351754602568631</dd>\n",
       "\t<dt>X4</dt>\n",
       "\t\t<dd>0</dd>\n",
       "\t<dt>X5</dt>\n",
       "\t\t<dd>-0.00650937670514821</dd>\n",
       "\t<dt>X6</dt>\n",
       "\t\t<dd>0</dd>\n",
       "\t<dt>X7</dt>\n",
       "\t\t<dd>0</dd>\n",
       "\t<dt>X8</dt>\n",
       "\t\t<dd>0</dd>\n",
       "\t<dt>X9</dt>\n",
       "\t\t<dd>0</dd>\n",
       "\t<dt>Y2</dt>\n",
       "\t\t<dd>-0.0375272421119019</dd>\n",
       "\t<dt>Y3</dt>\n",
       "\t\t<dd>0</dd>\n",
       "\t<dt>Y4</dt>\n",
       "\t\t<dd>0</dd>\n",
       "\t<dt>Y5</dt>\n",
       "\t\t<dd>0</dd>\n",
       "\t<dt>Y6</dt>\n",
       "\t\t<dd>0</dd>\n",
       "\t<dt>Y7</dt>\n",
       "\t\t<dd>0</dd>\n",
       "\t<dt>Y8</dt>\n",
       "\t\t<dd>2.19617326628195</dd>\n",
       "\t<dt>Y9</dt>\n",
       "\t\t<dd>0</dd>\n",
       "\t<dt>monthfeb</dt>\n",
       "\t\t<dd>0</dd>\n",
       "\t<dt>monthmar</dt>\n",
       "\t\t<dd>-0.00493605373728905</dd>\n",
       "\t<dt>monthapr</dt>\n",
       "\t\t<dd>0</dd>\n",
       "\t<dt>monthmay</dt>\n",
       "\t\t<dd>0</dd>\n",
       "\t<dt>monthjun</dt>\n",
       "\t\t<dd>0</dd>\n",
       "\t<dt>monthjul</dt>\n",
       "\t\t<dd>0</dd>\n",
       "\t<dt>monthaug</dt>\n",
       "\t\t<dd>0</dd>\n",
       "\t<dt>monthsep</dt>\n",
       "\t\t<dd>0.0813019158404773</dd>\n",
       "\t<dt>monthoct</dt>\n",
       "\t\t<dd>0</dd>\n",
       "\t<dt>monthnov</dt>\n",
       "\t\t<dd>0</dd>\n",
       "\t<dt>monthdec</dt>\n",
       "\t\t<dd>0.887896821721894</dd>\n",
       "\t<dt>daymon</dt>\n",
       "\t\t<dd>0</dd>\n",
       "\t<dt>daysat</dt>\n",
       "\t\t<dd>0</dd>\n",
       "\t<dt>daysun</dt>\n",
       "\t\t<dd>0</dd>\n",
       "\t<dt>daythu</dt>\n",
       "\t\t<dd>0</dd>\n",
       "\t<dt>daytue</dt>\n",
       "\t\t<dd>0</dd>\n",
       "\t<dt>daywed</dt>\n",
       "\t\t<dd>0</dd>\n",
       "\t<dt>DMC</dt>\n",
       "\t\t<dd>0.000123948413285977</dd>\n",
       "\t<dt>DC</dt>\n",
       "\t\t<dd>0</dd>\n",
       "\t<dt>ISI</dt>\n",
       "\t\t<dd>0</dd>\n",
       "\t<dt>temp</dt>\n",
       "\t\t<dd>0.00056565581363048</dd>\n",
       "\t<dt>RH</dt>\n",
       "\t\t<dd>0</dd>\n",
       "\t<dt>wind</dt>\n",
       "\t\t<dd>0</dd>\n",
       "\t<dt>rain</dt>\n",
       "\t\t<dd>0</dd>\n",
       "\t<dt>tran_FFMC</dt>\n",
       "\t\t<dd>0</dd>\n",
       "</dl>\n"
      ],
      "text/latex": [
       "\\begin{description*}\n",
       "\\item[(Intercept)] 1.08560523737774\n",
       "\\item[X2] 0\n",
       "\\item[X3] -0.351754602568631\n",
       "\\item[X4] 0\n",
       "\\item[X5] -0.00650937670514821\n",
       "\\item[X6] 0\n",
       "\\item[X7] 0\n",
       "\\item[X8] 0\n",
       "\\item[X9] 0\n",
       "\\item[Y2] -0.0375272421119019\n",
       "\\item[Y3] 0\n",
       "\\item[Y4] 0\n",
       "\\item[Y5] 0\n",
       "\\item[Y6] 0\n",
       "\\item[Y7] 0\n",
       "\\item[Y8] 2.19617326628195\n",
       "\\item[Y9] 0\n",
       "\\item[monthfeb] 0\n",
       "\\item[monthmar] -0.00493605373728905\n",
       "\\item[monthapr] 0\n",
       "\\item[monthmay] 0\n",
       "\\item[monthjun] 0\n",
       "\\item[monthjul] 0\n",
       "\\item[monthaug] 0\n",
       "\\item[monthsep] 0.0813019158404773\n",
       "\\item[monthoct] 0\n",
       "\\item[monthnov] 0\n",
       "\\item[monthdec] 0.887896821721894\n",
       "\\item[daymon] 0\n",
       "\\item[daysat] 0\n",
       "\\item[daysun] 0\n",
       "\\item[daythu] 0\n",
       "\\item[daytue] 0\n",
       "\\item[daywed] 0\n",
       "\\item[DMC] 0.000123948413285977\n",
       "\\item[DC] 0\n",
       "\\item[ISI] 0\n",
       "\\item[temp] 0.00056565581363048\n",
       "\\item[RH] 0\n",
       "\\item[wind] 0\n",
       "\\item[rain] 0\n",
       "\\item[tran\\textbackslash{}\\_FFMC] 0\n",
       "\\end{description*}\n"
      ],
      "text/markdown": [
       "(Intercept)\n",
       ":   1.08560523737774X2\n",
       ":   0X3\n",
       ":   -0.351754602568631X4\n",
       ":   0X5\n",
       ":   -0.00650937670514821X6\n",
       ":   0X7\n",
       ":   0X8\n",
       ":   0X9\n",
       ":   0Y2\n",
       ":   -0.0375272421119019Y3\n",
       ":   0Y4\n",
       ":   0Y5\n",
       ":   0Y6\n",
       ":   0Y7\n",
       ":   0Y8\n",
       ":   2.19617326628195Y9\n",
       ":   0monthfeb\n",
       ":   0monthmar\n",
       ":   -0.00493605373728905monthapr\n",
       ":   0monthmay\n",
       ":   0monthjun\n",
       ":   0monthjul\n",
       ":   0monthaug\n",
       ":   0monthsep\n",
       ":   0.0813019158404773monthoct\n",
       ":   0monthnov\n",
       ":   0monthdec\n",
       ":   0.887896821721894daymon\n",
       ":   0daysat\n",
       ":   0daysun\n",
       ":   0daythu\n",
       ":   0daytue\n",
       ":   0daywed\n",
       ":   0DMC\n",
       ":   0.000123948413285977DC\n",
       ":   0ISI\n",
       ":   0temp\n",
       ":   0.00056565581363048RH\n",
       ":   0wind\n",
       ":   0rain\n",
       ":   0tran_FFMC\n",
       ":   0\n",
       "\n"
      ],
      "text/plain": [
       "  (Intercept)            X2            X3            X4            X5 \n",
       " 1.0856052374  0.0000000000 -0.3517546026  0.0000000000 -0.0065093767 \n",
       "           X6            X7            X8            X9            Y2 \n",
       " 0.0000000000  0.0000000000  0.0000000000  0.0000000000 -0.0375272421 \n",
       "           Y3            Y4            Y5            Y6            Y7 \n",
       " 0.0000000000  0.0000000000  0.0000000000  0.0000000000  0.0000000000 \n",
       "           Y8            Y9      monthfeb      monthmar      monthapr \n",
       " 2.1961732663  0.0000000000  0.0000000000 -0.0049360537  0.0000000000 \n",
       "     monthmay      monthjun      monthjul      monthaug      monthsep \n",
       " 0.0000000000  0.0000000000  0.0000000000  0.0000000000  0.0813019158 \n",
       "     monthoct      monthnov      monthdec        daymon        daysat \n",
       " 0.0000000000  0.0000000000  0.8878968217  0.0000000000  0.0000000000 \n",
       "       daysun        daythu        daytue        daywed           DMC \n",
       " 0.0000000000  0.0000000000  0.0000000000  0.0000000000  0.0001239484 \n",
       "           DC           ISI          temp            RH          wind \n",
       " 0.0000000000  0.0000000000  0.0005656558  0.0000000000  0.0000000000 \n",
       "         rain     tran_FFMC \n",
       " 0.0000000000  0.0000000000 "
      ]
     },
     "metadata": {},
     "output_type": "display_data"
    }
   ],
   "source": [
    "fit.lasso <- glmnet(xmat, log(fire_df$area+1), alpha = 1)\n",
    "predict(fit.lasso, s = bestlam, type = \"coefficients\")[1:42, ]"
   ]
  },
  {
   "cell_type": "markdown",
   "metadata": {},
   "source": [
    "The above result shows that 33 of the 42 coefficient estimates are exactly zero. So the lasso model with $\\lambda$ chosen by cross-validation contains only **nine** variable, besides the intercept. "
   ]
  },
  {
   "cell_type": "markdown",
   "metadata": {},
   "source": [
    "## Tree based Non-linear models"
   ]
  },
  {
   "cell_type": "markdown",
   "metadata": {},
   "source": [
    "Varaiable selection in non-linear tree based models, eg. Decision tree for Regression is done based on Mean Square Error (MSE) Impurity.\n",
    "\n",
    "Calulation for Feature importance is done consideting decrease in node impurity weighted by the probability of reaching that node. \n",
    "\n",
    "The node probability can be calculated by the number of samples that reach the node, divided by the total number of samples.\n",
    "\n",
    "If the value at each node is higher, the feature is more important."
   ]
  },
  {
   "cell_type": "markdown",
   "metadata": {},
   "source": [
    "**feature_importance += number_of_samples_at_parent_where_feature_is_used * impurity_at_parent-left_child_samples***\n",
    "                            **impurity_leftnode-right_child_samples * impurity_rightnode**"
   ]
  },
  {
   "cell_type": "markdown",
   "metadata": {},
   "source": [
    "Impurity can be written as:\n",
    "\n",
    "**normalized_importance = feature_importance/number_of_samples_root_node(total number of samples)**"
   ]
  },
  {
   "cell_type": "code",
   "execution_count": 100,
   "metadata": {},
   "outputs": [
    {
     "name": "stdout",
     "output_type": "stream",
     "text": [
      "Call:\n",
      "rpart(formula = log(area + 1) ~ ., data = fire_df, method = \"anova\", \n",
      "    control = list(minsplit = 14, maxdepth = 14, cp = 0.01))\n",
      "  n= 515 \n",
      "\n",
      "          CP nsplit rel error   xerror       xstd\n",
      "1 0.02299189      0 1.0000000 1.002226 0.07528658\n",
      "2 0.01893317      1 0.9770081 1.077643 0.07828243\n",
      "3 0.01613102      3 0.9391418 1.082304 0.07860699\n",
      "4 0.01402669      4 0.9230108 1.123982 0.08339972\n",
      "5 0.01309087      5 0.9089841 1.162088 0.08367428\n",
      "6 0.01291525     11 0.8295460 1.163496 0.08395236\n",
      "7 0.01070482     13 0.8037155 1.186441 0.08714532\n",
      "8 0.01000000     14 0.7930107 1.241026 0.09054649\n",
      "\n",
      "Variable importance\n",
      "     temp        RH         X       DMC     month         Y       day        DC \n",
      "       18        17        13        12         9         7         6         5 \n",
      " temp_cat      FFMC tran_FFMC      wind       ISI \n",
      "        4         3         2         1         1 \n",
      "\n",
      "Node number 1: 515 observations,    complexity param=0.02299189\n",
      "  mean=1.11534, MSE=1.954608 \n",
      "  left son=2 (85 obs) right son=3 (430 obs)\n",
      "  Primary splits:\n",
      "      X     splits as  RRLRLRRRR, improve=0.02299189, (0 missing)\n",
      "      month splits as  LLLLRLLLLLLR, improve=0.01954192, (0 missing)\n",
      "      temp  < 5.2        to the right, improve=0.01840393, (0 missing)\n",
      "      DMC   < 118.45     to the left,  improve=0.01367394, (0 missing)\n",
      "      wind  < 8.25       to the left,  improve=0.01141503, (0 missing)\n",
      "\n",
      "Node number 2: 85 observations\n",
      "  mean=0.6385342, MSE=0.9517522 \n",
      "\n",
      "Node number 3: 430 observations,    complexity param=0.01893317\n",
      "  mean=1.209593, MSE=2.099023 \n",
      "  left son=6 (248 obs) right son=7 (182 obs)\n",
      "  Primary splits:\n",
      "      DMC   < 118.45     to the left,  improve=0.019602000, (0 missing)\n",
      "      month splits as  LLLLLLLLLLLR, improve=0.017094250, (0 missing)\n",
      "      temp  < 5.2        to the right, improve=0.015574120, (0 missing)\n",
      "      Y     splits as  -LRRRR-RL, improve=0.012195730, (0 missing)\n",
      "      wind  < 8.25       to the left,  improve=0.008733092, (0 missing)\n",
      "  Surrogate splits:\n",
      "      FFMC      < 92.45      to the left,  agree=0.702, adj=0.297, (0 split)\n",
      "      tran_FFMC < 0.3892864  to the left,  agree=0.702, adj=0.297, (0 split)\n",
      "      month     splits as  LLLLLLLRLLLL, agree=0.698, adj=0.286, (0 split)\n",
      "      DC        < 560.8      to the left,  agree=0.688, adj=0.264, (0 split)\n",
      "      temp      < 20.85      to the left,  agree=0.663, adj=0.203, (0 split)\n",
      "\n",
      "Node number 6: 248 observations,    complexity param=0.01893317\n",
      "  mean=1.035825, MSE=1.662896 \n",
      "  left son=12 (238 obs) right son=13 (10 obs)\n",
      "  Primary splits:\n",
      "      month splits as  LLLLRLLLLLLR, improve=0.04952679, (0 missing)\n",
      "      wind  < 8.25       to the left,  improve=0.03830840, (0 missing)\n",
      "      temp  < 5.2        to the right, improve=0.03762481, (0 missing)\n",
      "      Y     splits as  -LRRRR--L, improve=0.03119410, (0 missing)\n",
      "      X     splits as  LL-R-RRRR, improve=0.02317283, (0 missing)\n",
      "  Surrogate splits:\n",
      "      temp < 5.2        to the right, agree=0.976, adj=0.4, (0 split)\n",
      "      RH   < 21.5       to the right, agree=0.964, adj=0.1, (0 split)\n",
      "\n",
      "Node number 7: 182 observations,    complexity param=0.01613102\n",
      "  mean=1.446375, MSE=2.596096 \n",
      "  left son=14 (173 obs) right son=15 (9 obs)\n",
      "  Primary splits:\n",
      "      DMC   < 121.15     to the right, improve=0.03436659, (0 missing)\n",
      "      month splits as  -----LRLR---, improve=0.02728559, (0 missing)\n",
      "      day   splits as  LLRRLRR, improve=0.02102821, (0 missing)\n",
      "      RH    < 53.5       to the right, improve=0.01976519, (0 missing)\n",
      "      X     splits as  RR-R-LLLR, improve=0.01790640, (0 missing)\n",
      "\n",
      "Node number 12: 238 observations,    complexity param=0.01402669\n",
      "  mean=0.977, MSE=1.608077 \n",
      "  left son=24 (110 obs) right son=25 (128 obs)\n",
      "  Primary splits:\n",
      "      X    splits as  LL-L-RRRR, improve=0.03689254, (0 missing)\n",
      "      Y    splits as  -LRRRR--L, improve=0.02774576, (0 missing)\n",
      "      temp < 24.25      to the left,  improve=0.01662909, (0 missing)\n",
      "      RH   < 73.5       to the right, improve=0.01646653, (0 missing)\n",
      "      FFMC < 92.25      to the right, improve=0.01187539, (0 missing)\n",
      "  Surrogate splits:\n",
      "      Y     splits as  -LLLRR--R, agree=0.655, adj=0.255, (0 split)\n",
      "      DMC   < 95.25      to the right, agree=0.626, adj=0.191, (0 split)\n",
      "      month splits as  LRRR-RRLRRR-, agree=0.613, adj=0.164, (0 split)\n",
      "      DC    < 499.6      to the right, agree=0.584, adj=0.100, (0 split)\n",
      "      FFMC  < 92         to the right, agree=0.576, adj=0.082, (0 split)\n",
      "\n",
      "Node number 13: 10 observations\n",
      "  mean=2.435867, MSE=0.9251244 \n",
      "\n",
      "Node number 14: 173 observations,    complexity param=0.01309087\n",
      "  mean=1.378247, MSE=2.330629 \n",
      "  left son=28 (81 obs) right son=29 (92 obs)\n",
      "  Primary splits:\n",
      "      X     splits as  RR-R-LLLR, improve=0.02118466, (0 missing)\n",
      "      temp  < 26.05      to the left,  improve=0.01771439, (0 missing)\n",
      "      day   splits as  RLRRLRR, improve=0.01745001, (0 missing)\n",
      "      month splits as  -----LRLR---, improve=0.01651024, (0 missing)\n",
      "      RH    < 53.5       to the right, improve=0.01525942, (0 missing)\n",
      "  Surrogate splits:\n",
      "      Y    splits as  -RRRRL-LR, agree=0.705, adj=0.370, (0 split)\n",
      "      RH   < 59.5       to the right, agree=0.601, adj=0.148, (0 split)\n",
      "      temp < 19.8       to the left,  agree=0.590, adj=0.123, (0 split)\n",
      "      DC   < 676.65     to the left,  agree=0.584, adj=0.111, (0 split)\n",
      "      wind < 4.25       to the right, agree=0.584, adj=0.111, (0 split)\n",
      "\n",
      "Node number 15: 9 observations\n",
      "  mean=2.75595, MSE=5.89475 \n",
      "\n",
      "Node number 24: 110 observations\n",
      "  mean=0.7142569, MSE=1.153109 \n",
      "\n",
      "Node number 25: 128 observations,    complexity param=0.01291525\n",
      "  mean=1.202795, MSE=1.888755 \n",
      "  left son=50 (31 obs) right son=51 (97 obs)\n",
      "  Primary splits:\n",
      "      RH   < 32.5       to the left,  improve=0.04539696, (0 missing)\n",
      "      DMC  < 36.7       to the left,  improve=0.02674738, (0 missing)\n",
      "      ISI  < 9.3        to the left,  improve=0.02554635, (0 missing)\n",
      "      DC   < 734        to the left,  improve=0.02493286, (0 missing)\n",
      "      wind < 2.9        to the left,  improve=0.02363481, (0 missing)\n",
      "  Surrogate splits:\n",
      "      temp  < 23.1       to the right, agree=0.797, adj=0.161, (0 split)\n",
      "      month splits as  -RRR-RRRRRL-, agree=0.766, adj=0.032, (0 split)\n",
      "      ISI   < 14.35      to the right, agree=0.766, adj=0.032, (0 split)\n",
      "\n",
      "Node number 28: 81 observations,    complexity param=0.01309087\n",
      "  mean=1.141437, MSE=2.269715 \n",
      "  left son=56 (69 obs) right son=57 (12 obs)\n",
      "  Primary splits:\n",
      "      temp     < 26.85      to the left,  improve=0.07904212, (0 missing)\n",
      "      temp_cat splits as  LLR, improve=0.06578326, (0 missing)\n",
      "      day      splits as  LLRLRRL, improve=0.06083025, (0 missing)\n",
      "      RH       < 36.5       to the right, improve=0.05237819, (0 missing)\n",
      "      wind     < 4.25       to the left,  improve=0.04484761, (0 missing)\n",
      "  Surrogate splits:\n",
      "      RH       < 31.5       to the right, agree=0.938, adj=0.583, (0 split)\n",
      "      temp_cat splits as  LLR, agree=0.914, adj=0.417, (0 split)\n",
      "\n",
      "Node number 29: 92 observations,    complexity param=0.01309087\n",
      "  mean=1.586742, MSE=2.291417 \n",
      "  left son=58 (63 obs) right son=59 (29 obs)\n",
      "  Primary splits:\n",
      "      day   splits as  LLLRLLR, improve=0.05242311, (0 missing)\n",
      "      DMC   < 134.4      to the right, improve=0.05083648, (0 missing)\n",
      "      month splits as  -----LRLR---, improve=0.04337276, (0 missing)\n",
      "      Y     splits as  -LRRRR--L, improve=0.03344869, (0 missing)\n",
      "      ISI   < 10.5       to the right, improve=0.02768134, (0 missing)\n",
      "  Surrogate splits:\n",
      "      ISI  < 17.25      to the left,  agree=0.707, adj=0.069, (0 split)\n",
      "      temp < 15.65      to the right, agree=0.707, adj=0.069, (0 split)\n",
      "      wind < 3.8        to the left,  agree=0.707, adj=0.069, (0 split)\n",
      "      DMC  < 273.05     to the left,  agree=0.696, adj=0.034, (0 split)\n",
      "      DC   < 818.6      to the left,  agree=0.696, adj=0.034, (0 split)\n",
      "\n",
      "Node number 50: 31 observations\n",
      "  mean=0.6848229, MSE=1.00338 \n",
      "\n",
      "Node number 51: 97 observations,    complexity param=0.01291525\n",
      "  mean=1.368332, MSE=2.058564 \n",
      "  left son=102 (69 obs) right son=103 (28 obs)\n",
      "  Primary splits:\n",
      "      temp      < 19.55      to the left,  improve=0.07525210, (0 missing)\n",
      "      RH        < 71.5       to the right, improve=0.04939773, (0 missing)\n",
      "      DMC       < 36.5       to the left,  improve=0.03930762, (0 missing)\n",
      "      FFMC      < 90.45      to the left,  improve=0.03799724, (0 missing)\n",
      "      tran_FFMC < -0.1217938 to the left,  improve=0.03799724, (0 missing)\n",
      "  Surrogate splits:\n",
      "      RH        < 41.5       to the right, agree=0.784, adj=0.250, (0 split)\n",
      "      DMC       < 101.8      to the left,  agree=0.763, adj=0.179, (0 split)\n",
      "      FFMC      < 91.3       to the left,  agree=0.753, adj=0.143, (0 split)\n",
      "      DC        < 744.85     to the left,  agree=0.753, adj=0.143, (0 split)\n",
      "      tran_FFMC < 0.09270636 to the left,  agree=0.753, adj=0.143, (0 split)\n",
      "\n",
      "Node number 56: 69 observations\n",
      "  mean=0.9648007, MSE=1.811989 \n",
      "\n",
      "Node number 57: 12 observations\n",
      "  mean=2.157099, MSE=3.690665 \n",
      "\n",
      "Node number 58: 63 observations,    complexity param=0.01309087\n",
      "  mean=1.351593, MSE=1.938471 \n",
      "  left son=116 (14 obs) right son=117 (49 obs)\n",
      "  Primary splits:\n",
      "      RH       < 27.5       to the left,  improve=0.13193950, (0 missing)\n",
      "      temp     < 23.65      to the right, improve=0.10991000, (0 missing)\n",
      "      temp_cat splits as  RRL, improve=0.09110054, (0 missing)\n",
      "      DMC      < 132        to the right, improve=0.06164587, (0 missing)\n",
      "      DC       < 610.25     to the right, improve=0.05748709, (0 missing)\n",
      "  Surrogate splits:\n",
      "      temp      < 27.6       to the right, agree=0.857, adj=0.357, (0 split)\n",
      "      wind      < 1.55       to the left,  agree=0.825, adj=0.214, (0 split)\n",
      "      FFMC      < 95.5       to the right, agree=0.794, adj=0.071, (0 split)\n",
      "      tran_FFMC < 1.212612   to the right, agree=0.794, adj=0.071, (0 split)\n",
      "\n",
      "Node number 59: 29 observations,    complexity param=0.01309087\n",
      "  mean=2.097582, MSE=2.677081 \n",
      "  left son=118 (21 obs) right son=119 (8 obs)\n",
      "  Primary splits:\n",
      "      RH    < 29.5       to the right, improve=0.2015877, (0 missing)\n",
      "      wind  < 5.15       to the right, improve=0.1718489, (0 missing)\n",
      "      ISI   < 10.35      to the right, improve=0.1523975, (0 missing)\n",
      "      month splits as  ------LLR---, improve=0.1445326, (0 missing)\n",
      "      DMC   < 140.35     to the right, improve=0.1147435, (0 missing)\n",
      "  Surrogate splits:\n",
      "      temp     < 25.85      to the left,  agree=0.862, adj=0.500, (0 split)\n",
      "      temp_cat splits as  LLR, agree=0.828, adj=0.375, (0 split)\n",
      "      Y        splits as  -LLLLR---, agree=0.759, adj=0.125, (0 split)\n",
      "      DMC      < 136.35     to the right, agree=0.759, adj=0.125, (0 split)\n",
      "\n",
      "Node number 102: 69 observations\n",
      "  mean=1.117608, MSE=1.582294 \n",
      "\n",
      "Node number 103: 28 observations,    complexity param=0.01070482\n",
      "  mean=1.986188, MSE=2.695572 \n",
      "  left son=206 (21 obs) right son=207 (7 obs)\n",
      "  Primary splits:\n",
      "      day       splits as  LRLLLRL, improve=0.14277010, (0 missing)\n",
      "      ISI       < 6.8        to the right, improve=0.09387359, (0 missing)\n",
      "      FFMC      < 91.75      to the right, improve=0.07384429, (0 missing)\n",
      "      tran_FFMC < 0.2079189  to the right, improve=0.07384429, (0 missing)\n",
      "      RH        < 44         to the left,  improve=0.07262848, (0 missing)\n",
      "  Surrogate splits:\n",
      "      DC  < 757.75     to the left,  agree=0.893, adj=0.571, (0 split)\n",
      "      ISI < 6.8        to the right, agree=0.821, adj=0.286, (0 split)\n",
      "      DMC < 108.2      to the left,  agree=0.786, adj=0.143, (0 split)\n",
      "\n",
      "Node number 116: 14 observations\n",
      "  mean=0.4054629, MSE=0.5278387 \n",
      "\n",
      "Node number 117: 49 observations\n",
      "  mean=1.621916, MSE=2.012674 \n",
      "\n",
      "Node number 118: 21 observations,    complexity param=0.01309087\n",
      "  mean=1.644164, MSE=2.188517 \n",
      "  left son=236 (7 obs) right son=237 (14 obs)\n",
      "  Primary splits:\n",
      "      Y    splits as  -LRRL----, improve=0.3062810, (0 missing)\n",
      "      ISI  < 10.35      to the right, improve=0.1745513, (0 missing)\n",
      "      temp < 23.15      to the right, improve=0.1371183, (0 missing)\n",
      "      RH   < 42.5       to the left,  improve=0.1203379, (0 missing)\n",
      "      wind < 5.15       to the right, improve=0.1171660, (0 missing)\n",
      "  Surrogate splits:\n",
      "      temp     < 14.15      to the left,  agree=0.762, adj=0.286, (0 split)\n",
      "      month    splits as  ------LRR---, agree=0.714, adj=0.143, (0 split)\n",
      "      DC       < 603.6      to the left,  agree=0.714, adj=0.143, (0 split)\n",
      "      RH       < 70.5       to the right, agree=0.714, adj=0.143, (0 split)\n",
      "      temp_cat splits as  LRR, agree=0.714, adj=0.143, (0 split)\n",
      "\n",
      "Node number 119: 8 observations\n",
      "  mean=3.287802, MSE=2.003268 \n",
      "\n",
      "Node number 206: 21 observations\n",
      "  mean=1.628023, MSE=2.04515 \n",
      "\n",
      "Node number 207: 7 observations\n",
      "  mean=3.060684, MSE=3.107451 \n",
      "\n",
      "Node number 236: 7 observations\n",
      "  mean=0.4863204, MSE=0.61757 \n",
      "\n",
      "Node number 237: 14 observations\n",
      "  mean=2.223086, MSE=1.968539 \n",
      "\n"
     ]
    }
   ],
   "source": [
    "fit <- rpart(log(area+1) ~ ., method=\"anova\", data=fire_df,\n",
    "             control = list(minsplit = 14, maxdepth = 14, cp=0.01))\n",
    "summary(fit)"
   ]
  },
  {
   "cell_type": "markdown",
   "metadata": {},
   "source": [
    "So, from the above model, we got variable importance measures as follows:\n",
    "\n",
    "Variable importance\n",
    "\n",
    "     temp        RH         X       DMC     month         Y       day        DC \n",
    "       18        17        13        12         9         7         6         5 \n",
    "  \n",
    "  \n",
    "    temp_cat      FFMC tran_FFMC      wind       ISI \n",
    "        4           3         2         1         1 "
   ]
  },
  {
   "cell_type": "markdown",
   "metadata": {},
   "source": [
    "So, the selection of variables can be done based on above values"
   ]
  },
  {
   "cell_type": "markdown",
   "metadata": {},
   "source": [
    "### Feature importance for LightGBM"
   ]
  },
  {
   "cell_type": "code",
   "execution_count": 101,
   "metadata": {},
   "outputs": [
    {
     "name": "stdout",
     "output_type": "stream",
     "text": [
      "[1]:\ttrain's rmse:1.39788 \n",
      "[2]:\ttrain's rmse:1.3977 \n",
      "[3]:\ttrain's rmse:1.39751 \n",
      "[4]:\ttrain's rmse:1.39732 \n",
      "[5]:\ttrain's rmse:1.39713 \n",
      "[6]:\ttrain's rmse:1.39695 \n",
      "[7]:\ttrain's rmse:1.39676 \n",
      "[8]:\ttrain's rmse:1.39657 \n",
      "[9]:\ttrain's rmse:1.39639 \n",
      "[10]:\ttrain's rmse:1.3962 \n",
      "[11]:\ttrain's rmse:1.39602 \n",
      "[12]:\ttrain's rmse:1.39583 \n",
      "[13]:\ttrain's rmse:1.39565 \n",
      "[14]:\ttrain's rmse:1.39547 \n",
      "[15]:\ttrain's rmse:1.39528 \n",
      "[16]:\ttrain's rmse:1.39508 \n",
      "[17]:\ttrain's rmse:1.3949 \n",
      "[18]:\ttrain's rmse:1.39471 \n",
      "[19]:\ttrain's rmse:1.39451 \n",
      "[20]:\ttrain's rmse:1.39433 \n",
      "[21]:\ttrain's rmse:1.39415 \n",
      "[22]:\ttrain's rmse:1.39395 \n",
      "[23]:\ttrain's rmse:1.39376 \n",
      "[24]:\ttrain's rmse:1.39358 \n",
      "[25]:\ttrain's rmse:1.39338 \n",
      "[26]:\ttrain's rmse:1.3932 \n",
      "[27]:\ttrain's rmse:1.39302 \n",
      "[28]:\ttrain's rmse:1.39282 \n",
      "[29]:\ttrain's rmse:1.39264 \n",
      "[30]:\ttrain's rmse:1.39247 \n",
      "[31]:\ttrain's rmse:1.39227 \n",
      "[32]:\ttrain's rmse:1.39209 \n",
      "[33]:\ttrain's rmse:1.39191 \n",
      "[34]:\ttrain's rmse:1.39171 \n",
      "[35]:\ttrain's rmse:1.39153 \n",
      "[36]:\ttrain's rmse:1.39136 \n",
      "[37]:\ttrain's rmse:1.39116 \n",
      "[38]:\ttrain's rmse:1.39098 \n",
      "[39]:\ttrain's rmse:1.39081 \n",
      "[40]:\ttrain's rmse:1.39061 \n",
      "[41]:\ttrain's rmse:1.39044 \n",
      "[42]:\ttrain's rmse:1.39026 \n",
      "[43]:\ttrain's rmse:1.39006 \n",
      "[44]:\ttrain's rmse:1.38989 \n",
      "[45]:\ttrain's rmse:1.38972 \n",
      "[46]:\ttrain's rmse:1.38952 \n",
      "[47]:\ttrain's rmse:1.38935 \n",
      "[48]:\ttrain's rmse:1.38917 \n",
      "[49]:\ttrain's rmse:1.38898 \n",
      "[50]:\ttrain's rmse:1.38881 \n",
      "[51]:\ttrain's rmse:1.38862 \n",
      "[52]:\ttrain's rmse:1.38845 \n",
      "[53]:\ttrain's rmse:1.38826 \n",
      "[54]:\ttrain's rmse:1.38809 \n",
      "[55]:\ttrain's rmse:1.3879 \n",
      "[56]:\ttrain's rmse:1.38773 \n",
      "[57]:\ttrain's rmse:1.38754 \n",
      "[58]:\ttrain's rmse:1.38735 \n",
      "[59]:\ttrain's rmse:1.38716 \n",
      "[60]:\ttrain's rmse:1.38698 \n",
      "[61]:\ttrain's rmse:1.38679 \n",
      "[62]:\ttrain's rmse:1.3866 \n",
      "[63]:\ttrain's rmse:1.38641 \n",
      "[64]:\ttrain's rmse:1.38623 \n",
      "[65]:\ttrain's rmse:1.38604 \n",
      "[66]:\ttrain's rmse:1.38587 \n",
      "[67]:\ttrain's rmse:1.38569 \n",
      "[68]:\ttrain's rmse:1.3855 \n",
      "[69]:\ttrain's rmse:1.38531 \n",
      "[70]:\ttrain's rmse:1.38513 \n",
      "[71]:\ttrain's rmse:1.38494 \n",
      "[72]:\ttrain's rmse:1.38476 \n",
      "[73]:\ttrain's rmse:1.38457 \n",
      "[74]:\ttrain's rmse:1.38439 \n",
      "[75]:\ttrain's rmse:1.38421 \n",
      "[76]:\ttrain's rmse:1.38402 \n",
      "[77]:\ttrain's rmse:1.38384 \n",
      "[78]:\ttrain's rmse:1.38366 \n",
      "[79]:\ttrain's rmse:1.38347 \n",
      "[80]:\ttrain's rmse:1.38331 \n",
      "[81]:\ttrain's rmse:1.38313 \n",
      "[82]:\ttrain's rmse:1.38295 \n",
      "[83]:\ttrain's rmse:1.38276 \n",
      "[84]:\ttrain's rmse:1.38258 \n",
      "[85]:\ttrain's rmse:1.3824 \n",
      "[86]:\ttrain's rmse:1.38222 \n",
      "[87]:\ttrain's rmse:1.38204 \n",
      "[88]:\ttrain's rmse:1.38185 \n",
      "[89]:\ttrain's rmse:1.38168 \n",
      "[90]:\ttrain's rmse:1.38149 \n",
      "[91]:\ttrain's rmse:1.38132 \n",
      "[92]:\ttrain's rmse:1.38113 \n",
      "[93]:\ttrain's rmse:1.38096 \n",
      "[94]:\ttrain's rmse:1.38078 \n",
      "[95]:\ttrain's rmse:1.38062 \n",
      "[96]:\ttrain's rmse:1.38044 \n",
      "[97]:\ttrain's rmse:1.38026 \n",
      "[98]:\ttrain's rmse:1.38008 \n",
      "[99]:\ttrain's rmse:1.37991 \n",
      "[100]:\ttrain's rmse:1.37973 \n",
      "[101]:\ttrain's rmse:1.37955 \n",
      "[102]:\ttrain's rmse:1.37937 \n",
      "[103]:\ttrain's rmse:1.3792 \n",
      "[104]:\ttrain's rmse:1.37902 \n",
      "[105]:\ttrain's rmse:1.37885 \n",
      "[106]:\ttrain's rmse:1.37867 \n",
      "[107]:\ttrain's rmse:1.37851 \n",
      "[108]:\ttrain's rmse:1.37833 \n",
      "[109]:\ttrain's rmse:1.37816 \n",
      "[110]:\ttrain's rmse:1.37798 \n",
      "[111]:\ttrain's rmse:1.37781 \n",
      "[112]:\ttrain's rmse:1.37763 \n",
      "[113]:\ttrain's rmse:1.37746 \n",
      "[114]:\ttrain's rmse:1.37728 \n",
      "[115]:\ttrain's rmse:1.3771 \n",
      "[116]:\ttrain's rmse:1.37693 \n",
      "[117]:\ttrain's rmse:1.37675 \n",
      "[118]:\ttrain's rmse:1.37658 \n",
      "[119]:\ttrain's rmse:1.37641 \n",
      "[120]:\ttrain's rmse:1.37623 \n",
      "[121]:\ttrain's rmse:1.37606 \n",
      "[122]:\ttrain's rmse:1.37589 \n",
      "[123]:\ttrain's rmse:1.37571 \n",
      "[124]:\ttrain's rmse:1.37556 \n",
      "[125]:\ttrain's rmse:1.37539 \n",
      "[126]:\ttrain's rmse:1.37522 \n",
      "[127]:\ttrain's rmse:1.37504 \n",
      "[128]:\ttrain's rmse:1.37487 \n",
      "[129]:\ttrain's rmse:1.37469 \n",
      "[130]:\ttrain's rmse:1.37452 \n",
      "[131]:\ttrain's rmse:1.37435 \n",
      "[132]:\ttrain's rmse:1.37418 \n",
      "[133]:\ttrain's rmse:1.37401 \n",
      "[134]:\ttrain's rmse:1.37383 \n",
      "[135]:\ttrain's rmse:1.37366 \n",
      "[136]:\ttrain's rmse:1.37351 \n",
      "[137]:\ttrain's rmse:1.37334 \n",
      "[138]:\ttrain's rmse:1.37317 \n",
      "[139]:\ttrain's rmse:1.373 \n",
      "[140]:\ttrain's rmse:1.37283 \n",
      "[141]:\ttrain's rmse:1.37266 \n",
      "[142]:\ttrain's rmse:1.37249 \n",
      "[143]:\ttrain's rmse:1.37232 \n",
      "[144]:\ttrain's rmse:1.37215 \n",
      "[145]:\ttrain's rmse:1.37198 \n",
      "[146]:\ttrain's rmse:1.37181 \n",
      "[147]:\ttrain's rmse:1.37164 \n",
      "[148]:\ttrain's rmse:1.37147 \n",
      "[149]:\ttrain's rmse:1.37131 \n",
      "[150]:\ttrain's rmse:1.37114 \n",
      "[151]:\ttrain's rmse:1.37099 \n",
      "[152]:\ttrain's rmse:1.37082 \n",
      "[153]:\ttrain's rmse:1.37066 \n",
      "[154]:\ttrain's rmse:1.37049 \n",
      "[155]:\ttrain's rmse:1.37033 \n",
      "[156]:\ttrain's rmse:1.37016 \n",
      "[157]:\ttrain's rmse:1.36999 \n",
      "[158]:\ttrain's rmse:1.36983 \n",
      "[159]:\ttrain's rmse:1.36966 \n",
      "[160]:\ttrain's rmse:1.3695 \n",
      "[161]:\ttrain's rmse:1.36933 \n",
      "[162]:\ttrain's rmse:1.36916 \n",
      "[163]:\ttrain's rmse:1.36902 \n",
      "[164]:\ttrain's rmse:1.36885 \n",
      "[165]:\ttrain's rmse:1.36869 \n",
      "[166]:\ttrain's rmse:1.36853 \n",
      "[167]:\ttrain's rmse:1.36837 \n",
      "[168]:\ttrain's rmse:1.36821 \n",
      "[169]:\ttrain's rmse:1.36804 \n",
      "[170]:\ttrain's rmse:1.36788 \n",
      "[171]:\ttrain's rmse:1.36772 \n",
      "[172]:\ttrain's rmse:1.36756 \n",
      "[173]:\ttrain's rmse:1.3674 \n",
      "[174]:\ttrain's rmse:1.36724 \n",
      "[175]:\ttrain's rmse:1.36708 \n",
      "[176]:\ttrain's rmse:1.36692 \n",
      "[177]:\ttrain's rmse:1.36676 \n",
      "[178]:\ttrain's rmse:1.3666 \n",
      "[179]:\ttrain's rmse:1.36646 \n",
      "[180]:\ttrain's rmse:1.3663 \n",
      "[181]:\ttrain's rmse:1.36614 \n",
      "[182]:\ttrain's rmse:1.36598 \n",
      "[183]:\ttrain's rmse:1.36582 \n",
      "[184]:\ttrain's rmse:1.36566 \n",
      "[185]:\ttrain's rmse:1.36551 \n",
      "[186]:\ttrain's rmse:1.36535 \n",
      "[187]:\ttrain's rmse:1.36519 \n",
      "[188]:\ttrain's rmse:1.36504 \n",
      "[189]:\ttrain's rmse:1.36488 \n",
      "[190]:\ttrain's rmse:1.36472 \n",
      "[191]:\ttrain's rmse:1.36457 \n",
      "[192]:\ttrain's rmse:1.36441 \n",
      "[193]:\ttrain's rmse:1.36425 \n",
      "[194]:\ttrain's rmse:1.3641 \n",
      "[195]:\ttrain's rmse:1.36396 \n",
      "[196]:\ttrain's rmse:1.3638 \n",
      "[197]:\ttrain's rmse:1.36365 \n",
      "[198]:\ttrain's rmse:1.36349 \n",
      "[199]:\ttrain's rmse:1.36334 \n",
      "[200]:\ttrain's rmse:1.36318 \n"
     ]
    }
   ],
   "source": [
    "bst <- lightgbm(\n",
    "    metric=\"rmse\",\n",
    "    data = train_sparse,\n",
    "    label = y_train,\n",
    "    num_leaves = 25,\n",
    "    learning_rate = 0.001,\n",
    "    nrounds = 200,\n",
    "    early_stopping_rounds=10,\n",
    "    objective = \"regression\"\n",
    ")"
   ]
  },
  {
   "cell_type": "code",
   "execution_count": 102,
   "metadata": {},
   "outputs": [
    {
     "data": {
      "image/png": "[encoded data removed]",
      "text/plain": [
       "Plot with title \"Feature Importance\""
      ]
     },
     "metadata": {},
     "output_type": "display_data"
    }
   ],
   "source": [
    "tree_imp <- lgb.importance(bst, percentage = TRUE)\n",
    "lgb.plot.importance(tree_imp, top_n = 9L, measure = \"Gain\")"
   ]
  },
  {
   "cell_type": "markdown",
   "metadata": {},
   "source": [
    "Here, the gain is the average training loss reduction gained when a particular feature is used for splitting. The importance of each feature is decided based on its overall gain value.[Read more](https://towardsdatascience.com/interpretable-machine-learning-with-xgboost-9ec80d148d27) \n",
    "\n",
    "From the above plot, we can see that temp has the highest normalized gain for splitting so it has been given highest importance followed by ISI, DMC, X, and DC."
   ]
  },
  {
   "cell_type": "markdown",
   "metadata": {},
   "source": [
    "## 6. Conclusion <a class=\"anchor\" id=\"sec_6\"></a>"
   ]
  },
  {
   "cell_type": "markdown",
   "metadata": {},
   "source": [
    "So, we have performed statistical analysis on bushfire area prediction is performed. Here, we looked at several statistical measures that needs to be considered while modelling specifically on this time of small dataset. Several linear and non-linear models were developed with model assessment and selection we decided the best model to use for prediction based on comparision of their performance. To get a better understanding of whether these variables affect prediction of fire, some insights on variable selection was developed.\n",
    "\n",
    "For further developement, several other predictors are necessaryto develop a more robust predictive model, and better answer the question of whether models for fire prediction change by season or not. Moreover, less number of data points and not enough information about the dataset makes it hard to conform the reasons for high spread of fire in certain regions. Year when each fire was caught is absent in the datast, which makes it more difficult to capture the non-linearity present."
   ]
  },
  {
   "cell_type": "markdown",
   "metadata": {},
   "source": [
    "## 7. References <a class=\"anchor\" id=\"sec_7\"></a>"
   ]
  },
  {
   "cell_type": "markdown",
   "metadata": {},
   "source": [
    "* Friedman, J., Hastie, T., Simon, N., Tibshirani, R. (2016). R Package: glmnet.<br>Documentation: https://cran.r-project.org/web/packages/glmnet/glmnet.pdf\n",
    "* Peters, A., Hothorn, T., Ripley, B., Therneau, T. (2019). R package: ipred.<br>Documentation: https://cran.r-project.org/web/packages/ipred/ipred.pdf\n",
    "* Atkinson, B., Ripley, B., Therneau, T. (2019). R package: rpart.<br>Documentation: https://cran.r-project.org/web/packages/rpart/rpart.pdf\n",
    "* Kuhn, M., Wing, J., Weston, S., Williams, A., Keefer, C. (2019). R package: caret.<br>Documentation: https://cran.r-project.org/web/packages/caret/caret.pdf\n",
    "* Guolin, K., Meng, Q., Finley, T., Wang, T., Chen, W., Ma, W., Ye, Q. \"LightGBM: A Highly Efficient Gradient Boosting Decision Tree\". Advances in Neural Information Processing Systems 30 (NIPS 2017), pp. 3149-3157.\n",
    "* Lundberg, S. (2018). *Interpretable Machine Learning with XGBoost*. <br>Retrieved from: https://towardsdatascience.com/interpretable-machine-learning-with-xgboost-9ec80d148d27\n",
    "* Malagaweather. *Fire Weather*. Retrived from: https://www.malagaweather.com/fwi-txt.htm\n",
    "* Auburn University. *Weather Elements that Affect Fire Behavior*. Retrived from: https://www.auburn.edu/academic/forestry_wildlife/fire/weather_elements.htm\n",
    "* Wikipedia. *Flammagenitus(Cloud)*. Retrived from: https://en.wikipedia.org/wiki/Flammagenitus_(cloud)\n",
    "* EUMetrain. *Forest fires*. Retrived from: http://www.eumetrain.org/data/3/30/navmenu.php?tab=3&page=6.0.0"
   ]
  },
  {
   "cell_type": "markdown",
   "metadata": {},
   "source": [
    "# Extra Work\n"
   ]
  },
  {
   "cell_type": "markdown",
   "metadata": {},
   "source": [
    "### Ridge Regularization"
   ]
  },
  {
   "cell_type": "code",
   "execution_count": 103,
   "metadata": {},
   "outputs": [],
   "source": [
    "train.mat <- model.matrix(log(area+1)~., data = fire_df[1:415,])[,-1]\n",
    "test.mat <- model.matrix(log(area+1)~ ., data = fire_df[416:515,])[,-1]"
   ]
  },
  {
   "cell_type": "code",
   "execution_count": 104,
   "metadata": {},
   "outputs": [],
   "source": [
    "grid <- 10^seq(4, -2, length = 100)"
   ]
  },
  {
   "cell_type": "code",
   "execution_count": 105,
   "metadata": {},
   "outputs": [
    {
     "data": {
      "text/html": [
       "1.32194114846603"
      ],
      "text/latex": [
       "1.32194114846603"
      ],
      "text/markdown": [
       "1.32194114846603"
      ],
      "text/plain": [
       "[1] 1.321941"
      ]
     },
     "metadata": {},
     "output_type": "display_data"
    }
   ],
   "source": [
    "set.seed(1)# the purpose of fixing the seed of the random number generator is to make the result repeatable.\n",
    "fit.ridge <- glmnet(train.mat, log(fire_df$area+1)[1:415], alpha = 0, lambda = grid, thresh = 1e-12)\n",
    "cv.ridge <- cv.glmnet(train.mat, log(fire_df$area+1)[1:415], alpha = 0, lambda = grid, thresh = 1e-12)\n",
    "bestlam.ridge <- cv.ridge$lambda.min\n",
    "bestlam.ridge"
   ]
  },
  {
   "cell_type": "code",
   "execution_count": 106,
   "metadata": {},
   "outputs": [
    {
     "data": {
      "text/html": [
       "2.49166346602079"
      ],
      "text/latex": [
       "2.49166346602079"
      ],
      "text/markdown": [
       "2.49166346602079"
      ],
      "text/plain": [
       "[1] 2.491663"
      ]
     },
     "metadata": {},
     "output_type": "display_data"
    }
   ],
   "source": [
    "pred.ridge <- predict(fit.ridge, s = bestlam.ridge, newx = test.mat)\n",
    "mean((pred.ridge - log(fire_df$area+1)[416:515])^2)"
   ]
  },
  {
   "cell_type": "markdown",
   "metadata": {},
   "source": [
    "L1 regularization:"
   ]
  },
  {
   "cell_type": "code",
   "execution_count": 107,
   "metadata": {},
   "outputs": [
    {
     "data": {
      "text/html": [
       "0.093260334688322"
      ],
      "text/latex": [
       "0.093260334688322"
      ],
      "text/markdown": [
       "0.093260334688322"
      ],
      "text/plain": [
       "[1] 0.09326033"
      ]
     },
     "metadata": {},
     "output_type": "display_data"
    }
   ],
   "source": [
    "set.seed(1)# the purpose of fixing the seed of the random number generator is to make the result repeatable.\n",
    "fit.ridge <- glmnet(train.mat, log(fire_df$area+1)[1:415], alpha = 1, lambda = grid, thresh = 1e-12)\n",
    "cv.ridge <- cv.glmnet(train.mat, log(fire_df$area+1)[1:415], alpha = 1, lambda = grid, thresh = 1e-12)\n",
    "bestlam.ridge <- cv.ridge$lambda.min\n",
    "bestlam.ridge"
   ]
  },
  {
   "cell_type": "code",
   "execution_count": 108,
   "metadata": {
    "scrolled": true
   },
   "outputs": [
    {
     "data": {
      "text/html": [
       "2.11540571806947"
      ],
      "text/latex": [
       "2.11540571806947"
      ],
      "text/markdown": [
       "2.11540571806947"
      ],
      "text/plain": [
       "[1] 2.115406"
      ]
     },
     "metadata": {},
     "output_type": "display_data"
    }
   ],
   "source": [
    "pred.ridge <- predict(fit.ridge, s = bestlam.ridge, newx = test.mat)\n",
    "mean((pred.ridge - log(fire_df$area+1)[416:515])^2)"
   ]
  }
 ],
 "metadata": {
  "kernelspec": {
   "display_name": "R",
   "language": "R",
   "name": "ir"
  },
  "language_info": {
   "codemirror_mode": "r",
   "file_extension": ".r",
   "mimetype": "text/x-r-source",
   "name": "R",
   "pygments_lexer": "r",
   "version": "3.5.1"
  }
 },
 "nbformat": 4,
 "nbformat_minor": 2
}
